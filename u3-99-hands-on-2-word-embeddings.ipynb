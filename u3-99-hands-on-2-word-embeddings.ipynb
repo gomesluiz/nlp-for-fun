{
  "nbformat": 4,
  "nbformat_minor": 0,
  "metadata": {
    "kernelspec": {
      "display_name": "Python 3",
      "name": "python3"
    },
    "language_info": {
      "name": "python"
    },
    "colab": {
      "provenance": [],
      "include_colab_link": true
    }
  },
  "cells": [
    {
      "cell_type": "markdown",
      "metadata": {
        "id": "view-in-github",
        "colab_type": "text"
      },
      "source": [
        "<a href=\"https://colab.research.google.com/github/gomesluiz/processamento-de-linguagem-natural/blob/main/u3-99-hands-on-2-word-embeddings.ipynb\" target=\"_parent\"><img src=\"https://colab.research.google.com/assets/colab-badge.svg\" alt=\"Open In Colab\"/></a>"
      ]
    },
    {
      "cell_type": "code",
      "source": [],
      "metadata": {
        "id": "Z1FJndVt0cTv"
      },
      "execution_count": null,
      "outputs": []
    },
    {
      "cell_type": "markdown",
      "metadata": {
        "id": "7Oh3sCHZU2aY"
      },
      "source": [
        "# Word Embeddings\n"
      ]
    },
    {
      "cell_type": "code",
      "source": [
        "!wget http://143.107.183.175:22980/download.php?file=embeddings/word2vec/cbow_s50.zip\n",
        "!unzip download.php?file=embeddings%2Fword2vec%2Fcbow_s50.zip"
      ],
      "metadata": {
        "id": "i9fF_YC40dzK",
        "outputId": "570994dd-f359-49fb-b7ce-f20033fae46b",
        "colab": {
          "base_uri": "https://localhost:8080/"
        }
      },
      "execution_count": null,
      "outputs": [
        {
          "output_type": "stream",
          "name": "stdout",
          "text": [
            "--2024-09-16 03:19:09--  http://143.107.183.175:22980/download.php?file=embeddings/word2vec/cbow_s50.zip\n",
            "Connecting to 143.107.183.175:22980... connected.\n",
            "HTTP request sent, awaiting response... 200 OK\n",
            "Length: 170360268 (162M) [application/octet-stream]\n",
            "Saving to: ‘download.php?file=embeddings%2Fword2vec%2Fcbow_s50.zip.2’\n",
            "\n",
            "download.php?file=e 100%[===================>] 162.47M  11.2MB/s    in 16s     \n",
            "\n",
            "2024-09-16 03:19:25 (10.4 MB/s) - ‘download.php?file=embeddings%2Fword2vec%2Fcbow_s50.zip.2’ saved [170360268/170360268]\n",
            "\n",
            "Archive:  download.php?file=embeddings%2Fword2vec%2Fcbow_s50.zip\n",
            "  inflating: cbow_s50.txt            \n"
          ]
        }
      ]
    },
    {
      "cell_type": "code",
      "source": [
        "# instalação dos pacotes necessários\n",
        "!pip install gensim==4.3.3\n"
      ],
      "metadata": {
        "id": "yD6LJExwkTvY",
        "outputId": "95aabf2d-f10f-4d6c-8981-3e8917a602ef",
        "colab": {
          "base_uri": "https://localhost:8080/"
        }
      },
      "execution_count": null,
      "outputs": [
        {
          "output_type": "stream",
          "name": "stdout",
          "text": [
            "Requirement already satisfied: gensim==4.3.3 in /usr/local/lib/python3.10/dist-packages (4.3.3)\n",
            "Requirement already satisfied: numpy<2.0,>=1.18.5 in /usr/local/lib/python3.10/dist-packages (from gensim==4.3.3) (1.26.4)\n",
            "Requirement already satisfied: scipy<1.14.0,>=1.7.0 in /usr/local/lib/python3.10/dist-packages (from gensim==4.3.3) (1.13.1)\n",
            "Requirement already satisfied: smart-open>=1.8.1 in /usr/local/lib/python3.10/dist-packages (from gensim==4.3.3) (7.0.4)\n",
            "Requirement already satisfied: wrapt in /usr/local/lib/python3.10/dist-packages (from smart-open>=1.8.1->gensim==4.3.3) (1.16.0)\n"
          ]
        }
      ]
    },
    {
      "cell_type": "code",
      "metadata": {
        "id": "VlypLoBCU2aZ",
        "outputId": "7f8fe8b7-12fd-4dd5-ecd9-5f7793487c1b",
        "colab": {
          "base_uri": "https://localhost:8080/"
        }
      },
      "source": [
        "# Importações da biblioteca padrão\n",
        "import datetime\n",
        "import sys\n",
        "from gensim.models import KeyedVectors\n",
        "\n",
        "print(\"Pacotes importados com sucesso; notebook pronto para uso!\")"
      ],
      "execution_count": null,
      "outputs": [
        {
          "output_type": "stream",
          "name": "stdout",
          "text": [
            "Pacotes importados com sucesso; notebook pronto para uso!\n"
          ]
        }
      ]
    },
    {
      "cell_type": "code",
      "source": [
        "# Declara define funções utilitárias utilizadas no notebook.\n",
        "def formata_msg(nivel, msg):\n",
        "    \"\"\"\n",
        "    Formata uma mensagem de log incluindo o nível de severidade, timestamp\n",
        "    e a mensagem.\n",
        "\n",
        "    Parâmetros:\n",
        "    - nivel (str): Nível de severidade da mensagem (ex: 'INFO', 'ERROR', 'WARNING').\n",
        "    - msg (str): A mensagem de log propriamente dita.\n",
        "\n",
        "    Retorna:\n",
        "    - str: A mensagem de log formatada.\n",
        "    \"\"\"\n",
        "    timestamp = datetime.datetime.now().strftime('%Y-%m-%d %H:%M:%S')\n",
        "\n",
        "    return f\"[{nivel}] {timestamp} - {msg}\"\n",
        "\n",
        "\n",
        "print(formata_msg(\"INFO\", \"Funções utilitárias prontas para utilização.\"))\n",
        "print(formata_msg(\"INFO\", f\"Versão do Python: {sys.version} \"))"
      ],
      "metadata": {
        "colab": {
          "base_uri": "https://localhost:8080/"
        },
        "id": "EW7hmVPuMNbq",
        "outputId": "abf7cacd-8c05-463f-cf3b-cd9b0628c383"
      },
      "execution_count": null,
      "outputs": [
        {
          "output_type": "stream",
          "name": "stdout",
          "text": [
            "[INFO] 2024-09-16 03:24:52 - Funções utilitárias prontas para utilização.\n",
            "[INFO] 2024-09-16 03:24:52 - Versão do Python: 3.10.12 (main, Jul 29 2024, 16:56:48) [GCC 11.4.0] \n"
          ]
        }
      ]
    },
    {
      "cell_type": "code",
      "source": [
        "word2vec = KeyedVectors.load_word2vec_format(\"cbow_s50.txt\")\n",
        "print(formata_msg(\"INFO\", \"Vetor de embeddings carregado com sucesso!\"))"
      ],
      "metadata": {
        "id": "beUgOO5ASa_a",
        "outputId": "a80f0d19-0a3c-4803-825b-d8d3a9597d10",
        "colab": {
          "base_uri": "https://localhost:8080/"
        }
      },
      "execution_count": null,
      "outputs": [
        {
          "output_type": "stream",
          "name": "stdout",
          "text": [
            "[INFO] 2024-09-16 03:27:46 - Vetor de embeddings carregado com sucesso!\n"
          ]
        }
      ]
    },
    {
      "cell_type": "markdown",
      "source": [
        "Mostrando o word embedding da palavra gato"
      ],
      "metadata": {
        "id": "E9Dac1HnNR-6"
      }
    },
    {
      "cell_type": "code",
      "source": [
        "print(formata_msg(\"INFO\",f\"\\n{word2vec['gato']}\"))"
      ],
      "metadata": {
        "id": "NDUKC1AmFREq",
        "outputId": "6b628abd-795a-4a3b-cf5c-5bb34a345be3",
        "colab": {
          "base_uri": "https://localhost:8080/"
        }
      },
      "execution_count": null,
      "outputs": [
        {
          "output_type": "stream",
          "name": "stdout",
          "text": [
            "[INFO] 2024-09-16 03:36:43 - \n",
            "[-0.130046 -0.156582  0.491478  0.02976   0.123148  0.134606 -0.123948\n",
            " -0.291795  0.240387  0.144952 -0.449176 -0.027002 -0.390096 -0.137229\n",
            "  0.055913  0.065231 -0.16374  -0.109643 -0.077968 -0.104958  0.060614\n",
            "  0.238939 -0.020744  0.601069  0.366672 -0.241247  0.216476  0.247695\n",
            "  0.208547  0.224761  0.359716 -0.212024  0.380294  0.30425  -0.210426\n",
            "  0.371031  0.280101 -0.133713 -0.537751  0.30237   0.074609  0.146398\n",
            "  0.08076  -0.063353  0.21863   0.100874  0.127091  0.15062  -0.441513\n",
            " -0.141407]\n"
          ]
        }
      ]
    },
    {
      "cell_type": "markdown",
      "source": [
        "Mostrando as palavras semelhantes ao verbo comer."
      ],
      "metadata": {
        "id": "a6quydtFLqh0"
      }
    },
    {
      "cell_type": "code",
      "source": [
        "word2vec.most_similar(\"comer\")"
      ],
      "metadata": {
        "id": "xn6N1h5WEWWU",
        "outputId": "44663865-4a60-4bef-9b64-0c43a98e8748",
        "colab": {
          "base_uri": "https://localhost:8080/"
        }
      },
      "execution_count": null,
      "outputs": [
        {
          "output_type": "execute_result",
          "data": {
            "text/plain": [
              "[('beber', 0.9393410682678223),\n",
              " ('mastigar', 0.9002227783203125),\n",
              " ('cozinhar', 0.8759810328483582),\n",
              " ('assar', 0.8670950531959534),\n",
              " ('fritar', 0.8498872518539429),\n",
              " ('secar', 0.8269991874694824),\n",
              " ('chupar', 0.820434033870697),\n",
              " ('descascar', 0.8190138936042786),\n",
              " ('moer', 0.8178039789199829),\n",
              " ('embrulhar', 0.8127646446228027)]"
            ]
          },
          "metadata": {},
          "execution_count": 18
        }
      ]
    },
    {
      "cell_type": "markdown",
      "source": [
        "Calculando a similaridade de cosseno entre rato e gato"
      ],
      "metadata": {
        "id": "chX1xYqg6O9O"
      }
    },
    {
      "cell_type": "code",
      "source": [
        "word2vec.similarity(\"rato\", \"gato\")"
      ],
      "metadata": {
        "id": "aJdwTa0paE3A",
        "outputId": "9378372f-0fde-4a74-d634-c6f8ac07fa61",
        "colab": {
          "base_uri": "https://localhost:8080/"
        }
      },
      "execution_count": null,
      "outputs": [
        {
          "output_type": "execute_result",
          "data": {
            "text/plain": [
              "0.813032"
            ]
          },
          "metadata": {},
          "execution_count": 26
        }
      ]
    },
    {
      "cell_type": "markdown",
      "metadata": {
        "id": "JhDqvmbOU2ap"
      },
      "source": [
        "Inferência lógica: amar + odiando - odiar =\n"
      ]
    },
    {
      "cell_type": "code",
      "source": [
        "word2vec.most_similar(positive=['amar', 'odiando'], negative=['odiar'])"
      ],
      "metadata": {
        "id": "ganbVZXv7uOG",
        "outputId": "c1885a0d-b3f9-4a98-efab-9503b7cbd10a",
        "colab": {
          "base_uri": "https://localhost:8080/"
        }
      },
      "execution_count": null,
      "outputs": [
        {
          "output_type": "execute_result",
          "data": {
            "text/plain": [
              "[('amando', 0.7472065687179565),\n",
              " ('desperto', 0.7231095433235168),\n",
              " ('quieto', 0.6835169196128845),\n",
              " ('tranqüilo', 0.6812532544136047),\n",
              " ('surdo', 0.6798273921012878),\n",
              " ('louco', 0.6784767508506775),\n",
              " ('quieta', 0.6757060289382935),\n",
              " ('sã³brio', 0.6748781204223633),\n",
              " ('rouco', 0.6719405651092529),\n",
              " ('sossegado', 0.6716687679290771)]"
            ]
          },
          "metadata": {},
          "execution_count": 28
        }
      ]
    }
  ]
}