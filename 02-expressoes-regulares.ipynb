{
  "nbformat": 4,
  "nbformat_minor": 0,
  "metadata": {
    "kernelspec": {
      "display_name": "nlp-class",
      "language": "python",
      "name": "nlp-class"
    },
    "language_info": {
      "codemirror_mode": {
        "name": "ipython",
        "version": 3
      },
      "file_extension": ".py",
      "mimetype": "text/x-python",
      "name": "python",
      "nbconvert_exporter": "python",
      "pygments_lexer": "ipython3",
      "version": "3.6.5"
    },
    "colab": {
      "provenance": [],
      "include_colab_link": true
    }
  },
  "cells": [
    {
      "cell_type": "markdown",
      "metadata": {
        "id": "view-in-github",
        "colab_type": "text"
      },
      "source": [
        "<a href=\"https://colab.research.google.com/github/gomesluiz/pln-na-pratica/blob/main/02-expressoes-regulares.ipynb\" target=\"_parent\"><img src=\"https://colab.research.google.com/assets/colab-badge.svg\" alt=\"Open In Colab\"/></a>"
      ]
    },
    {
      "cell_type": "markdown",
      "metadata": {
        "id": "7Oh3sCHZU2aY"
      },
      "source": [
        "# Expressões Regulares\n",
        "\n",
        "Para trabalhar com expressões regulares em Python, utilizamos o módulo **re**, que oferece uma ampla gama de funcionalidades para processamento de texto. Este módulo inclui métodos poderosos para a busca e manipulação de padrões em strings, facilitando tarefas complexas de análise de texto de maneira eficiente e eficaz. Vamos aprender como essas tarefas podem ser aplicadas em diferentes contextos de programação.\n",
        "\n",
        "## Métodos de pesquisa\n",
        "\n",
        "|   Método   |                                      Descrição                                     |\n",
        "|:----------:|:----------------------------------------------------------------------------------:|\n",
        "| match()    | Determina se a RE combina com o início da string.                                  |\n",
        "| search()   | Varre toda a string, procurando qualquer local onde esta RE tem correspondência.   |\n",
        "| findall()  | Encontra todas as substrings onde a RE corresponde, e as retorna como uma lista.   |\n",
        "| finditer() | Encontra todas as substrings onde a RE corresponde, e as retorna como um iterador. |\n",
        "\n",
        "## Métodos para modificar strings\n",
        "\n",
        "| Método  | Descrição                                                                                            |\n",
        "|---------|------------------------------------------------------------------------------------------------------|\n",
        "| split() | Divide a string em uma lista, dividindo-a onde quer que haja correspondência com a RE                |\n",
        "| sub()   | Encontra todas as substrings que correspondem com a RE e faz a substituição por uma string diferente |\n",
        "| subn()  |  É o mesmo que o método sub(), mas retorna a nova string e o número de substituições                 |\n",
        "\n",
        "<br/>\n",
        "Para explorar todas as funcionalidades da biblioteca re, acesse a documentação oficial pelo link: [Documentação da biblioteca re - Python 3.10](https://docs.python.org/pt-br/3.10/howto/regex.html). Em seguida, vamos demonstrar o uso prático dos principais métodos fornecidos por esta biblioteca, proporcionando exemplos claros e úteis que podem ser aplicados em diversos contextos de programação, para que você possa integrar eficientemente expressões regulares em seus projetos.\n",
        "\n"
      ]
    },
    {
      "cell_type": "code",
      "source": [
        "# Declara define funções utilitárias utilizadas no notebook.\n",
        "import datetime\n",
        "import sys\n",
        "def formata_msg(nivel, msg):\n",
        "    \"\"\"\n",
        "    Formata uma mensagem de log incluindo o nível de severidade, timestamp\n",
        "    e a mensagem.\n",
        "\n",
        "    Parâmetros:\n",
        "    - nivel (str): Nível de severidade da mensagem (ex: 'INFO', 'ERROR', 'WARNING').\n",
        "    - msg (str): A mensagem de log propriamente dita.\n",
        "\n",
        "    Retorna:\n",
        "    - str: A mensagem de log formatada.\n",
        "    \"\"\"\n",
        "    timestamp = datetime.datetime.now().strftime('%Y-%m-%d %H:%M:%S')\n",
        "\n",
        "    return f\"[{nivel}] {timestamp} - {msg}\"\n",
        "\n",
        "print(formata_msg(\"INFO\", \"Funções utilitárias prontas para utilização.\"))\n",
        "print(formata_msg(\"INFO\", f\"Versão do Python: {sys.version} \"))"
      ],
      "metadata": {
        "colab": {
          "base_uri": "https://localhost:8080/"
        },
        "id": "EW7hmVPuMNbq",
        "outputId": "15475593-3086-4ccb-f6f3-07e06df4cf5b"
      },
      "execution_count": 9,
      "outputs": [
        {
          "output_type": "stream",
          "name": "stdout",
          "text": [
            "[INFO] 2024-02-17 18:12:16 - Funções utilitárias prontas para utilização.\n",
            "[INFO] 2024-02-17 18:12:16 - Versão do Python: 3.10.12 (main, Nov 20 2023, 15:14:05) [GCC 11.4.0] \n"
          ]
        }
      ]
    },
    {
      "cell_type": "code",
      "metadata": {
        "id": "VlypLoBCU2aZ"
      },
      "source": [
        "# Importa módulos essenciais para funcionalidades do notebook.\n",
        "import re\n",
        "import datetime"
      ],
      "execution_count": 5,
      "outputs": []
    },
    {
      "cell_type": "code",
      "metadata": {
        "id": "31BIABdqU2ae"
      },
      "source": [
        "texto = \"Vamos encontrar Padrões nesta string!! \\nAgora é a nossa primeira prática de NLP!! Vamos aprender a procurar padrões!! \\nBelo Horizonte, \"+ str(datetime.datetime.now().date())+\".\""
      ],
      "execution_count": null,
      "outputs": []
    },
    {
      "cell_type": "code",
      "source": [
        "texto = \"\"\"Transferência recebida de JOAO SILVA, conta 1234-5. Valor: R$1.500,00 em 2024-02-15.\n",
        "Pagamento confirmado para ALUGUEL, Conta 6789-0. Valor: R$800,00 em 2024-02-16.\n",
        "Depósito recebido, conta 5432-1. Valor: R$3.200,00 em 2024-02-17.\"\"\""
      ],
      "metadata": {
        "id": "beUgOO5ASa_a"
      },
      "execution_count": 104,
      "outputs": []
    },
    {
      "cell_type": "code",
      "metadata": {
        "id": "TfETR1kbU2ai",
        "colab": {
          "base_uri": "https://localhost:8080/"
        },
        "outputId": "5942ef36-4bb7-4abd-8835-dc355c79e197"
      },
      "source": [
        "print(texto)"
      ],
      "execution_count": 105,
      "outputs": [
        {
          "output_type": "stream",
          "name": "stdout",
          "text": [
            "Transferência recebida de JOAO SILVA, conta 1234-5. Valor: R$1.500,00 em 2024-02-15.\n",
            "Pagamento confirmado para ALUGUEL, Conta 6789-0. Valor: R$800,00 em 2024-02-16.\n",
            "Depósito recebido, conta 5432-1. Valor: R$3.200,00 em 2024-02-17.\n"
          ]
        }
      ]
    },
    {
      "cell_type": "markdown",
      "metadata": {
        "id": "JhDqvmbOU2ap"
      },
      "source": [
        "## Match\n",
        "Determina se a RE combina com o início da string"
      ]
    },
    {
      "cell_type": "code",
      "metadata": {
        "id": "g_a4wIfkU2aq",
        "colab": {
          "base_uri": "https://localhost:8080/"
        },
        "outputId": "1cb3f425-ab90-4898-c957-b476e19769d2"
      },
      "source": [
        "padrao = r\"transferência recebida\"\n",
        "resultado = re.match(padrao, texto)\n",
        "if resultado:\n",
        "    print(formata_msg(\"INFO\", f\"Padrão '{padrao}', encontrado: {resultado.group()}\"))\n",
        "else:\n",
        "    print(formata_msg(\"ERRO\", f\"Padrão '{padrao}', não encontrado.\"))"
      ],
      "execution_count": 63,
      "outputs": [
        {
          "output_type": "stream",
          "name": "stdout",
          "text": [
            "[ERRO] 2024-02-17 18:57:16 - Padrão 'transferência recebida', não encontrado.\n"
          ]
        }
      ]
    },
    {
      "cell_type": "code",
      "metadata": {
        "colab": {
          "base_uri": "https://localhost:8080/"
        },
        "outputId": "fb5b7dc2-16bf-41a2-a763-488317b409be",
        "id": "Els5JR1QWa1t"
      },
      "source": [
        "padrao = r\"[Tt]ransferência recebida\"\n",
        "resultado = re.match(padrao, texto)\n",
        "if resultado:\n",
        "    print(formata_msg(\"INFO\", f\"Padrão '{padrao}', encontrado: {resultado.group()}\"))\n",
        "else:\n",
        "    print(formata_msg(\"ERRO\", f\"Padrão '{padrao}', não encontrado.\"))"
      ],
      "execution_count": 64,
      "outputs": [
        {
          "output_type": "stream",
          "name": "stdout",
          "text": [
            "[INFO] 2024-02-17 18:57:19 - Padrão '[Tt]ransferência recebida', encontrado: Transferência recebida\n"
          ]
        }
      ]
    },
    {
      "cell_type": "code",
      "metadata": {
        "id": "pbqBQJDYU2a0",
        "colab": {
          "base_uri": "https://localhost:8080/"
        },
        "outputId": "39bf3ede-3f9c-4c00-945a-ad65189c6a83"
      },
      "source": [
        "padrao = r\"(Transferência|transferência)\"\n",
        "resultado = re.match(padrao, texto)\n",
        "if resultado:\n",
        "    print(formata_msg(\"INFO\", f\"Padrão '{padrao}', encontrado: {resultado.group()}\"))\n",
        "else:\n",
        "    print(formata_msg(\"ERRO\", f\"Padrão '{padrao}', não encontrado.\"))"
      ],
      "execution_count": 65,
      "outputs": [
        {
          "output_type": "stream",
          "name": "stdout",
          "text": [
            "[INFO] 2024-02-17 18:58:45 - Padrão '(Transferência|transferência)', encontrado: Transferência\n"
          ]
        }
      ]
    },
    {
      "cell_type": "code",
      "source": [
        "padrao = r\"transferência recebida\"\n",
        "compilado = re.compile(padrao, re.IGNORECASE)\n",
        "resultado = compilado.match(texto)\n",
        "if resultado:\n",
        "    print(formata_msg(\"INFO\", f\"Padrão '{padrao}', encontrado: {resultado.group()}\"))\n",
        "else:\n",
        "    print(formata_msg(\"ERRO\", f\"Padrão '{padrao}', não encontrado.\"))"
      ],
      "metadata": {
        "colab": {
          "base_uri": "https://localhost:8080/"
        },
        "id": "Chs5OiTEb6bd",
        "outputId": "1175b429-0cf5-453e-d7d4-d48d27ea73ca"
      },
      "execution_count": 69,
      "outputs": [
        {
          "output_type": "stream",
          "name": "stdout",
          "text": [
            "[INFO] 2024-02-17 19:04:37 - Padrão 'transferência recebida', encontrado: Transferência recebida\n"
          ]
        }
      ]
    },
    {
      "cell_type": "markdown",
      "metadata": {
        "id": "0Mjq_-2UU2a4"
      },
      "source": [
        "## Search\n",
        "Varre toda a string, procurando qualquer local onde esta RE tem correspondência"
      ]
    },
    {
      "cell_type": "code",
      "metadata": {
        "id": "S6-yebBWU2a5",
        "colab": {
          "base_uri": "https://localhost:8080/"
        },
        "outputId": "fc52aaaa-1d62-4568-ceba-f8476b66423a"
      },
      "source": [
        "padrao = r\"pagamento CONFIRMADO\"\n",
        "compilado = re.compile(padrao, re.IGNORECASE)\n",
        "resultado = compilado.search(texto)\n",
        "if resultado:\n",
        "    print(formata_msg(\"INFO\", f\"Padrão '{padrao}', encontrado: {resultado.group()}\"))\n",
        "else:\n",
        "    print(formata_msg(\"ERRO\", f\"Padrão '{padrao}', não encontrado.\"))"
      ],
      "execution_count": 77,
      "outputs": [
        {
          "output_type": "stream",
          "name": "stdout",
          "text": [
            "[INFO] 2024-02-17 19:10:46 - Padrão 'pagamento CONFIRMADO', encontrado: Pagamento confirmado\n"
          ]
        }
      ]
    },
    {
      "cell_type": "markdown",
      "metadata": {
        "id": "6SJ-je98U2bR"
      },
      "source": [
        "## Findall\n",
        "Encontra todas as substrings onde a RE corresponde, e as retorna como uma lista"
      ]
    },
    {
      "cell_type": "code",
      "metadata": {
        "id": "gnPd007AU2bS",
        "colab": {
          "base_uri": "https://localhost:8080/"
        },
        "outputId": "415f5d5b-f562-4268-85e5-6fc8579549da"
      },
      "source": [
        "padrao = r\"conta\"\n",
        "resultado = re.findall(padrao, texto)\n",
        "if resultado:\n",
        "    print(formata_msg(\"INFO\", f\"Padrão '{padrao}', encontrado: {resultado}\"))\n",
        "else:\n",
        "    print(formata_msg(\"ERRO\", f\"Padrão '{padrao}', não encontrado.\"))"
      ],
      "execution_count": 81,
      "outputs": [
        {
          "output_type": "stream",
          "name": "stdout",
          "text": [
            "[INFO] 2024-02-17 19:13:10 - Padrão 'conta', encontrado: ['conta', 'conta']\n"
          ]
        }
      ]
    },
    {
      "cell_type": "code",
      "metadata": {
        "id": "J3GLBWtAU2bW",
        "colab": {
          "base_uri": "https://localhost:8080/"
        },
        "outputId": "fbe77239-8d5c-442f-9087-ff65913d30de"
      },
      "source": [
        "padrao = r\"conta\"\n",
        "resultado = re.findall(padrao, texto, re.I)\n",
        "if resultado:\n",
        "    print(formata_msg(\"INFO\", f\"Padrão '{padrao}', encontrado: {resultado}\"))\n",
        "else:\n",
        "    print(formata_msg(\"ERRO\", f\"Padrão '{padrao}', não encontrado.\"))"
      ],
      "execution_count": 82,
      "outputs": [
        {
          "output_type": "stream",
          "name": "stdout",
          "text": [
            "[INFO] 2024-02-17 19:13:33 - Padrão 'conta', encontrado: ['conta', 'Conta', 'conta']\n"
          ]
        }
      ]
    },
    {
      "cell_type": "code",
      "metadata": {
        "id": "jL17r7ThU2be",
        "colab": {
          "base_uri": "https://localhost:8080/"
        },
        "outputId": "7c841821-902c-4ba7-81c0-1885b4ba2e62"
      },
      "source": [
        "#quando uso o + o padrão é 1 ou mais. Assim todas string que tem a no meio de outras letras  são retornadas\n",
        "padrao = r\"\\w+A\\w+\"\n",
        "resultado = re.findall(padrao, texto)\n",
        "if resultado:\n",
        "    print(formata_msg(\"INFO\", f\"Padrão '{padrao}', encontrado: {resultado}\"))\n",
        "else:\n",
        "    print(formata_msg(\"ERRO\", f\"Padrão '{padrao}', não encontrado.\"))"
      ],
      "execution_count": 87,
      "outputs": [
        {
          "output_type": "stream",
          "name": "stdout",
          "text": [
            "[INFO] 2024-02-17 19:17:34 - Padrão '\\w+A\\w+', encontrado: ['JOAO']\n"
          ]
        }
      ]
    },
    {
      "cell_type": "code",
      "source": [
        "#quando uso o + o padrão é 1 ou mais. Assim todas string que tem a no meio de outras letras  são retornadas\n",
        "padrao = r\"\\w+a\\w+\"\n",
        "resultado = re.findall(padrao, texto, re.I)\n",
        "if resultado:\n",
        "    print(formata_msg(\"INFO\", f\"Padrão '{padrao}', encontrado: {resultado}\"))\n",
        "else:\n",
        "    print(formata_msg(\"ERRO\", f\"Padrão '{padrao}', não encontrado.\"))"
      ],
      "metadata": {
        "colab": {
          "base_uri": "https://localhost:8080/"
        },
        "id": "Qr8M0ZM9gfU0",
        "outputId": "f590876b-412a-4a36-e1f5-b649e1cf303a"
      },
      "execution_count": 90,
      "outputs": [
        {
          "output_type": "stream",
          "name": "stdout",
          "text": [
            "[INFO] 2024-02-17 19:19:17 - Padrão '\\w+a\\w+', encontrado: ['Transferência', 'JOAO', 'Valor', 'Pagamento', 'confirmado', 'para', 'Valor', 'Valor']\n"
          ]
        }
      ]
    },
    {
      "cell_type": "code",
      "metadata": {
        "id": "KeucYfPmU2bi",
        "colab": {
          "base_uri": "https://localhost:8080/"
        },
        "outputId": "76c58086-cbb4-453a-ec0a-5d0d5914dabd"
      },
      "source": [
        "#quando uso o * o padrão é 0 ou mais. Assim todas string que tem a no meio, ou no início ou no fim são retornadas\n",
        "padrao = r\"\\w*a\\w*\"\n",
        "resultado = re.findall(padrao, texto)\n",
        "if resultado:\n",
        "    print(formata_msg(\"INFO\", f\"Padrão '{padrao}', encontrado: {resultado}\"))\n",
        "else:\n",
        "    print(formata_msg(\"ERRO\", f\"Padrão '{padrao}', não encontrado.\"))"
      ],
      "execution_count": 91,
      "outputs": [
        {
          "output_type": "stream",
          "name": "stdout",
          "text": [
            "[INFO] 2024-02-17 19:19:23 - Padrão '\\w*a\\w*', encontrado: ['Transferência', 'recebida', 'conta', 'Valor', 'Pagamento', 'confirmado', 'para', 'Conta', 'Valor', 'conta', 'Valor']\n"
          ]
        }
      ]
    },
    {
      "cell_type": "markdown",
      "metadata": {
        "id": "yeYa3aLHU2bm"
      },
      "source": [
        "## Finditer\n",
        "Encontra todas as substrings onde a RE corresponde, e as retorna como um iterador."
      ]
    },
    {
      "cell_type": "code",
      "metadata": {
        "id": "BLqVK0iHU2bn",
        "colab": {
          "base_uri": "https://localhost:8080/"
        },
        "outputId": "522698e4-ed71-4990-a253-505beb15ed8e"
      },
      "source": [
        "padrao = r\"\\w+m\\w+\"\n",
        "resultado = re.finditer(padrao, texto)\n",
        "if resultado:\n",
        "    print(formata_msg(\"INFO\", f\"Padrão '{padrao}', encontrado:\\n\"))\n",
        "    for token in resultado:\n",
        "      print(f\"{token.group()}\")\n",
        "else:\n",
        "    print(formata_msg(\"ERRO\", f\"Padrão '{padrao}', não encontrado.\"))"
      ],
      "execution_count": 101,
      "outputs": [
        {
          "output_type": "stream",
          "name": "stdout",
          "text": [
            "[INFO] 2024-02-17 19:24:56 - Padrão '\\w+m\\w+', encontrado:\n",
            "\n",
            "Pagamento\n",
            "confirmado\n"
          ]
        }
      ]
    },
    {
      "cell_type": "markdown",
      "metadata": {
        "id": "B9rzAL9gU2b0"
      },
      "source": [
        "## Split"
      ]
    },
    {
      "cell_type": "code",
      "metadata": {
        "id": "GKgoQoFoU2b1",
        "colab": {
          "base_uri": "https://localhost:8080/"
        },
        "outputId": "4e9405a0-9c88-4e41-8d32-a63f04721da2"
      },
      "source": [
        "separado = \"\\n\"\n",
        "resultado = re.split('\\n',texto)\n",
        "print(formata_msg(\"INFO\", f\"Lista de tokens:\"))\n",
        "for ii, token in enumerate(resultado):\n",
        "      print(f\"{ii+1} - {token}\")"
      ],
      "execution_count": 125,
      "outputs": [
        {
          "output_type": "stream",
          "name": "stdout",
          "text": [
            "[INFO] 2024-02-17 19:37:20 - Lista de tokens:\n",
            "1 - Transferência recebida de JOAO SILVA, conta 1234-5. Valor: R$1.500,00 em 2024-02-15.\n",
            "2 - Pagamento confirmado para ALUGUEL, Conta 6789-0. Valor: R$800,00 em 2024-02-16.\n",
            "3 - Depósito recebido, conta 5432-1. Valor: R$3.200,00 em 2024-02-17.\n"
          ]
        }
      ]
    },
    {
      "cell_type": "code",
      "metadata": {
        "id": "_1gB1K_8U2b6",
        "colab": {
          "base_uri": "https://localhost:8080/"
        },
        "outputId": "bde8b54a-67ee-450e-c1e2-9a5a2d2fdc79"
      },
      "source": [
        "separador = \"\\s+\"\n",
        "resultado = texto.split(separador)\n",
        "print(formata_msg(\"INFO\", f\"Lista de tokens:\"))\n",
        "for ii, token in enumerate(resultado):\n",
        "      print(f\"{ii+1} - {token}\")"
      ],
      "execution_count": 126,
      "outputs": [
        {
          "output_type": "stream",
          "name": "stdout",
          "text": [
            "[INFO] 2024-02-17 19:37:23 - Lista de tokens:\n",
            "1 - Transferência recebida de JOAO SILVA, conta 1234-5. Valor: R$1.500,00 em 2024-02-15.\n",
            "Pagamento confirmado para ALUGUEL, Conta 6789-0. Valor: R$800,00 em 2024-02-16.\n",
            "Depósito recebido, conta 5432-1. Valor: R$3.200,00 em 2024-02-17.\n"
          ]
        }
      ]
    },
    {
      "cell_type": "code",
      "metadata": {
        "id": "9J_2KEVLU2cA",
        "colab": {
          "base_uri": "https://localhost:8080/"
        },
        "outputId": "86660629-5e57-4ec9-8c2f-de00763985a8"
      },
      "source": [
        "separador = \"\\s+\"\n",
        "resultado = re.split(separador, texto)\n",
        "print(formata_msg(\"INFO\", f\"Lista de tokens:\"))\n",
        "for ii, token in enumerate(resultado):\n",
        "      print(f\"{ii+1} - {token}\")"
      ],
      "execution_count": 128,
      "outputs": [
        {
          "output_type": "stream",
          "name": "stdout",
          "text": [
            "[INFO] 2024-02-17 19:38:20 - Lista de tokens:\n",
            "1 - Transferência\n",
            "2 - recebida\n",
            "3 - de\n",
            "4 - JOAO\n",
            "5 - SILVA,\n",
            "6 - conta\n",
            "7 - 1234-5.\n",
            "8 - Valor:\n",
            "9 - R$1.500,00\n",
            "10 - em\n",
            "11 - 2024-02-15.\n",
            "12 - Pagamento\n",
            "13 - confirmado\n",
            "14 - para\n",
            "15 - ALUGUEL,\n",
            "16 - Conta\n",
            "17 - 6789-0.\n",
            "18 - Valor:\n",
            "19 - R$800,00\n",
            "20 - em\n",
            "21 - 2024-02-16.\n",
            "22 - Depósito\n",
            "23 - recebido,\n",
            "24 - conta\n",
            "25 - 5432-1.\n",
            "26 - Valor:\n",
            "27 - R$3.200,00\n",
            "28 - em\n",
            "29 - 2024-02-17.\n"
          ]
        }
      ]
    },
    {
      "cell_type": "markdown",
      "metadata": {
        "id": "c5alQqxuU2cD"
      },
      "source": [
        "## Sub"
      ]
    },
    {
      "cell_type": "code",
      "metadata": {
        "id": "BpXFAGB5U2cE",
        "colab": {
          "base_uri": "https://localhost:8080/",
          "height": 54
        },
        "outputId": "f9436ef0-57b3-4bc3-ee2f-c2d00c717891"
      },
      "source": [
        "re.sub(r'R\\$', '(BRL)', texto)"
      ],
      "execution_count": 134,
      "outputs": [
        {
          "output_type": "execute_result",
          "data": {
            "text/plain": [
              "'Transferência recebida de JOAO SILVA, conta 1234-5. Valor: (BRL)1.500,00 em 2024-02-15.\\nPagamento confirmado para ALUGUEL, Conta 6789-0. Valor: (BRL)800,00 em 2024-02-16.\\nDepósito recebido, conta 5432-1. Valor: (BRL)3.200,00 em 2024-02-17.'"
            ],
            "application/vnd.google.colaboratory.intrinsic+json": {
              "type": "string"
            }
          },
          "metadata": {},
          "execution_count": 134
        }
      ]
    },
    {
      "cell_type": "markdown",
      "metadata": {
        "id": "AklOXTO-U2cH"
      },
      "source": [
        "## Subn"
      ]
    },
    {
      "cell_type": "code",
      "metadata": {
        "id": "FKmANFR4U2cI",
        "colab": {
          "base_uri": "https://localhost:8080/"
        },
        "outputId": "562363b4-5c71-443e-e8de-ae1cf438325d"
      },
      "source": [
        "resultado, num_substituicoes = re.subn('R\\$', '(BRL)', texto)\n",
        "print(f\"Texto modificado:\\n{resultado}\")\n",
        "print(f\"\\nNúmero de substituições: {num_substituicoes}\")"
      ],
      "execution_count": 139,
      "outputs": [
        {
          "output_type": "stream",
          "name": "stdout",
          "text": [
            "Texto modificado:\n",
            "Transferência recebida de JOAO SILVA, conta 1234-5. Valor: (BRL)1.500,00 em 2024-02-15.\n",
            "Pagamento confirmado para ALUGUEL, Conta 6789-0. Valor: (BRL)800,00 em 2024-02-16.\n",
            "Depósito recebido, conta 5432-1. Valor: (BRL)3.200,00 em 2024-02-17.\n",
            "\n",
            "Número de substituições: 3\n"
          ]
        }
      ]
    },
    {
      "cell_type": "code",
      "source": [],
      "metadata": {
        "id": "whuV4qTuo2Tl"
      },
      "execution_count": null,
      "outputs": []
    },
    {
      "cell_type": "markdown",
      "metadata": {
        "id": "RxY0r2eoU2cL"
      },
      "source": [
        "# Exercícios"
      ]
    },
    {
      "cell_type": "markdown",
      "metadata": {
        "id": "6m1l9DicU2cM"
      },
      "source": [
        "1. Escreva uma expressão regular para verificar se uma string contém apenas um determinado conjunto de caracteres (neste caso, a-z, A-Z e 0-9)."
      ]
    },
    {
      "cell_type": "code",
      "metadata": {
        "id": "5PhrR9-mU2cM",
        "colab": {
          "base_uri": "https://localhost:8080/"
        },
        "outputId": "fc63ee6f-bdc0-486a-a1cb-7dc1538aa688"
      },
      "source": [
        "# A expressão regular para verificar o conjunto de caracteres\n",
        "padrao = r'^[a-zA-Z0-9]+$'\n",
        "\n",
        "# Duas strings de teste\n",
        "string1 = \"ABCDEFabcdef123450\"\n",
        "string2 = \"*&%@#!}{\"\n",
        "\n",
        "# Testando a primeira string\n",
        "if re.match(padrao, string1):\n",
        "    print(f\"'{string1}' contém apenas caracteres permitidos.\")\n",
        "else:\n",
        "    print(f\"'{string1}' contém caracteres não permitidos.\")\n",
        "\n",
        "# Testando a segunda string\n",
        "if re.match(padrao, string2):\n",
        "    print(f\"'{string2}' contém apenas caracteres permitidos.\")\n",
        "else:\n",
        "    print(f\"'{string2}' contém caracteres não permitidos.\")"
      ],
      "execution_count": 140,
      "outputs": [
        {
          "output_type": "stream",
          "name": "stdout",
          "text": [
            "'ABCDEFabcdef123450' contém apenas caracteres permitidos.\n",
            "'*&%@#!}{' contém caracteres não permitidos.\n"
          ]
        }
      ]
    },
    {
      "cell_type": "markdown",
      "metadata": {
        "id": "A0B3X3msU2cd"
      },
      "source": [
        "2. Escreva uma expressão regular que corresponda a uma sequência que tenha um a seguido por zero ou mais b's."
      ]
    },
    {
      "cell_type": "code",
      "metadata": {
        "id": "1Q7gdaJ-U2ci",
        "colab": {
          "base_uri": "https://localhost:8080/"
        },
        "outputId": "759304e6-e6a3-43d4-e4ee-c5b899cdb19b"
      },
      "source": [
        "# As strings de teste\n",
        "string1 = \"abc\"\n",
        "string2 = \"aacb\"\n",
        "string3 = \"abbc\"\n",
        "string4 = \"bb\"\n",
        "\n",
        "strings = [string1, string2, string3, string4]\n",
        "\n",
        "# A expressão regular para corresponder a um 'a' seguido por zero ou mais 'b's\n",
        "padrao = r\"ab*\"\n",
        "\n",
        "# Testando cada string com o padrão\n",
        "for string in strings:\n",
        "    if re.search(padrao, string):\n",
        "        print(f\"'{string}' corresponde ao '{padrao}'.\")\n",
        "    else:\n",
        "        print(f\"'{string}' NÃO corresponde ao '{padrao}'.\")"
      ],
      "execution_count": 144,
      "outputs": [
        {
          "output_type": "stream",
          "name": "stdout",
          "text": [
            "'abc' corresponde ao 'ab*'.\n",
            "'aacb' corresponde ao 'ab*'.\n",
            "'abbc' corresponde ao 'ab*'.\n",
            "'bb' NÃO corresponde ao 'ab*'.\n"
          ]
        }
      ]
    },
    {
      "cell_type": "markdown",
      "metadata": {
        "id": "3Eaf2qgHU2cp"
      },
      "source": [
        "3. Escreva um expressão regular que corresponda a uma sequência que tenha um a seguido por um ou mais b's."
      ]
    },
    {
      "cell_type": "code",
      "metadata": {
        "id": "3_PSBygPU2cp",
        "colab": {
          "base_uri": "https://localhost:8080/"
        },
        "outputId": "cace40f2-3fef-4f66-b334-20e365bfb31e"
      },
      "source": [
        "# A expressão regular para corresponder a um 'a' seguido por zero ou mais 'b's\n",
        "padrao = r\"ab+\"\n",
        "\n",
        "# Testando cada string com o padrão\n",
        "for string in strings:\n",
        "    if re.search(padrao, string):\n",
        "        print(f\"'{string}' corresponde ao '{padrao}'.\")\n",
        "    else:\n",
        "        print(f\"'{string}' NÃO corresponde ao '{padrao}'.\")"
      ],
      "execution_count": 145,
      "outputs": [
        {
          "output_type": "stream",
          "name": "stdout",
          "text": [
            "'abc' corresponde ao 'ab+'.\n",
            "'aacb' NÃO corresponde ao 'ab+'.\n",
            "'abbc' corresponde ao 'ab+'.\n",
            "'bb' NÃO corresponde ao 'ab+'.\n"
          ]
        }
      ]
    },
    {
      "cell_type": "markdown",
      "metadata": {
        "id": "zuzgAySVU2cz"
      },
      "source": [
        "4. Escreva uma expressão regular para converter uma data do formato aaaa-mm-dd para o formato dd-mm-aaaa."
      ]
    },
    {
      "cell_type": "code",
      "metadata": {
        "id": "cJI2Be8GU2cz",
        "colab": {
          "base_uri": "https://localhost:8080/"
        },
        "outputId": "7f6c4a1f-b172-44bb-f23b-613e8ea71a29"
      },
      "source": [
        "# A expressão regular para capturar os componentes da data\n",
        "padrao = r'(\\d{4})-(\\d{2})-(\\d{2})'\n",
        "\n",
        "# Função para converter o formato da data\n",
        "def converter_formato_data(data):\n",
        "    # Substituindo e reorganizando os grupos capturados\n",
        "    return re.sub(padrao, r'\\3-\\2-\\1', data)\n",
        "\n",
        "# Datas de teste\n",
        "data1 = \"2026-01-02\"\n",
        "data2 = \"26-01-02\"  # Esta data não está no formato aaaa-mm-dd, então o padrão não se aplica\n",
        "\n",
        "# Convertendo as datas\n",
        "data1_convertida = converter_formato_data(data1)\n",
        "data2_convertida = converter_formato_data(data2)\n",
        "\n",
        "# Imprimindo os resultados\n",
        "print(f\"Data original: {data1}, Data convertida: {data1_convertida}\")\n",
        "print(f\"Data original: {data2}, Data convertida: {data2_convertida}\")"
      ],
      "execution_count": 146,
      "outputs": [
        {
          "output_type": "stream",
          "name": "stdout",
          "text": [
            "Data original: 2026-01-02, Data convertida: 02-01-2026\n",
            "Data original: 26-01-02, Data convertida: 26-01-02\n"
          ]
        }
      ]
    },
    {
      "cell_type": "markdown",
      "metadata": {
        "id": "3JCnPVthU2dJ"
      },
      "source": [
        "5. Escreva uma expressão para dividir uma string em letras maiúsculas"
      ]
    },
    {
      "cell_type": "code",
      "metadata": {
        "id": "U7-WhZeTU2dK",
        "colab": {
          "base_uri": "https://localhost:8080/"
        },
        "outputId": "ee1d75d8-8555-4598-be5d-c36d11cdadc7"
      },
      "source": [
        "import re\n",
        "\n",
        "# A string de teste\n",
        "string = \"PagamentoConfirmadoNaDataDeVencimentoNoCcred\"\n",
        "\n",
        "# Dividindo a string em letras maiúsculas\n",
        "# (?<!^): asserção de lookbehind negativa que garante que a posição para divisão\n",
        "#         não seja no início da string.\n",
        "# (?=[A-Z]): asserção de lookahead positiva que procura uma posição onde o próximo\n",
        "#            caractere seja uma letra maiúscula de 'A' a 'Z'.\n",
        "partes = re.split(r'(?<!^)(?=[A-Z])', string)\n",
        "\n",
        "# Imprimindo o resultado\n",
        "print(partes)"
      ],
      "execution_count": 151,
      "outputs": [
        {
          "output_type": "stream",
          "name": "stdout",
          "text": [
            "['Pagamento', 'Confirmado', 'Na', 'Data', 'De', 'Vencimento', 'No', 'Ccred']\n"
          ]
        }
      ]
    },
    {
      "cell_type": "markdown",
      "metadata": {
        "id": "XenuPdJFU2dS"
      },
      "source": [
        "6. Escreva uma expressão regular para remover a área de parênteses em uma string\n",
        "\n",
        "\n",
        "- Amostra de Entrada:\n",
        "> * [\"example (.br)\", \"w3resource\", \"github (.com)\", \"stackoverflow (.com)\"] </br>\n",
        "* Saída Esperada:\n",
        "> * example\n",
        "> * w3resource\n",
        "> * github\n",
        "> * stackoverflow"
      ]
    },
    {
      "cell_type": "code",
      "metadata": {
        "id": "xLN0qjIqU2dT",
        "colab": {
          "base_uri": "https://localhost:8080/"
        },
        "outputId": "9e06204b-64e1-421c-8845-3f56807081f4"
      },
      "source": [
        "# Lista de strings de entrada\n",
        "entradas = [\"example (.br)\", \"w3resource\", \"github (.com)\", \"stackoverflow (.com)\"]\n",
        "\n",
        "# Expressão regular para remover o conteúdo e os parênteses\n",
        "padrao = r'\\s*\\([^)]*\\)'\n",
        "\n",
        "# Removendo as áreas de parênteses e imprimindo a saída\n",
        "saidas = [re.sub(padrao, '', entrada) for entrada in entradas]\n",
        "print(saidas)\n"
      ],
      "execution_count": 152,
      "outputs": [
        {
          "output_type": "stream",
          "name": "stdout",
          "text": [
            "['example', 'w3resource', 'github', 'stackoverflow']\n"
          ]
        }
      ]
    },
    {
      "cell_type": "markdown",
      "metadata": {
        "id": "YXbqmKEzU2da"
      },
      "source": [
        "7. Escreva um programa para quebrar um texto em sentenças"
      ]
    },
    {
      "cell_type": "code",
      "metadata": {
        "id": "qhqTyY5zQDxQ",
        "colab": {
          "base_uri": "https://localhost:8080/"
        },
        "outputId": "25e512f9-6bcc-4592-d43f-a020b18d3d6e"
      },
      "source": [
        "# A string de entrada\n",
        "texto = \"Vamos encontrar Padrões nesta string!! Agora é a nossa primeira prática de NLP!! Vamos aprender a procurar padrões!! Belo Horizonte 2020.\"\n",
        "\n",
        "# Expressão regular para dividir o texto em sentenças baseando-se apenas em pontos, exclamações e interrogações\n",
        "padrao = r'[.!?]\\s+'\n",
        "\n",
        "# Dividindo o texto em sentenças\n",
        "sentencas = re.split(padrao, texto)\n",
        "\n",
        "# Imprimindo as sentenças\n",
        "for sentenca in sentencas:\n",
        "    print(sentenca)"
      ],
      "execution_count": 153,
      "outputs": [
        {
          "output_type": "stream",
          "name": "stdout",
          "text": [
            "Vamos encontrar Padrões nesta string!\n",
            "Agora é a nossa primeira prática de NLP!\n",
            "Vamos aprender a procurar padrões!\n",
            "Belo Horizonte 2020.\n"
          ]
        }
      ]
    },
    {
      "cell_type": "markdown",
      "metadata": {
        "id": "BDGD0bR0U2dg"
      },
      "source": [
        "8. Escreva um código para remover os zeros iniciais do IP 216.08.094.196"
      ]
    },
    {
      "cell_type": "code",
      "metadata": {
        "id": "QF0OMP_eU2dg"
      },
      "source": [
        "ip = \"216.08.094.196\""
      ],
      "execution_count": null,
      "outputs": []
    },
    {
      "cell_type": "code",
      "metadata": {
        "id": "YZ7fKuxfQEw2",
        "colab": {
          "base_uri": "https://localhost:8080/"
        },
        "outputId": "8aa384b5-9771-4e0b-bdea-9af09120c21c"
      },
      "source": [
        "ip = \"216.08.094.196\"\n",
        "\n",
        "# Dividindo o IP em seus componentes\n",
        "partes = ip.split('.')\n",
        "\n",
        "# Removendo os zeros iniciais de cada parte e garantindo que partes vazias sejam '0'\n",
        "partes_sem_zeros = [parte.lstrip('0') or '0' for parte in partes]\n",
        "\n",
        "# Juntando as partes de volta em um IP\n",
        "ip_sem_zeros = '.'.join(partes_sem_zeros)\n",
        "\n",
        "print(ip_sem_zeros)\n",
        "\n",
        "\n"
      ],
      "execution_count": 156,
      "outputs": [
        {
          "output_type": "stream",
          "name": "stdout",
          "text": [
            "216.8.94.196\n"
          ]
        }
      ]
    },
    {
      "cell_type": "markdown",
      "metadata": {
        "id": "g6ZOC3hmHNm-"
      },
      "source": [
        "9. Recupere todos os \"Twitter\" da string abaixo"
      ]
    },
    {
      "cell_type": "code",
      "metadata": {
        "colab": {
          "base_uri": "https://localhost:8080/",
          "height": 52
        },
        "id": "hO2zXsOfG0w1",
        "outputId": "55bc74bd-b17b-41fd-e0e5-b4157c016ef2"
      },
      "source": [
        "texto_exemplo_twitter = \"\"\"This is a @test of some cool features that @mi_asd be @use-ful but @don't. look at this email@address.com. @bla! I like #nylas but I don't like to go to this apple.com?a#url. I also don't like the ### comment blocks. But #msft is cool.\"\"\"\n",
        "texto_exemplo_twitter"
      ],
      "execution_count": null,
      "outputs": [
        {
          "output_type": "execute_result",
          "data": {
            "application/vnd.google.colaboratory.intrinsic+json": {
              "type": "string"
            },
            "text/plain": [
              "\"This is a @test of some cool features that @mi_asd be @use-ful but @don't. look at this email@address.com. @bla! I like #nylas but I don't like to go to this apple.com?a#url. I also don't like the ### comment blocks. But #msft is cool.\""
            ]
          },
          "metadata": {
            "tags": []
          },
          "execution_count": 49
        }
      ]
    },
    {
      "cell_type": "code",
      "metadata": {
        "id": "zq2VN2g-HPec"
      },
      "source": [
        "import re\n",
        "\n",
        "# O texto de exemplo\n",
        "texto_exemplo_twitter = \"\"\"This is a @test of some cool features that @mi_asd be @use-ful but @don't. look at this email@address.com. @bla! I like #nylas but I don't like to go to this apple.com?a#url. I also don't like the ### comment blocks. But #msft is cool.\"\"\"\n",
        "\n",
        "# A expressão regular para encontrar menções do Twitter\n",
        "padrao_twitter = r'\\B@\\w+'\n",
        "\n",
        "# Encontrando todas as menções do Twitter no texto\n",
        "mensoes_twitter = re.findall(padrao_twitter, texto_exemplo_twitter)\n",
        "\n",
        "print(mensoes_twitter)\n"
      ],
      "execution_count": null,
      "outputs": []
    },
    {
      "cell_type": "markdown",
      "metadata": {
        "id": "EuRUVjfSQfVb"
      },
      "source": [
        "10. Escreva uma expressão regular para remover as urls do texto:\n",
        "\n",
        "- Para realizar pesquisas de artigos acadêmicos use o Google Scholar: https://scholar.google.com.br/\n",
        "- Sempre mantenha seu linkedin atualizado: https://www.linkedin.com/"
      ]
    },
    {
      "cell_type": "code",
      "metadata": {
        "id": "rJxuUl9WQZ0-",
        "colab": {
          "base_uri": "https://localhost:8080/"
        },
        "outputId": "5c3604df-6032-42b9-82e9-716f90a5db21"
      },
      "source": [
        "import re\n",
        "\n",
        "# O texto fornecido\n",
        "texto = \"\"\"Para realizar pesquisas de artigos acadêmicos use o Google Scholar: https://scholar.google.com.br/\n",
        "Sempre mantenha seu linkedin atualizado: https://www.linkedin.com/\"\"\"\n",
        "\n",
        "# A expressão regular para encontrar URLs\n",
        "padrao_url = r'https?://\\S+'\n",
        "\n",
        "# Encontrando todas as URLs no texto\n",
        "urls = re.findall(padrao_url, texto)\n",
        "\n",
        "# Imprimindo as URLs encontradas\n",
        "for url in urls:\n",
        "    print(url)\n"
      ],
      "execution_count": 158,
      "outputs": [
        {
          "output_type": "stream",
          "name": "stdout",
          "text": [
            "https://scholar.google.com.br/\n",
            "https://www.linkedin.com/\n"
          ]
        }
      ]
    }
  ]
}