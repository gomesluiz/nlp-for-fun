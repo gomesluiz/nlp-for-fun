{
  "nbformat": 4,
  "nbformat_minor": 0,
  "metadata": {
    "colab": {
      "provenance": [],
      "authorship_tag": "ABX9TyMF6Si9fPaEvO5SkZhFU2oH",
      "include_colab_link": true
    },
    "kernelspec": {
      "name": "python3",
      "display_name": "Python 3"
    },
    "language_info": {
      "name": "python"
    }
  },
  "cells": [
    {
      "cell_type": "markdown",
      "metadata": {
        "id": "view-in-github",
        "colab_type": "text"
      },
      "source": [
        "<a href=\"https://colab.research.google.com/github/gomesluiz/pln-na-pratica/blob/main/01-aquisicao-dados-enriquecimento-de-dados.ipynb\" target=\"_parent\"><img src=\"https://colab.research.google.com/assets/colab-badge.svg\" alt=\"Open In Colab\"/></a>"
      ]
    },
    {
      "cell_type": "markdown",
      "source": [
        "# **Aquisição de dados com enriquecimento de dados**"
      ],
      "metadata": {
        "id": "R3tUTgb_kpwv"
      }
    },
    {
      "cell_type": "code",
      "source": [
        "# Instala pacotes para análise de dados e raspagem web.\n",
        "!pip install kaggle\n",
        "!pip install matplotlib\n",
        "!pip install nlpaug\n",
        "!pip install numpy\n",
        "!pip install pandas\n",
        "!pip install requests\n",
        "!pip install scikit-learn\n",
        "!pip install seaborn\n",
        "!pip install tqdm"
      ],
      "metadata": {
        "id": "NB3Mmh26EKbn"
      },
      "execution_count": null,
      "outputs": []
    },
    {
      "cell_type": "code",
      "source": [
        "# Declara define funções utilitárias utilizadas no notebook.\n",
        "import datetime\n",
        "def formata_msg(nivel, msg, componente=None):\n",
        "    \"\"\"\n",
        "    Formata uma mensagem de log incluindo o nível de severidade, timestamp,\n",
        "    componente (opcional) e a mensagem.\n",
        "\n",
        "    Parâmetros:\n",
        "    - nivel (str): Nível de severidade da mensagem (ex: 'INFO', 'ERROR', 'WARNING').\n",
        "    - msg (str): A mensagem de log propriamente dita.\n",
        "    - componente (str, opcional): O componente ou módulo do sistema que gera a mensagem.\n",
        "\n",
        "    Retorna:\n",
        "    - str: A mensagem de log formatada.\n",
        "    \"\"\"\n",
        "    timestamp = datetime.datetime.now().strftime('%Y-%m-%d %H:%M:%S')\n",
        "    if componente:\n",
        "        return f\"[{nivel}] {timestamp} - {componente}: {msg}\"\n",
        "    else:\n",
        "        return f\"[{nivel}] {timestamp} - {msg}\"\n",
        "\n",
        "def plotar_distribuicao_polaridade(df):\n",
        "    \"\"\"\n",
        "    Função para plotar um gráfico de barras da contagem de valores para a coluna 'polarity'.\n",
        "\n",
        "    Parâmetros:\n",
        "    df (DataFrame): O DataFrame contendo a coluna 'polarity' a ser analisada.\n",
        "\n",
        "    Esta função utiliza a biblioteca seaborn para criar um gráfico de barras que\n",
        "    mostra a contagem de ocorrências para cada valor único na coluna 'polarity'.\n",
        "    Os rótulos dos eixos são removidos para uma apresentação mais limpa, e as bordas\n",
        "    esquerdas são também removidas.\n",
        "    \"\"\"\n",
        "\n",
        "    # Realiza a contagem de valores na coluna 'polarity' e armazena o resultado\n",
        "    polarity_counts = df['polarity'].value_counts()\n",
        "\n",
        "    # Cria o gráfico de barras usando seaborn, definindo os valores do eixo x e y\n",
        "    sns.barplot(x=polarity_counts.index, y=polarity_counts, hue=polarity_counts.index, legend=False)\n",
        "\n",
        "    # Configurações para remover rótulos e títulos desnecessários do gráfico\n",
        "    plt.yticks([], [])  # Remove os rótulos do eixo y para simplificar a visualização\n",
        "    plt.xlabel('')      # Limpa o título do eixo x para uma apresentação mais limpa\n",
        "    plt.ylabel('')      # Limpa o título do eixo y para uma apresentação mais limpa\n",
        "    sns.despine(left=True)  # Remove a borda esquerda do gráfico para um design mais minimalista\n",
        "\n",
        "    # Loop para adicionar rótulos de texto em cada barra do gráfico, melhorando a interpretabilidade\n",
        "    for container in plt.gca().containers:\n",
        "        plt.gca().bar_label(container)  # Adiciona rótulos nas barras com a contagem de cada 'polarity'\n"
      ],
      "metadata": {
        "id": "It4_ogcuPNuu"
      },
      "execution_count": null,
      "outputs": []
    },
    {
      "cell_type": "code",
      "source": [
        "# Importa módulos essenciais para funcionalidades do notebook.\n",
        "import os\n",
        "\n",
        "import numpy as np\n",
        "import matplotlib.pyplot as plt\n",
        "import pandas as pd\n",
        "import requests\n",
        "import seaborn as sns\n",
        "\n",
        "from sklearn.model_selection import train_test_split\n",
        "\n",
        "import nlpaug.augmenter.word as naw\n",
        "\n",
        "timestamp = datetime.datetime.now().strftime('%Y-%m-%d %H:%M:%S')\n",
        "print(formata_msg(\"INFO\", \"Bibliotecas importadas com sucesso; ambiente pronto.\"))"
      ],
      "metadata": {
        "id": "8ueIJQz8n-h6"
      },
      "execution_count": null,
      "outputs": []
    },
    {
      "cell_type": "code",
      "source": [
        "# Define o diretório local para armazenar as bases de dados públicas coletadas.\n",
        "corpora_caminho = \"./corpora\"\n",
        "\n",
        "# Verifica se o diretório especificado já existe no ambiente do Colab.\n",
        "if not os.path.exists(corpora_caminho):\n",
        "  # Caso o diretório não exista, cria um novo diretório com o nome 'corpora'.\n",
        "  # Isso é útil para organizar os arquivos de dados baixados ou gerados.\n",
        "  os.mkdir(corpora_caminho)\n",
        "\n",
        "print(formata_msg(\"INFO\", f\"Diretório {corpora_caminho} foi criado com sucesso.\"))"
      ],
      "metadata": {
        "id": "Ld0Thaj9nqzn"
      },
      "execution_count": null,
      "outputs": []
    },
    {
      "cell_type": "markdown",
      "source": [
        "## Base de dados de comentários do Buscapé\n",
        "Buscapé é uma plataforma de comércio eletrônico brasileiro. O Buscapé funciona como um assistente de compras, para que os consumidores pesquisem produtos, preços, promoções e lojas.O Buscapé pertence à Mosaico Tecnologia ao Consumidor, que também é dona de outras plataformas de e-commerce."
      ],
      "metadata": {
        "id": "pzFkGfrRd65P"
      }
    },
    {
      "cell_type": "code",
      "source": [
        "# Define a URL da base pública armazenada no Github.\n",
        "url = \"https://raw.githubusercontent.com/gomesluiz/product-review-analytics/main/data/raw/buscape.csv\"\n",
        "\n",
        "# Configuração do arquivo para armazenamento da base de dados.\n",
        "buscape_arquivo = \"buscape-comentarios.csv\"\n",
        "\n",
        "# O método os.path.join cria o caminho completo para o arquivo, combinando\n",
        "# 'corpora_caminho' com o nome do arquivo.\n",
        "buscape_caminho = os.path.join(corpora_caminho, buscape_arquivo)\n",
        "\n",
        "# Define o formato do arquivo. Necessário para arquivos textos\n",
        "# armazenados no raw.githubusercontent.com.\n",
        "parametros = {\"downloadformat\": \"csv\"}\n",
        "\n",
        "# Executa o download do arquivo especificado na URL com os parâmetros\n",
        "# especificados\n",
        "resposta = requests.get(url, params=parametros)\n",
        "if resposta.status_code == 200:\n",
        "  # Se o status for igual a 200 (sucesso), grava o arquivo no caminho\n",
        "  # especificado\n",
        "  with open(buscape_caminho, \"wb\") as f:\n",
        "    f.write(resposta.content)\n",
        "  print(formata_msg(\"INFO\",f\"Download do arquivo {buscape_arquivo} concluído com sucesso!\"))\n",
        "else:\n",
        "  print(f\"Falha no download do arquivo {buscape_arquivo}:\", resposta.status_code)\n"
      ],
      "metadata": {
        "id": "woasdVNlm_gU"
      },
      "execution_count": null,
      "outputs": []
    },
    {
      "cell_type": "code",
      "source": [
        "# O comando head do linux mostra as cinco primeiras linhas do arquivo gravado.\n",
        "!head -n 5 {buscape_caminho}"
      ],
      "metadata": {
        "id": "57kIS4iOsTM1"
      },
      "execution_count": null,
      "outputs": []
    },
    {
      "cell_type": "code",
      "source": [
        "# Lista das colunas específicas para serem lidas do arquivo CSV.\n",
        "colunas_desejadas = ['review_text', 'polarity']\n",
        "\n",
        "# Carrega dados do CSV usando as colunas definidas.\n",
        "buscape_df = pd.read_csv(buscape_caminho, usecols=colunas_desejadas)\n",
        "\n",
        "# Mostra o número de linhas e colunas do dataFrame buscape_df.\n",
        "num_rows, num_cols = buscape_df.shape[0], buscape_df.shape[1]\n",
        "print(formata_msg(\"INFO\", f\"The dataset has {num_rows} rows and {num_cols} columns.\"))"
      ],
      "metadata": {
        "id": "JgPlAJr2S0Ct"
      },
      "execution_count": null,
      "outputs": []
    },
    {
      "cell_type": "code",
      "source": [
        "# Remove todas as linhas do DataFrame que contêm valores nulos.\n",
        "buscape_df.dropna(inplace=True)\n",
        "\n",
        "# Mostra o número de linhas e colunas do dataFrame buscape_df.\n",
        "num_rows, num_cols = buscape_df.shape[0], buscape_df.shape[1]\n",
        "print(formata_msg(\"INFO\", f\"The dataset has {num_rows} rows and {num_cols} columns.\"))"
      ],
      "metadata": {
        "id": "Epsn6SgI_BtU"
      },
      "execution_count": null,
      "outputs": []
    },
    {
      "cell_type": "code",
      "source": [
        "# Exibe as primeiras 5 linhas do DataFrame 'buscape_df' para uma rápida inspeção.\n",
        "buscape_df.head()"
      ],
      "metadata": {
        "id": "muIKeJ7gZq4F"
      },
      "execution_count": null,
      "outputs": []
    },
    {
      "cell_type": "code",
      "source": [
        "# Converte os valores da coluna 'polarity' para string.\n",
        "buscape_df['polarity'] = buscape_df['polarity'].astype(int)\n",
        "\n",
        "# Exibe as primeiras 5 linhas do DataFrame 'buscape_df' para uma rápida inspeção.\n",
        "buscape_df.head()"
      ],
      "metadata": {
        "id": "dRYgtwasBHXl"
      },
      "execution_count": null,
      "outputs": []
    },
    {
      "cell_type": "code",
      "source": [
        "# Plota um gráfico de barras as categorias de polaridade.\n",
        "plotar_distribuicao_polaridade(buscape_df)"
      ],
      "metadata": {
        "id": "GfLGVfDBDDS6"
      },
      "execution_count": null,
      "outputs": []
    },
    {
      "cell_type": "code",
      "source": [
        "# Seleciona uma linha específica do dataFrame 'buscape_df' usando 'iloc' para\n",
        "# testes do enriquecimento de dados.\n",
        "texto = buscape_df.iloc[5]['review_text'].replace(\"\\n\", \" \")\n",
        "print(texto)"
      ],
      "metadata": {
        "id": "ojfvfHh2mo-X"
      },
      "execution_count": null,
      "outputs": []
    },
    {
      "cell_type": "code",
      "source": [
        "# O objeto SynonymAug é configurado para enriquecer textos através da\n",
        "# substituição de palavras por seus sinônimos, utilizando a base de dados\n",
        "# 'wordnet'. O parâmetro 'lang' define o idioma dos sinônimos como Português\n",
        "# ('por'), e 'verbose=0' desativa mensagens adicionais durante a execução.\n",
        "aug = naw.SynonymAug(aug_src='wordnet', lang='por', verbose=0)\n",
        "\n",
        "print(\"Texto enriquecido:\")\n",
        "for ii in range(5):\n",
        "    # 'aug.augment(texto)' aplica o enriquecimento ao texto original, substituindo\n",
        "    # algumas palavras por seus sinônimos\n",
        "    print(aug.augment(texto))\n"
      ],
      "metadata": {
        "id": "IGEcNpuNoM8V"
      },
      "execution_count": null,
      "outputs": []
    },
    {
      "cell_type": "code",
      "source": [
        "from tqdm import tqdm\n",
        "from random import shuffle\n",
        "\n",
        "def enriquecer_texto(df, amostras=300, prob_aug=0.2):\n",
        "    aug.aug_p = prob_aug  # Define a probabilidade de augmentação de texto\n",
        "    novos_textos = []  # Lista para armazenar textos aumentados\n",
        "\n",
        "    # Seleciona amostras da classe minoritária (polaridade = 0)\n",
        "    df_minoritario = df[df.polarity == 0].reset_index(drop=True)\n",
        "\n",
        "    # Loop de augmentação de dados\n",
        "    for i in tqdm(np.random.randint(0, len(df_minoritario), amostras)):\n",
        "        texto = df_minoritario.iloc[i]['review_text']  # Seleciona um texto\n",
        "        texto_aumentado = aug.augment(texto)  # Aplica augmentação\n",
        "        novos_textos.append(texto_aumentado)  # Adiciona ao conjunto de novos textos\n",
        "\n",
        "    # Cria um DataFrame com os novos textos e a polaridade 0\n",
        "    novos_df = pd.DataFrame({'review_text': novos_textos, 'polarity': 0})\n",
        "\n",
        "    # Combina o DataFrame original com o novo e reorganiza os índices\n",
        "    df = pd.concat([df, novos_df], ignore_index=True)\n",
        "    return df\n",
        "\n",
        "# Divisão do DataFrame 'buscape_df' em conjuntos de treino e teste.\n",
        "train, test = train_test_split(buscape_df, test_size=0.15, random_state=1)\n",
        "\n",
        "# plotar a distribuição de polaridade no conjunto de treino\n",
        "plotar_distribuicao_polaridade(train)"
      ],
      "metadata": {
        "id": "8akLoHA5U-Dt"
      },
      "execution_count": null,
      "outputs": []
    },
    {
      "cell_type": "code",
      "source": [
        "# Enriquece o conjunto de treinamento. Esse procedimento não\n",
        "# ser aplicado somente no conjunto de testes. Esse\n",
        "# deve refletir dados do mundo real tão fielmente quanto possível.\n",
        "train = enriquecer_texto(train)"
      ],
      "metadata": {
        "id": "lJeVYGh9MMlg"
      },
      "execution_count": null,
      "outputs": []
    },
    {
      "cell_type": "code",
      "source": [
        "# plotar a distribuição de polaridade no conjunto de treino\n",
        "# após o enriquecimento.\n",
        "plotar_distribuicao_polaridade(train)"
      ],
      "metadata": {
        "id": "g66dMY7IMny3"
      },
      "execution_count": null,
      "outputs": []
    }
  ]
}