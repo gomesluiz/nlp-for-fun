{
  "cells": [
    {
      "cell_type": "markdown",
      "metadata": {
        "id": "view-in-github",
        "colab_type": "text"
      },
      "source": [
        "<a href=\"https://colab.research.google.com/github/gomesluiz/pln-na-pratica/blob/main/u4-02-hands-on-1-classificacao-de-texto-1-prepare-data.ipynb\" target=\"_parent\"><img src=\"https://colab.research.google.com/assets/colab-badge.svg\" alt=\"Open In Colab\"/></a>"
      ]
    },
    {
      "cell_type": "markdown",
      "metadata": {
        "id": "W-Cd8gM8yYSJ"
      },
      "source": [
        "# Bug Severity Predictor for Mozilla"
      ]
    },
    {
      "cell_type": "markdown",
      "metadata": {
        "id": "hJYhcXGIpkLA"
      },
      "source": [
        "In this project, I'll build a severity predictor for the [Mozilla project](https://www.mozilla.org/en-US/) that uses the description of a bug report stored a in [Bugzilla Tracking System](https://bugzilla.mozilla.org/home) to predict its severity.\n",
        "\n",
        "The severity in the Mozilla project indicates how severe the problem is – from blocker (\"application unusable\") to trivial (\"minor cosmetic issue\"). Also, this field can be used to indicate whether a bug is an enhancement request. In my project, I have considered five severity levels: **trivial**, **minor**, **major**, **critical**, and **blocker**. I have ignored the default severity level (often **\"normal\"**) because this level is considered as a choice made by users when they are not sure about the correct severity level."
      ]
    },
    {
      "cell_type": "markdown",
      "metadata": {
        "id": "Rite59aUpkLC"
      },
      "source": [
        "## Data Preparation"
      ]
    },
    {
      "cell_type": "markdown",
      "metadata": {
        "id": "c3ecgBs8pkLC"
      },
      "source": [
        "One of the first steps in any machine learning project is the data preparation that includes the data loading, noting, and cleaning the information that will be included in the working dataset. So, this notebook is all about preparing the data and noting patterns about the features you are given and the distribution of data."
      ]
    },
    {
      "cell_type": "markdown",
      "metadata": {
        "id": "8nddseN0pkLD"
      },
      "source": [
        "### Project setup"
      ]
    },
    {
      "cell_type": "markdown",
      "metadata": {
        "id": "SF-XrYdYpkLD"
      },
      "source": [
        "The cell below will download the necessary Python packages to execute the code throughout this notebook."
      ]
    },
    {
      "cell_type": "code",
      "execution_count": 13,
      "metadata": {
        "id": "KkxA6BbDpkLD"
      },
      "outputs": [],
      "source": [
        "# standard packages\n",
        "import os\n",
        "import re\n",
        "import pandas as pd\n",
        "import numpy as np\n",
        "\n"
      ]
    },
    {
      "cell_type": "code",
      "source": [
        "def clean_data_fn(text):\n",
        "    \"\"\"Clean and convert a text to store only alphabetical characters\n",
        "       in lower case.\n",
        "\n",
        "    Args:\n",
        "        text (str): a text string.\n",
        "\n",
        "    Returns:\n",
        "        text (str): a text string converted.\n",
        "    \"\"\"\n",
        "    text = text.lower()\n",
        "    text = re.sub(r\"([?.!,¿])\", r\" \", text)\n",
        "    text = re.sub(r'[\" \"]+', \" \", text)\n",
        "    text = re.sub(r\"[^a-zA-Z?.!,¿]+\", \" \", text)\n",
        "    text=re.sub(r'@\\w+', '',text)\n",
        "    return text\n",
        "\n",
        "def load_data_fn(file_path):\n",
        "    \"\"\"Read and clean a bug report data set.\n",
        "\n",
        "    Args:\n",
        "        filepath (str): a complete filename path.\n",
        "\n",
        "    Returns:\n",
        "        result (dataframe): a bug report dataframe.\n",
        "\n",
        "    \"\"\"\n",
        "    reports = pd.read_csv(file_path, encoding='utf8', sep=',', parse_dates=True\n",
        "      ,low_memory=False)\n",
        "\n",
        "    reports.dropna(inplace=True)\n",
        "    reports['long_description'] = reports['long_description'].map(clean_data_fn)\n",
        "    reports['long_description'] = reports['long_description'].replace('', np.nan)\n",
        "\n",
        "    result = reports.loc[:, ('long_description', 'severity_category')]\n",
        "    result.dropna(inplace=True)\n",
        "    result.reset_index(drop=True, inplace=True)\n",
        "\n",
        "    return result"
      ],
      "metadata": {
        "id": "sRlhWJYFqLBL"
      },
      "execution_count": 15,
      "outputs": []
    },
    {
      "cell_type": "markdown",
      "metadata": {
        "id": "AxTJEXyTpkLE"
      },
      "source": [
        "### Read in the data"
      ]
    },
    {
      "cell_type": "markdown",
      "metadata": {
        "id": "h3SJJXFhpkLF"
      },
      "source": [
        "The cell below will download the necessary data and extract the files into the folder **data/raw**.\n",
        "\n",
        "This data is a version of a dataset created by me, Ricardo Torres, and Mario Côrtes at the University of Campinas for long-lived bug prediction research. You can read all about the data collection at [Mendeley Data](https://data.mendeley.com/datasets/v446tfssgj/2).\n",
        "\n",
        "> **Citation for data:** Gomes, Luiz; Torres, Ricardo; Côrtes, Mario (2021), “A Dataset for Long-lived Bug Prediction in FLOSS ”, Mendeley Data, V2, doi: 10.17632/v446tfssgj.2"
      ]
    },
    {
      "cell_type": "code",
      "execution_count": 16,
      "metadata": {
        "id": "8qDho6OgpkLF"
      },
      "outputs": [],
      "source": [
        "reports_input_url= 'https://data.mendeley.com/public-files/datasets/v446tfssgj/files/8666b62f-ef75-45e5-89cd-f49795b9cbee/file_downloaded'\n",
        "raw_reports_path = os.path.join('..', 'data', 'raw')"
      ]
    },
    {
      "cell_type": "code",
      "execution_count": 17,
      "metadata": {
        "colab": {
          "base_uri": "https://localhost:8080/"
        },
        "id": "6BeBU_b7yYS9",
        "outputId": "2536df8f-77aa-464c-c171-40cda6bd31f4"
      },
      "outputs": [
        {
          "output_type": "stream",
          "name": "stdout",
          "text": [
            "--2024-04-04 15:12:03--  https://data.mendeley.com/public-files/datasets/v446tfssgj/files/8666b62f-ef75-45e5-89cd-f49795b9cbee/file_downloaded\n",
            "Resolving data.mendeley.com (data.mendeley.com)... 162.159.130.86, 162.159.133.86\n",
            "Connecting to data.mendeley.com (data.mendeley.com)|162.159.130.86|:443... connected.\n",
            "HTTP request sent, awaiting response... 302 Found\n",
            "Location: https://prod-dcd-datasets-public-files-eu-west-1.s3.eu-west-1.amazonaws.com/829a4fd4-ba89-4bc2-b4f8-5c18f49a699d [following]\n",
            "--2024-04-04 15:12:04--  https://prod-dcd-datasets-public-files-eu-west-1.s3.eu-west-1.amazonaws.com/829a4fd4-ba89-4bc2-b4f8-5c18f49a699d\n",
            "Resolving prod-dcd-datasets-public-files-eu-west-1.s3.eu-west-1.amazonaws.com (prod-dcd-datasets-public-files-eu-west-1.s3.eu-west-1.amazonaws.com)... 3.5.69.102, 3.5.66.58, 52.218.90.208, ...\n",
            "Connecting to prod-dcd-datasets-public-files-eu-west-1.s3.eu-west-1.amazonaws.com (prod-dcd-datasets-public-files-eu-west-1.s3.eu-west-1.amazonaws.com)|3.5.69.102|:443... connected.\n",
            "HTTP request sent, awaiting response... 200 OK\n",
            "Length: 7964553 (7.6M) [text/csv]\n",
            "Saving to: ‘../data/raw/mozilla_bug_report_data.csv’\n",
            "\n",
            "../data/raw/mozilla 100%[===================>]   7.59M  8.04MB/s    in 0.9s    \n",
            "\n",
            "2024-04-04 15:12:05 (8.04 MB/s) - ‘../data/raw/mozilla_bug_report_data.csv’ saved [7964553/7964553]\n",
            "\n"
          ]
        }
      ],
      "source": [
        "if not os.path.exists(raw_reports_path):\n",
        "    os.makedirs(raw_reports_path)\n",
        "\n",
        "raw_reports_path = os.path.join(raw_reports_path, 'mozilla_bug_report_data.csv')\n",
        "!wget -O {raw_reports_path} {reports_input_url}"
      ]
    },
    {
      "cell_type": "code",
      "execution_count": 18,
      "metadata": {
        "id": "xgnLDxwLpkLH",
        "outputId": "378c6a48-4ab6-4aa3-e810-d36ef332daed",
        "colab": {
          "base_uri": "https://localhost:8080/"
        }
      },
      "outputs": [
        {
          "output_type": "stream",
          "name": "stdout",
          "text": [
            "bug_id,creation_date,component_name,product_name,short_description,long_description,assignee_name,reporter_name,resolution_category,resolution_code,status_category,status_code,update_date,quantity_of_votes,quantity_of_comments,resolution_date,bug_fix_time,severity_category,severity_code\r\n",
            "BUGZILLA-294734,2005-05-18,Bugzilla-General,BUGZILLA,Emergency 2.16.10 Release,\"2.16.9 is broken -- many users can't enter bugs on it particularly not from a\n"
          ]
        }
      ],
      "source": [
        "!head -2 {raw_reports_path}"
      ]
    },
    {
      "cell_type": "code",
      "execution_count": 19,
      "metadata": {
        "id": "9L-Lwst1yYTJ"
      },
      "outputs": [],
      "source": [
        "reports_data = load_data_fn(raw_reports_path)"
      ]
    },
    {
      "cell_type": "code",
      "execution_count": 20,
      "metadata": {
        "id": "ydLgUMgfpkLI"
      },
      "outputs": [],
      "source": [
        "# filtering out bugs with normal severity level.\n",
        "reports_data = reports_data.loc[reports_data['severity_category'] != 'normal']"
      ]
    },
    {
      "cell_type": "markdown",
      "metadata": {
        "id": "oUwr3qpvpkLJ"
      },
      "source": [
        "#### Basic data exploration"
      ]
    },
    {
      "cell_type": "code",
      "execution_count": 21,
      "metadata": {
        "colab": {
          "base_uri": "https://localhost:8080/",
          "height": 206
        },
        "id": "0P9WLUbSyYTP",
        "outputId": "ca54d232-2d03-44f8-ff86-ff6631372552"
      },
      "outputs": [
        {
          "output_type": "execute_result",
          "data": {
            "text/plain": [
              "                                     long_description severity_category\n",
              "0    is broken many users can t enter bugs on it p...           blocker\n",
              "2   adding support for custom headers and cookie n...           blocker\n",
              "9   the patch in bug regressed the fix from bug th...             major\n",
              "15  from bugzilla helper user agent mozilla x u li...             major\n",
              "20  i found it odd that relogin cgi didn t clear o...             minor"
            ],
            "text/html": [
              "\n",
              "  <div id=\"df-10ff9e77-3013-4f17-bca3-f70fdb911e03\" class=\"colab-df-container\">\n",
              "    <div>\n",
              "<style scoped>\n",
              "    .dataframe tbody tr th:only-of-type {\n",
              "        vertical-align: middle;\n",
              "    }\n",
              "\n",
              "    .dataframe tbody tr th {\n",
              "        vertical-align: top;\n",
              "    }\n",
              "\n",
              "    .dataframe thead th {\n",
              "        text-align: right;\n",
              "    }\n",
              "</style>\n",
              "<table border=\"1\" class=\"dataframe\">\n",
              "  <thead>\n",
              "    <tr style=\"text-align: right;\">\n",
              "      <th></th>\n",
              "      <th>long_description</th>\n",
              "      <th>severity_category</th>\n",
              "    </tr>\n",
              "  </thead>\n",
              "  <tbody>\n",
              "    <tr>\n",
              "      <th>0</th>\n",
              "      <td>is broken many users can t enter bugs on it p...</td>\n",
              "      <td>blocker</td>\n",
              "    </tr>\n",
              "    <tr>\n",
              "      <th>2</th>\n",
              "      <td>adding support for custom headers and cookie n...</td>\n",
              "      <td>blocker</td>\n",
              "    </tr>\n",
              "    <tr>\n",
              "      <th>9</th>\n",
              "      <td>the patch in bug regressed the fix from bug th...</td>\n",
              "      <td>major</td>\n",
              "    </tr>\n",
              "    <tr>\n",
              "      <th>15</th>\n",
              "      <td>from bugzilla helper user agent mozilla x u li...</td>\n",
              "      <td>major</td>\n",
              "    </tr>\n",
              "    <tr>\n",
              "      <th>20</th>\n",
              "      <td>i found it odd that relogin cgi didn t clear o...</td>\n",
              "      <td>minor</td>\n",
              "    </tr>\n",
              "  </tbody>\n",
              "</table>\n",
              "</div>\n",
              "    <div class=\"colab-df-buttons\">\n",
              "\n",
              "  <div class=\"colab-df-container\">\n",
              "    <button class=\"colab-df-convert\" onclick=\"convertToInteractive('df-10ff9e77-3013-4f17-bca3-f70fdb911e03')\"\n",
              "            title=\"Convert this dataframe to an interactive table.\"\n",
              "            style=\"display:none;\">\n",
              "\n",
              "  <svg xmlns=\"http://www.w3.org/2000/svg\" height=\"24px\" viewBox=\"0 -960 960 960\">\n",
              "    <path d=\"M120-120v-720h720v720H120Zm60-500h600v-160H180v160Zm220 220h160v-160H400v160Zm0 220h160v-160H400v160ZM180-400h160v-160H180v160Zm440 0h160v-160H620v160ZM180-180h160v-160H180v160Zm440 0h160v-160H620v160Z\"/>\n",
              "  </svg>\n",
              "    </button>\n",
              "\n",
              "  <style>\n",
              "    .colab-df-container {\n",
              "      display:flex;\n",
              "      gap: 12px;\n",
              "    }\n",
              "\n",
              "    .colab-df-convert {\n",
              "      background-color: #E8F0FE;\n",
              "      border: none;\n",
              "      border-radius: 50%;\n",
              "      cursor: pointer;\n",
              "      display: none;\n",
              "      fill: #1967D2;\n",
              "      height: 32px;\n",
              "      padding: 0 0 0 0;\n",
              "      width: 32px;\n",
              "    }\n",
              "\n",
              "    .colab-df-convert:hover {\n",
              "      background-color: #E2EBFA;\n",
              "      box-shadow: 0px 1px 2px rgba(60, 64, 67, 0.3), 0px 1px 3px 1px rgba(60, 64, 67, 0.15);\n",
              "      fill: #174EA6;\n",
              "    }\n",
              "\n",
              "    .colab-df-buttons div {\n",
              "      margin-bottom: 4px;\n",
              "    }\n",
              "\n",
              "    [theme=dark] .colab-df-convert {\n",
              "      background-color: #3B4455;\n",
              "      fill: #D2E3FC;\n",
              "    }\n",
              "\n",
              "    [theme=dark] .colab-df-convert:hover {\n",
              "      background-color: #434B5C;\n",
              "      box-shadow: 0px 1px 3px 1px rgba(0, 0, 0, 0.15);\n",
              "      filter: drop-shadow(0px 1px 2px rgba(0, 0, 0, 0.3));\n",
              "      fill: #FFFFFF;\n",
              "    }\n",
              "  </style>\n",
              "\n",
              "    <script>\n",
              "      const buttonEl =\n",
              "        document.querySelector('#df-10ff9e77-3013-4f17-bca3-f70fdb911e03 button.colab-df-convert');\n",
              "      buttonEl.style.display =\n",
              "        google.colab.kernel.accessAllowed ? 'block' : 'none';\n",
              "\n",
              "      async function convertToInteractive(key) {\n",
              "        const element = document.querySelector('#df-10ff9e77-3013-4f17-bca3-f70fdb911e03');\n",
              "        const dataTable =\n",
              "          await google.colab.kernel.invokeFunction('convertToInteractive',\n",
              "                                                    [key], {});\n",
              "        if (!dataTable) return;\n",
              "\n",
              "        const docLinkHtml = 'Like what you see? Visit the ' +\n",
              "          '<a target=\"_blank\" href=https://colab.research.google.com/notebooks/data_table.ipynb>data table notebook</a>'\n",
              "          + ' to learn more about interactive tables.';\n",
              "        element.innerHTML = '';\n",
              "        dataTable['output_type'] = 'display_data';\n",
              "        await google.colab.output.renderOutput(dataTable, element);\n",
              "        const docLink = document.createElement('div');\n",
              "        docLink.innerHTML = docLinkHtml;\n",
              "        element.appendChild(docLink);\n",
              "      }\n",
              "    </script>\n",
              "  </div>\n",
              "\n",
              "\n",
              "<div id=\"df-423475e1-4d7d-42ec-a595-6772ce3ad751\">\n",
              "  <button class=\"colab-df-quickchart\" onclick=\"quickchart('df-423475e1-4d7d-42ec-a595-6772ce3ad751')\"\n",
              "            title=\"Suggest charts\"\n",
              "            style=\"display:none;\">\n",
              "\n",
              "<svg xmlns=\"http://www.w3.org/2000/svg\" height=\"24px\"viewBox=\"0 0 24 24\"\n",
              "     width=\"24px\">\n",
              "    <g>\n",
              "        <path d=\"M19 3H5c-1.1 0-2 .9-2 2v14c0 1.1.9 2 2 2h14c1.1 0 2-.9 2-2V5c0-1.1-.9-2-2-2zM9 17H7v-7h2v7zm4 0h-2V7h2v10zm4 0h-2v-4h2v4z\"/>\n",
              "    </g>\n",
              "</svg>\n",
              "  </button>\n",
              "\n",
              "<style>\n",
              "  .colab-df-quickchart {\n",
              "      --bg-color: #E8F0FE;\n",
              "      --fill-color: #1967D2;\n",
              "      --hover-bg-color: #E2EBFA;\n",
              "      --hover-fill-color: #174EA6;\n",
              "      --disabled-fill-color: #AAA;\n",
              "      --disabled-bg-color: #DDD;\n",
              "  }\n",
              "\n",
              "  [theme=dark] .colab-df-quickchart {\n",
              "      --bg-color: #3B4455;\n",
              "      --fill-color: #D2E3FC;\n",
              "      --hover-bg-color: #434B5C;\n",
              "      --hover-fill-color: #FFFFFF;\n",
              "      --disabled-bg-color: #3B4455;\n",
              "      --disabled-fill-color: #666;\n",
              "  }\n",
              "\n",
              "  .colab-df-quickchart {\n",
              "    background-color: var(--bg-color);\n",
              "    border: none;\n",
              "    border-radius: 50%;\n",
              "    cursor: pointer;\n",
              "    display: none;\n",
              "    fill: var(--fill-color);\n",
              "    height: 32px;\n",
              "    padding: 0;\n",
              "    width: 32px;\n",
              "  }\n",
              "\n",
              "  .colab-df-quickchart:hover {\n",
              "    background-color: var(--hover-bg-color);\n",
              "    box-shadow: 0 1px 2px rgba(60, 64, 67, 0.3), 0 1px 3px 1px rgba(60, 64, 67, 0.15);\n",
              "    fill: var(--button-hover-fill-color);\n",
              "  }\n",
              "\n",
              "  .colab-df-quickchart-complete:disabled,\n",
              "  .colab-df-quickchart-complete:disabled:hover {\n",
              "    background-color: var(--disabled-bg-color);\n",
              "    fill: var(--disabled-fill-color);\n",
              "    box-shadow: none;\n",
              "  }\n",
              "\n",
              "  .colab-df-spinner {\n",
              "    border: 2px solid var(--fill-color);\n",
              "    border-color: transparent;\n",
              "    border-bottom-color: var(--fill-color);\n",
              "    animation:\n",
              "      spin 1s steps(1) infinite;\n",
              "  }\n",
              "\n",
              "  @keyframes spin {\n",
              "    0% {\n",
              "      border-color: transparent;\n",
              "      border-bottom-color: var(--fill-color);\n",
              "      border-left-color: var(--fill-color);\n",
              "    }\n",
              "    20% {\n",
              "      border-color: transparent;\n",
              "      border-left-color: var(--fill-color);\n",
              "      border-top-color: var(--fill-color);\n",
              "    }\n",
              "    30% {\n",
              "      border-color: transparent;\n",
              "      border-left-color: var(--fill-color);\n",
              "      border-top-color: var(--fill-color);\n",
              "      border-right-color: var(--fill-color);\n",
              "    }\n",
              "    40% {\n",
              "      border-color: transparent;\n",
              "      border-right-color: var(--fill-color);\n",
              "      border-top-color: var(--fill-color);\n",
              "    }\n",
              "    60% {\n",
              "      border-color: transparent;\n",
              "      border-right-color: var(--fill-color);\n",
              "    }\n",
              "    80% {\n",
              "      border-color: transparent;\n",
              "      border-right-color: var(--fill-color);\n",
              "      border-bottom-color: var(--fill-color);\n",
              "    }\n",
              "    90% {\n",
              "      border-color: transparent;\n",
              "      border-bottom-color: var(--fill-color);\n",
              "    }\n",
              "  }\n",
              "</style>\n",
              "\n",
              "  <script>\n",
              "    async function quickchart(key) {\n",
              "      const quickchartButtonEl =\n",
              "        document.querySelector('#' + key + ' button');\n",
              "      quickchartButtonEl.disabled = true;  // To prevent multiple clicks.\n",
              "      quickchartButtonEl.classList.add('colab-df-spinner');\n",
              "      try {\n",
              "        const charts = await google.colab.kernel.invokeFunction(\n",
              "            'suggestCharts', [key], {});\n",
              "      } catch (error) {\n",
              "        console.error('Error during call to suggestCharts:', error);\n",
              "      }\n",
              "      quickchartButtonEl.classList.remove('colab-df-spinner');\n",
              "      quickchartButtonEl.classList.add('colab-df-quickchart-complete');\n",
              "    }\n",
              "    (() => {\n",
              "      let quickchartButtonEl =\n",
              "        document.querySelector('#df-423475e1-4d7d-42ec-a595-6772ce3ad751 button');\n",
              "      quickchartButtonEl.style.display =\n",
              "        google.colab.kernel.accessAllowed ? 'block' : 'none';\n",
              "    })();\n",
              "  </script>\n",
              "</div>\n",
              "\n",
              "    </div>\n",
              "  </div>\n"
            ],
            "application/vnd.google.colaboratory.intrinsic+json": {
              "type": "dataframe",
              "variable_name": "reports_data",
              "summary": "{\n  \"name\": \"reports_data\",\n  \"rows\": 2388,\n  \"fields\": [\n    {\n      \"column\": \"long_description\",\n      \"properties\": {\n        \"dtype\": \"string\",\n        \"num_unique_values\": 2354,\n        \"samples\": [\n          \"user agent build identifier mozilla windows u windows nt en us rv gecko webwasher upgraded from to and autojoin fails in prefs autojoin is set to foo c a bar channel has xc a in it s name but client converts it to x and tries to connect foo x bar reproducible always steps to reproduce \",\n          \"build with ldap support see http www mozilla org directory xpcom html for instructions now via a reasonably fast link eg the netscape lan visit an ldap search url that returns a lot of directory entries such as ldap memberdir netscape com ou member directoryo netcenter com sub sn smith the ui will completely stall out on all platforms for quite some time on my linux box it hangs for seconds if i do this from a slow link like my ricochet modem which is k the ui behaves reasonably ie the throbber and status bar continue to spin xul menus continue to work etc alternately if i sleep a while between callbacks a la line of nsldapconnection cpp the problem goes away doug i took your advice and moved of the callback logic to the ldap connection thread note that nsldapchannel cpp is now compiled with define invoke ldap callbacks on main thread this doesn t seem to make any perceptible difference is it time for event priorities so that events related to the chrome and ui can take precedence \",\n          \"loading https bugzilla mozilla org attachment cgi id crashes firefox mac trunk debug this is a regression from the last week or so \"\n        ],\n        \"semantic_type\": \"\",\n        \"description\": \"\"\n      }\n    },\n    {\n      \"column\": \"severity_category\",\n      \"properties\": {\n        \"dtype\": \"category\",\n        \"num_unique_values\": 5,\n        \"samples\": [\n          \"major\",\n          \"trivial\",\n          \"minor\"\n        ],\n        \"semantic_type\": \"\",\n        \"description\": \"\"\n      }\n    }\n  ]\n}"
            }
          },
          "metadata": {},
          "execution_count": 21
        }
      ],
      "source": [
        "reports_data.head()"
      ]
    },
    {
      "cell_type": "code",
      "execution_count": null,
      "metadata": {
        "colab": {
          "base_uri": "https://localhost:8080/"
        },
        "id": "qzt-Kbx7yYTW",
        "outputId": "462764b3-a8fe-4f10-c925-0b1e14188930"
      },
      "outputs": [
        {
          "data": {
            "text/plain": [
              "major       737\n",
              "critical    605\n",
              "minor       540\n",
              "trivial     302\n",
              "blocker     204\n",
              "Name: severity_category, dtype: int64"
            ]
          },
          "execution_count": 8,
          "metadata": {},
          "output_type": "execute_result"
        }
      ],
      "source": [
        "reports_data['severity_category'].value_counts()"
      ]
    },
    {
      "cell_type": "markdown",
      "metadata": {
        "id": "DyNvudzOpkLN"
      },
      "source": [
        "### Export data cleaned"
      ]
    },
    {
      "cell_type": "code",
      "execution_count": 26,
      "metadata": {
        "id": "I9Asb5SUpkLO"
      },
      "outputs": [],
      "source": [
        "cleaned_reports_path = os.path.join('..', 'data', 'cleaned')"
      ]
    },
    {
      "cell_type": "code",
      "execution_count": 27,
      "metadata": {
        "id": "9wNzK8UwpkLO"
      },
      "outputs": [],
      "source": [
        "if not os.path.exists(cleaned_reports_path):\n",
        "    os.makedirs(cleaned_reports_path)"
      ]
    },
    {
      "cell_type": "code",
      "execution_count": 28,
      "metadata": {
        "id": "2R_5QSOSyYTm"
      },
      "outputs": [],
      "source": [
        "cleaned_reports_path = os.path.join(cleaned_reports_path, 'mozilla_bug_report_data.csv')\n",
        "reports_data[['long_description', 'severity_category']].to_csv(cleaned_reports_path, index=False)"
      ]
    }
  ],
  "metadata": {
    "colab": {
      "name": "prepare-data.ipynb",
      "provenance": [],
      "include_colab_link": true
    },
    "kernelspec": {
      "display_name": "Python 3",
      "language": "python",
      "name": "python3"
    },
    "language_info": {
      "codemirror_mode": {
        "name": "ipython",
        "version": 3
      },
      "file_extension": ".py",
      "mimetype": "text/x-python",
      "name": "python",
      "nbconvert_exporter": "python",
      "pygments_lexer": "ipython3",
      "version": "3.7.9"
    }
  },
  "nbformat": 4,
  "nbformat_minor": 0
}