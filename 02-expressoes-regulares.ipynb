{
  "nbformat": 4,
  "nbformat_minor": 0,
  "metadata": {
    "kernelspec": {
      "display_name": "Python 3",
      "name": "python3"
    },
    "language_info": {
      "name": "python"
    },
    "colab": {
      "provenance": [],
      "include_colab_link": true
    }
  },
  "cells": [
    {
      "cell_type": "markdown",
      "metadata": {
        "id": "view-in-github",
        "colab_type": "text"
      },
      "source": [
        "<a href=\"https://colab.research.google.com/github/gomesluiz/pln-na-pratica/blob/main/02-expressoes-regulares.ipynb\" target=\"_parent\"><img src=\"https://colab.research.google.com/assets/colab-badge.svg\" alt=\"Open In Colab\"/></a>"
      ]
    },
    {
      "cell_type": "markdown",
      "metadata": {
        "id": "7Oh3sCHZU2aY"
      },
      "source": [
        "# Expressões Regulares\n",
        "\n",
        "No Python, o módulo re é a ferramenta essencial para quem deseja explorar as expressões regulares, um recurso potente para o processamento e análise de textos. Com funcionalidades diversificadas, esse módulo permite identificar, buscar e alterar padrões específicos dentro de strings, simplificando análises textuais que, de outra forma, seriam complexas e demoradas. Neste guia, exploraremos como essas capacidades se traduzem em soluções práticas para desafios comuns no universo da programação.\n",
        "\n",
        "## Métodos de pesquisa\n",
        "\n",
        "|   Método   |                                      Descrição                                     |\n",
        "|:----------|:----------------------------------------------------------------------------------|\n",
        "| match()    | Verifica se a expressão regular (RE) corresponde ao início da string.                                  |\n",
        "| search()   | Varre toda a string, procurando qualquer local onde esta expressão regular corresponda.   |\n",
        "| findall()  |Encontra todas as substrings onde a expressão regular corresponde e retorna-as em uma lista.  |\n",
        "| finditer() | Encontra todas as substrings em que a expressão regular corresponde e as retorna como um iterador. |\n",
        "\n",
        "## Métodos para modificar strings\n",
        "\n",
        "| Método  | Descrição                                                                                            |\n",
        "|---------|------------------------------------------------------------------------------------------------------|\n",
        "| split() | Divide a string em uma lista, separando-a nos pontos onde ocorre uma correspondência com a expressão regular.                |\n",
        "| sub()   | Encontra todas as substrings que correspondem à expressão regular e as substitui por uma string diferente. |\n",
        "| subn()  |  Funciona de forma semelhante ao método sub(), mas retorna a nova string e o número de substituições feitas.                 |"
      ]
    },
    {
      "cell_type": "code",
      "source": [
        "# Declara define funções utilitárias utilizadas no notebook.\n",
        "import datetime\n",
        "import sys\n",
        "def formata_msg(nivel, msg):\n",
        "    \"\"\"\n",
        "    Formata uma mensagem de log incluindo o nível de severidade, timestamp\n",
        "    e a mensagem.\n",
        "\n",
        "    Parâmetros:\n",
        "    - nivel (str): Nível de severidade da mensagem (ex: 'INFO', 'ERROR', 'WARNING').\n",
        "    - msg (str): A mensagem de log propriamente dita.\n",
        "\n",
        "    Retorna:\n",
        "    - str: A mensagem de log formatada.\n",
        "    \"\"\"\n",
        "    timestamp = datetime.datetime.now().strftime('%Y-%m-%d %H:%M:%S')\n",
        "\n",
        "    return f\"[{nivel}] {timestamp} - {msg}\"\n",
        "\n",
        "print(formata_msg(\"INFO\", \"Funções utilitárias prontas para utilização.\"))\n",
        "print(formata_msg(\"INFO\", f\"Versão do Python: {sys.version} \"))"
      ],
      "metadata": {
        "colab": {
          "base_uri": "https://localhost:8080/"
        },
        "id": "EW7hmVPuMNbq",
        "outputId": "b84bd170-85b9-4da9-fd07-2354440b7033"
      },
      "execution_count": 30,
      "outputs": [
        {
          "output_type": "stream",
          "name": "stdout",
          "text": [
            "[INFO] 2024-03-11 03:16:16 - Funções utilitárias prontas para utilização.\n",
            "[INFO] 2024-03-11 03:16:16 - Versão do Python: 3.10.12 (main, Nov 20 2023, 15:14:05) [GCC 11.4.0] \n"
          ]
        }
      ]
    },
    {
      "cell_type": "code",
      "metadata": {
        "id": "VlypLoBCU2aZ"
      },
      "source": [
        "# Importa módulos essenciais para funcionalidades do notebook.\n",
        "import re"
      ],
      "execution_count": 31,
      "outputs": []
    },
    {
      "cell_type": "code",
      "source": [
        "texto = \"\"\"Transferência recebida de JOAO SILVA, conta 1234-5. Valor: R$1.500,00 em 2024-02-15.\n",
        "Pagamento confirmado para ALUGUEL, Conta 6789-0. Valor: R$800,00 em 2024-02-16.\n",
        "Depósito recebido, conta 5432-1. Valor: R$3.200,00 em 2024-02-17.\"\"\""
      ],
      "metadata": {
        "id": "beUgOO5ASa_a"
      },
      "execution_count": 32,
      "outputs": []
    },
    {
      "cell_type": "code",
      "metadata": {
        "id": "TfETR1kbU2ai",
        "colab": {
          "base_uri": "https://localhost:8080/"
        },
        "outputId": "d424c332-3b1b-47cc-8196-6bd7c38a50bd"
      },
      "source": [
        "print(formata_msg(\"INFO\",f\"\\n{texto}\"))"
      ],
      "execution_count": 34,
      "outputs": [
        {
          "output_type": "stream",
          "name": "stdout",
          "text": [
            "[INFO] 2024-03-11 03:16:32 - \n",
            "Transferência recebida de JOAO SILVA, conta 1234-5. Valor: R$1.500,00 em 2024-02-15.\n",
            "Pagamento confirmado para ALUGUEL, Conta 6789-0. Valor: R$800,00 em 2024-02-16.\n",
            "Depósito recebido, conta 5432-1. Valor: R$3.200,00 em 2024-02-17.\n"
          ]
        }
      ]
    },
    {
      "cell_type": "markdown",
      "metadata": {
        "id": "JhDqvmbOU2ap"
      },
      "source": [
        "## Método **match()**\n",
        "O método **match()** é utilizado para verificar se uma expressão regular (RE) se alinha ao começo de uma determinada string. Esse recurso é especialmente útil em situações onde a correspondência no início do texto é esseencial para a validação ou análise dos dados em questão."
      ]
    },
    {
      "cell_type": "code",
      "metadata": {
        "id": "g_a4wIfkU2aq",
        "colab": {
          "base_uri": "https://localhost:8080/"
        },
        "outputId": "950ffdd1-7f7b-479e-f812-3f7f374c2d54"
      },
      "source": [
        "# A letra 'r' antes da string indica uma \"raw string\", tratando caracteres de\n",
        "# escape como caracteres comuns, útil em expressões regulares.\n",
        "padrao = r\"transferência recebida\"\n",
        "resultado = re.match(padrao, texto)\n",
        "if resultado:\n",
        "    print(formata_msg(\"INFO\", f\"Padrão '{padrao}', encontrado: {resultado.group()}\"))\n",
        "else:\n",
        "    print(formata_msg(\"ERRO\", f\"Padrão '{padrao}', não encontrado.\"))"
      ],
      "execution_count": 35,
      "outputs": [
        {
          "output_type": "stream",
          "name": "stdout",
          "text": [
            "[ERRO] 2024-03-11 03:23:52 - Padrão 'transferência recebida', não encontrado.\n"
          ]
        }
      ]
    },
    {
      "cell_type": "code",
      "metadata": {
        "colab": {
          "base_uri": "https://localhost:8080/"
        },
        "outputId": "0de472b8-5872-4036-b2b0-79a23fc8b26a",
        "id": "Els5JR1QWa1t"
      },
      "source": [
        "padrao = r\"[Tt]ransferência recebida\"\n",
        "resultado = re.match(padrao, texto)\n",
        "if resultado:\n",
        "    print(formata_msg(\"INFO\", f\"Padrão '{padrao}', encontrado: {resultado.group()}\"))\n",
        "else:\n",
        "    print(formata_msg(\"ERRO\", f\"Padrão '{padrao}', não encontrado.\"))"
      ],
      "execution_count": 36,
      "outputs": [
        {
          "output_type": "stream",
          "name": "stdout",
          "text": [
            "[INFO] 2024-03-11 03:23:56 - Padrão '[Tt]ransferência recebida', encontrado: Transferência recebida\n"
          ]
        }
      ]
    },
    {
      "cell_type": "code",
      "metadata": {
        "id": "pbqBQJDYU2a0",
        "colab": {
          "base_uri": "https://localhost:8080/"
        },
        "outputId": "a5222391-ddee-49f3-b6a1-5abe569bf637"
      },
      "source": [
        "padrao = r\"(Transferência|transferência)\"\n",
        "resultado = re.match(padrao, texto)\n",
        "if resultado:\n",
        "    print(formata_msg(\"INFO\", f\"Padrão '{padrao}', encontrado: {resultado.group()}\"))\n",
        "else:\n",
        "    print(formata_msg(\"ERRO\", f\"Padrão '{padrao}', não encontrado.\"))"
      ],
      "execution_count": 37,
      "outputs": [
        {
          "output_type": "stream",
          "name": "stdout",
          "text": [
            "[INFO] 2024-03-11 03:24:11 - Padrão '(Transferência|transferência)', encontrado: Transferência\n"
          ]
        }
      ]
    },
    {
      "cell_type": "code",
      "source": [
        "padrao = r\"transferência recebida\"\n",
        "compilado = re.compile(padrao, re.IGNORECASE)\n",
        "resultado = compilado.match(texto)\n",
        "if resultado:\n",
        "    print(formata_msg(\"INFO\", f\"Padrão '{padrao}', encontrado: {resultado.group()}\"))\n",
        "else:\n",
        "    print(formata_msg(\"ERRO\", f\"Padrão '{padrao}', não encontrado.\"))"
      ],
      "metadata": {
        "colab": {
          "base_uri": "https://localhost:8080/"
        },
        "id": "Chs5OiTEb6bd",
        "outputId": "60877930-082a-4366-9400-5956b449ceb3"
      },
      "execution_count": 38,
      "outputs": [
        {
          "output_type": "stream",
          "name": "stdout",
          "text": [
            "[INFO] 2024-03-11 03:24:20 - Padrão 'transferência recebida', encontrado: Transferência recebida\n"
          ]
        }
      ]
    },
    {
      "cell_type": "markdown",
      "metadata": {
        "id": "0Mjq_-2UU2a4"
      },
      "source": [
        "## Método **search()**\n",
        "O método **search()** examina minuciosamente cada segmento da string para identificar pontos onde a expressão regular fornecida encontra correspondência. Diferente de match(), que se limita ao início da string, search() abrange a totalidade do texto, aumentando as chances de detecção de correspondências relevantes."
      ]
    },
    {
      "cell_type": "code",
      "metadata": {
        "id": "S6-yebBWU2a5",
        "colab": {
          "base_uri": "https://localhost:8080/"
        },
        "outputId": "cca0d4ee-8fb8-42c1-e0bc-12a09b5d6b07"
      },
      "source": [
        "padrao = r\"pagamento CONFIRMADO\"\n",
        "compilado = re.compile(padrao, re.IGNORECASE)\n",
        "resultado = compilado.search(texto)\n",
        "if resultado:\n",
        "    print(formata_msg(\"INFO\", f\"Padrão '{padrao}', encontrado: {resultado.group()}\"))\n",
        "else:\n",
        "    print(formata_msg(\"ERRO\", f\"Padrão '{padrao}', não encontrado.\"))"
      ],
      "execution_count": 39,
      "outputs": [
        {
          "output_type": "stream",
          "name": "stdout",
          "text": [
            "[INFO] 2024-03-11 03:26:56 - Padrão 'pagamento CONFIRMADO', encontrado: Pagamento confirmado\n"
          ]
        }
      ]
    },
    {
      "cell_type": "markdown",
      "metadata": {
        "id": "6SJ-je98U2bR"
      },
      "source": [
        "## Método **findall()**\n",
        "O método **findall()** realiza uma busca completa na string, identificando todas as substrings que se alinham com a expressão regular especificada. Cada correspondência encontrada é então agregada e apresentada em uma lista, facilitando a análise e o manuseio subsequente desses trechos de texto."
      ]
    },
    {
      "cell_type": "code",
      "metadata": {
        "id": "gnPd007AU2bS",
        "colab": {
          "base_uri": "https://localhost:8080/"
        },
        "outputId": "a4532f80-76d1-4f32-b267-04a4fbc507e7"
      },
      "source": [
        "padrao = r\"conta\"\n",
        "resultado = re.findall(padrao, texto)\n",
        "if resultado:\n",
        "    print(formata_msg(\"INFO\", f\"Padrão '{padrao}', encontrado: {resultado}\"))\n",
        "else:\n",
        "    print(formata_msg(\"ERRO\", f\"Padrão '{padrao}', não encontrado.\"))"
      ],
      "execution_count": 40,
      "outputs": [
        {
          "output_type": "stream",
          "name": "stdout",
          "text": [
            "[INFO] 2024-03-11 03:31:41 - Padrão 'conta', encontrado: ['conta', 'conta']\n"
          ]
        }
      ]
    },
    {
      "cell_type": "code",
      "metadata": {
        "id": "J3GLBWtAU2bW",
        "colab": {
          "base_uri": "https://localhost:8080/"
        },
        "outputId": "1fdc462b-2342-4260-be99-4f077bb2ca87"
      },
      "source": [
        "padrao = r\"conta\"\n",
        "resultado = re.findall(padrao, texto, re.I)\n",
        "if resultado:\n",
        "    print(formata_msg(\"INFO\", f\"Padrão '{padrao}', encontrado: {resultado}\"))\n",
        "else:\n",
        "    print(formata_msg(\"ERRO\", f\"Padrão '{padrao}', não encontrado.\"))"
      ],
      "execution_count": 41,
      "outputs": [
        {
          "output_type": "stream",
          "name": "stdout",
          "text": [
            "[INFO] 2024-03-11 03:31:43 - Padrão 'conta', encontrado: ['conta', 'Conta', 'conta']\n"
          ]
        }
      ]
    },
    {
      "cell_type": "code",
      "metadata": {
        "id": "jL17r7ThU2be",
        "colab": {
          "base_uri": "https://localhost:8080/"
        },
        "outputId": "26fabc34-a932-4186-e340-781fb61ac210"
      },
      "source": [
        "# A expressão regular \\w+A\\w+ busca por strings que tenham pelo menos um caractere\n",
        "# alfanumérico seguido pela letra 'A' maiúscula e, em seguida, por pelo menos mais\n",
        "# um caractere alfanumérico.\n",
        "padrao = r\"\\w+A\\w+\"\n",
        "resultado = re.findall(padrao, texto)\n",
        "if resultado:\n",
        "    print(formata_msg(\"INFO\", f\"Padrão '{padrao}', encontrado: {resultado}\"))\n",
        "else:\n",
        "    print(formata_msg(\"ERRO\", f\"Padrão '{padrao}', não encontrado.\"))"
      ],
      "execution_count": 42,
      "outputs": [
        {
          "output_type": "stream",
          "name": "stdout",
          "text": [
            "[INFO] 2024-03-11 03:36:54 - Padrão '\\w+A\\w+', encontrado: ['JOAO']\n"
          ]
        }
      ]
    },
    {
      "cell_type": "code",
      "source": [
        "# A expressão regular \\w+a\\w+ busca por strings que tenham pelo menos um caractere\n",
        "# alfanumérico seguido pela letra 'a' maiúscula e, em seguida, por pelo menos mais\n",
        "# um caractere alfanumérico.\n",
        "padrao = r\"\\w+a\\w+\"\n",
        "resultado = re.findall(padrao, texto, re.I)\n",
        "if resultado:\n",
        "    print(formata_msg(\"INFO\", f\"Padrão '{padrao}', encontrado: {resultado}\"))\n",
        "else:\n",
        "    print(formata_msg(\"ERRO\", f\"Padrão '{padrao}', não encontrado.\"))"
      ],
      "metadata": {
        "colab": {
          "base_uri": "https://localhost:8080/"
        },
        "id": "Qr8M0ZM9gfU0",
        "outputId": "10679123-8a5a-425b-81f3-a8b80cc9a2e1"
      },
      "execution_count": 43,
      "outputs": [
        {
          "output_type": "stream",
          "name": "stdout",
          "text": [
            "[INFO] 2024-03-11 03:36:57 - Padrão '\\w+a\\w+', encontrado: ['Transferência', 'JOAO', 'Valor', 'Pagamento', 'confirmado', 'para', 'Valor', 'Valor']\n"
          ]
        }
      ]
    },
    {
      "cell_type": "code",
      "metadata": {
        "id": "KeucYfPmU2bi",
        "colab": {
          "base_uri": "https://localhost:8080/"
        },
        "outputId": "2449e311-27e0-4a72-85ed-00d56c245d38"
      },
      "source": [
        "# A expressão regular \\w*a\\w* procura por strings que contêm a letra 'a' minúscula,\n",
        "# precedida e/ou seguida por qualquer número (incluindo zero) de caracteres alfanuméricos.\n",
        "# Isso significa que a expressão pode corresponder a uma string que contém apenas 'a',\n",
        "# ou 'a' com letras, dígitos, ou underscores em qualquer lado, como \"ba\", \"1a3\", ou\n",
        "# simplesmente \"a\".\n",
        "padrao = r\"\\w*a\\w*\"\n",
        "resultado = re.findall(padrao, texto)\n",
        "if resultado:\n",
        "    print(formata_msg(\"INFO\", f\"Padrão '{padrao}', encontrado: {resultado}\"))\n",
        "else:\n",
        "    print(formata_msg(\"ERRO\", f\"Padrão '{padrao}', não encontrado.\"))"
      ],
      "execution_count": 44,
      "outputs": [
        {
          "output_type": "stream",
          "name": "stdout",
          "text": [
            "[INFO] 2024-03-11 03:39:50 - Padrão '\\w*a\\w*', encontrado: ['Transferência', 'recebida', 'conta', 'Valor', 'Pagamento', 'confirmado', 'para', 'Conta', 'Valor', 'conta', 'Valor']\n"
          ]
        }
      ]
    },
    {
      "cell_type": "markdown",
      "metadata": {
        "id": "yeYa3aLHU2bm"
      },
      "source": [
        "## Método **finditer()**\n",
        "O método **finditer()** vasculha a string em busca de todas as ocorrências que se ajustam à expressão regular fornecida, disponibilizando os resultados através de um iterador. Essa abordagem otimiza o uso de recursos, pois permite o acesso sequencial às correspondências sem a necessidade de armazená-las todas simultaneamente na memória."
      ]
    },
    {
      "cell_type": "code",
      "metadata": {
        "id": "BLqVK0iHU2bn",
        "colab": {
          "base_uri": "https://localhost:8080/"
        },
        "outputId": "c124f9a4-a610-4af5-b027-022aae53d02c"
      },
      "source": [
        "# A expressão regular \\w*m\\w+ corresponda a strings que contenham a letra 'm' minúscula,\n",
        "# precedida por uma sequência de caracteres alfanuméricos de qualquer comprimento\n",
        "# (incluindo nenhum) e seguida por pelo menos um caractere alfanumérico.\n",
        "padrao = r\"\\w+m\\w+\"\n",
        "resultado = re.finditer(padrao, texto)\n",
        "if resultado:\n",
        "    print(formata_msg(\"INFO\", f\"Padrão '{padrao}', encontrado:\\n\"))\n",
        "    for token in resultado:\n",
        "      print(f\"{token.group()}\")\n",
        "else:\n",
        "    print(formata_msg(\"ERRO\", f\"Padrão '{padrao}', não encontrado.\"))"
      ],
      "execution_count": 45,
      "outputs": [
        {
          "output_type": "stream",
          "name": "stdout",
          "text": [
            "[INFO] 2024-03-11 03:43:46 - Padrão '\\w+m\\w+', encontrado:\n",
            "\n",
            "Pagamento\n",
            "confirmado\n"
          ]
        }
      ]
    },
    {
      "cell_type": "markdown",
      "metadata": {
        "id": "B9rzAL9gU2b0"
      },
      "source": [
        "## Método **split()**\n",
        "O método **split()** segmenta a string em várias partes, utilizando os pontos de correspondência com a expressão regular como divisores. O resultado é uma lista contendo as substrings resultantes dessa divisão, proporcionando uma maneira eficiente de desmembrar e analisar o texto com base em padrões específicos."
      ]
    },
    {
      "cell_type": "code",
      "metadata": {
        "id": "GKgoQoFoU2b1",
        "colab": {
          "base_uri": "https://localhost:8080/"
        },
        "outputId": "b00b9227-7297-4f74-86ce-e35114851d44"
      },
      "source": [
        "separador = r\"\\n\"\n",
        "resultado = re.split(separador,texto)\n",
        "print(formata_msg(\"INFO\", f\"Resultado:\"))\n",
        "for ii, token in enumerate(resultado):\n",
        "      print(f\"{ii+1} - {token}\")"
      ],
      "execution_count": 47,
      "outputs": [
        {
          "output_type": "stream",
          "name": "stdout",
          "text": [
            "[INFO] 2024-03-11 03:46:55 - Resultado:\n",
            "1 - Transferência recebida de JOAO SILVA, conta 1234-5. Valor: R$1.500,00 em 2024-02-15.\n",
            "2 - Pagamento confirmado para ALUGUEL, Conta 6789-0. Valor: R$800,00 em 2024-02-16.\n",
            "3 - Depósito recebido, conta 5432-1. Valor: R$3.200,00 em 2024-02-17.\n"
          ]
        }
      ]
    },
    {
      "cell_type": "code",
      "metadata": {
        "id": "_1gB1K_8U2b6",
        "colab": {
          "base_uri": "https://localhost:8080/"
        },
        "outputId": "8d2655eb-11e8-420f-f91c-7cf6a6d8a17e"
      },
      "source": [
        "separador = r\"\\s+\"\n",
        "\n",
        "# split() da biblioteca padrão do Python.\n",
        "resultado = texto.split(separador)\n",
        "print(formata_msg(\"INFO\", f\"Resultado:\"))\n",
        "for ii, token in enumerate(resultado):\n",
        "      print(f\"{ii+1} - {token}\")"
      ],
      "execution_count": 26,
      "outputs": [
        {
          "output_type": "stream",
          "name": "stdout",
          "text": [
            "[INFO] 2024-03-11 02:39:05 - Lista de tokens:\n",
            "1 - Transferência recebida de JOAO SILVA, conta 1234-5. Valor: R$1.500,00 em 2024-02-15.\n",
            "Pagamento confirmado para ALUGUEL, Conta 6789-0. Valor: R$800,00 em 2024-02-16.\n",
            "Depósito recebido, conta 5432-1. Valor: R$3.200,00 em 2024-02-17.\n"
          ]
        }
      ]
    },
    {
      "cell_type": "code",
      "metadata": {
        "id": "9J_2KEVLU2cA",
        "colab": {
          "base_uri": "https://localhost:8080/"
        },
        "outputId": "c69e6660-a72b-464e-d2b6-15a1ddd79dd1"
      },
      "source": [
        "# Define a expressão regular para um ou mais espaços em branco.\n",
        "separador = \"\\s+\"\n",
        "resultado = re.split(separador, texto)\n",
        "print(formata_msg(\"INFO\", f\"Resultado:\"))\n",
        "for ii, token in enumerate(resultado):\n",
        "      print(f\"{ii+1} - {token}\")"
      ],
      "execution_count": 48,
      "outputs": [
        {
          "output_type": "stream",
          "name": "stdout",
          "text": [
            "[INFO] 2024-03-11 03:48:55 - Resultado:\n",
            "1 - Transferência\n",
            "2 - recebida\n",
            "3 - de\n",
            "4 - JOAO\n",
            "5 - SILVA,\n",
            "6 - conta\n",
            "7 - 1234-5.\n",
            "8 - Valor:\n",
            "9 - R$1.500,00\n",
            "10 - em\n",
            "11 - 2024-02-15.\n",
            "12 - Pagamento\n",
            "13 - confirmado\n",
            "14 - para\n",
            "15 - ALUGUEL,\n",
            "16 - Conta\n",
            "17 - 6789-0.\n",
            "18 - Valor:\n",
            "19 - R$800,00\n",
            "20 - em\n",
            "21 - 2024-02-16.\n",
            "22 - Depósito\n",
            "23 - recebido,\n",
            "24 - conta\n",
            "25 - 5432-1.\n",
            "26 - Valor:\n",
            "27 - R$3.200,00\n",
            "28 - em\n",
            "29 - 2024-02-17.\n"
          ]
        }
      ]
    },
    {
      "cell_type": "markdown",
      "metadata": {
        "id": "c5alQqxuU2cD"
      },
      "source": [
        "## Método **sub()**\n",
        "O método **sub()** busca por todas as instâncias dentro de uma string que se alinham com uma expressão regular e realiza a substituição dessas por uma nova string definida pelo usuário. Esse processo permite a alteração dinâmica de partes específicas do texto, facilitando correções, formatações ou adaptações de conteúdo de forma ágil e precisa."
      ]
    },
    {
      "cell_type": "code",
      "metadata": {
        "id": "BpXFAGB5U2cE",
        "colab": {
          "base_uri": "https://localhost:8080/",
          "height": 54
        },
        "outputId": "9fc4c108-9091-4fd8-9b9c-47e36d96e9c1"
      },
      "source": [
        "re.sub(r\"R\\$\", \"(BRL)\", texto)"
      ],
      "execution_count": 50,
      "outputs": [
        {
          "output_type": "execute_result",
          "data": {
            "text/plain": [
              "'Transferência recebida de JOAO SILVA, conta 1234-5. Valor: (BRL)1.500,00 em 2024-02-15.\\nPagamento confirmado para ALUGUEL, Conta 6789-0. Valor: (BRL)800,00 em 2024-02-16.\\nDepósito recebido, conta 5432-1. Valor: (BRL)3.200,00 em 2024-02-17.'"
            ],
            "application/vnd.google.colaboratory.intrinsic+json": {
              "type": "string"
            }
          },
          "metadata": {},
          "execution_count": 50
        }
      ]
    },
    {
      "cell_type": "markdown",
      "metadata": {
        "id": "AklOXTO-U2cH"
      },
      "source": [
        "## Método **subn()**\n",
        "O método **subn()** oferece a mesma funcionalidade de substituição de substrings que correspondem a uma expressão regular, assim como sub(). A diferença reside no seu retorno, que inclui tanto a string resultante quanto a contagem exata das substituições efetuadas. Essa característica adicional proporciona uma visão quantitativa do impacto das alterações, permitindo um controle mais preciso sobre o processo de manipulação de texto."
      ]
    },
    {
      "cell_type": "code",
      "metadata": {
        "id": "FKmANFR4U2cI",
        "colab": {
          "base_uri": "https://localhost:8080/"
        },
        "outputId": "373878fb-9795-4e26-ecdd-88a3227a17c1"
      },
      "source": [
        "resultado, num_substituicoes = re.subn('R\\$', '(BRL)', texto)\n",
        "print(formata_msg(\"INFO\", f\"Texto modificado:\\n{resultado} \\n\\nNúmero de substituições: {num_substituicoes}\"))"
      ],
      "execution_count": 58,
      "outputs": [
        {
          "output_type": "stream",
          "name": "stdout",
          "text": [
            "[INFO] 2024-03-11 03:59:14 - Texto modificado:\n",
            "Transferência recebida de JOAO SILVA, conta 1234-5. Valor: (BRL)1.500,00 em 2024-02-15.\n",
            "Pagamento confirmado para ALUGUEL, Conta 6789-0. Valor: (BRL)800,00 em 2024-02-16.\n",
            "Depósito recebido, conta 5432-1. Valor: (BRL)3.200,00 em 2024-02-17. \n",
            "\n",
            "Número de substituições: 3\n"
          ]
        }
      ]
    },
    {
      "cell_type": "code",
      "source": [],
      "metadata": {
        "id": "whuV4qTuo2Tl"
      },
      "execution_count": null,
      "outputs": []
    },
    {
      "cell_type": "markdown",
      "metadata": {
        "id": "RxY0r2eoU2cL"
      },
      "source": [
        "# Aplicações de funções expressões regulares"
      ]
    },
    {
      "cell_type": "markdown",
      "metadata": {
        "id": "6m1l9DicU2cM"
      },
      "source": [
        "####1. Escreva uma expressão regular para verificar se uma string contém apenas caracteres específicos (neste caso, a-z, A-Z e 0-9)."
      ]
    },
    {
      "cell_type": "code",
      "metadata": {
        "id": "5PhrR9-mU2cM",
        "colab": {
          "base_uri": "https://localhost:8080/"
        },
        "outputId": "204c72e5-c687-4331-f920-47d485517768"
      },
      "source": [
        "# A expressão regular ^[a-zA-Z0-9]+$ busca por strings que consistam exclusivamente\n",
        "# de letras (maiúsculas ou minúsculas) e/ou números, do início ao fim da string, sem\n",
        "# nenhum outro caractere (como espaços, símbolos ou pontuações). Isso significa que\n",
        "# a expressão regular corresponderia a strings como \"abc123\", \"Qwerty\", ou \"7890\", mas\n",
        "# não a \"hello world\" (por causa do espaço) ou \"abc!\" (por causa do ponto de exclamação).\n",
        "padrao = r\"^[a-zA-Z0-9]+$\"\n",
        "\n",
        "# Duas strings de teste\n",
        "string1 = \"ABCDEFabcdef123450\"\n",
        "string2 = \"*&%@#!}{\"\n",
        "\n",
        "# Testando a primeira string\n",
        "if re.match(padrao, string1):\n",
        "    print(f\"'{string1}' contém apenas caracteres permitidos.\")\n",
        "else:\n",
        "    print(f\"'{string1}' contém caracteres não permitidos.\")\n",
        "\n",
        "# Testando a segunda string\n",
        "if re.match(padrao, string2):\n",
        "    print(f\"'{string2}' contém apenas caracteres permitidos.\")\n",
        "else:\n",
        "    print(f\"'{string2}' contém caracteres não permitidos.\")"
      ],
      "execution_count": 59,
      "outputs": [
        {
          "output_type": "stream",
          "name": "stdout",
          "text": [
            "'ABCDEFabcdef123450' contém apenas caracteres permitidos.\n",
            "'*&%@#!}{' contém caracteres não permitidos.\n"
          ]
        }
      ]
    },
    {
      "cell_type": "markdown",
      "metadata": {
        "id": "zuzgAySVU2cz"
      },
      "source": [
        "####2. Escreva uma expressão regular para converter datas do formato aaaa-mm-dd para dd-mm-aaaa."
      ]
    },
    {
      "cell_type": "code",
      "metadata": {
        "id": "cJI2Be8GU2cz",
        "colab": {
          "base_uri": "https://localhost:8080/"
        },
        "outputId": "09ea0fe6-780e-4141-bfb7-f10c3f57d8a6"
      },
      "source": [
        "# A expressão regular para capturar os componentes da data\n",
        "padrao = r'(\\d{4})-(\\d{2})-(\\d{2})'\n",
        "\n",
        "# Função para converter o formato da data\n",
        "def converter_formato_data(data):\n",
        "    # Substituindo e reorganizando os grupos capturados\n",
        "    return re.sub(padrao, r'\\3-\\2-\\1', data)\n",
        "\n",
        "# Datas de teste\n",
        "data1 = \"2026-01-02\"\n",
        "data2 = \"26-01-02\"  # Esta data não está no formato aaaa-mm-dd, então o padrão não se aplica\n",
        "\n",
        "# Convertendo as datas\n",
        "data1_convertida = converter_formato_data(data1)\n",
        "data2_convertida = converter_formato_data(data2)\n",
        "\n",
        "# Imprimindo os resultados\n",
        "print(formata_msg(\"INFO\", f\"\\nData original: {data1}, Data convertida: {data1_convertida}\\n\"))\n",
        "print(formata_msg(\"INFO\", f\"\\nData original: {data2}, Data convertida: {data2_convertida}\"))"
      ],
      "execution_count": 64,
      "outputs": [
        {
          "output_type": "stream",
          "name": "stdout",
          "text": [
            "[INFO] 2024-03-11 04:14:21 - \n",
            "Data original: 2026-01-02, Data convertida: 02-01-2026\n",
            "\n",
            "[INFO] 2024-03-11 04:14:21 - \n",
            "Data original: 26-01-02, Data convertida: 26-01-02\n"
          ]
        }
      ]
    },
    {
      "cell_type": "markdown",
      "metadata": {
        "id": "XenuPdJFU2dS"
      },
      "source": [
        "####3. Escreva uma expressão regular para remover o conteúdo entre parênteses em uma string\n",
        "\n",
        "\n",
        "- Amostra de Entrada:\n",
        "> * [\"example (.br)\", \"w3resource\", \"github (.com)\", \"stackoverflow (.com)\"] </br>\n",
        "* Saída Esperada:\n",
        "> * example\n",
        "> * w3resource\n",
        "> * github\n",
        "> * stackoverflow"
      ]
    },
    {
      "cell_type": "code",
      "metadata": {
        "id": "xLN0qjIqU2dT",
        "colab": {
          "base_uri": "https://localhost:8080/"
        },
        "outputId": "5974b761-13af-4120-e46e-ecb515c9c465"
      },
      "source": [
        "# Lista de strings de entrada\n",
        "entradas = [\"example (.br)\", \"w3resource\", \"github (.com)\", \"stackoverflow (.com)\"]\n",
        "\n",
        "# Expressão regular para remover o conteúdo e os parênteses\n",
        "padrao = r'\\s*\\([^)]*\\)'\n",
        "\n",
        "# Removendo as áreas de parênteses e imprimindo a saída\n",
        "saidas = [re.sub(padrao, '', entrada) for entrada in entradas]\n",
        "print(formata_msg(\"INFO\", f\"Resultado: \\n{saidas}\"))\n"
      ],
      "execution_count": 65,
      "outputs": [
        {
          "output_type": "stream",
          "name": "stdout",
          "text": [
            "[INFO] 2024-03-11 04:15:10 - Resultado: \n",
            "['example', 'w3resource', 'github', 'stackoverflow']\n"
          ]
        }
      ]
    },
    {
      "cell_type": "markdown",
      "metadata": {
        "id": "YXbqmKEzU2da"
      },
      "source": [
        "####4. Escreva um programa para quebrar um texto em sentenças"
      ]
    },
    {
      "cell_type": "code",
      "metadata": {
        "id": "qhqTyY5zQDxQ",
        "colab": {
          "base_uri": "https://localhost:8080/"
        },
        "outputId": "2c92c8ab-9bf4-4079-d028-1e364280fb1b"
      },
      "source": [
        "# A string de entrada\n",
        "texto = \"Vamos encontrar Padrões nesta string!! Agora é a nossa primeira prática de NLP!! Vamos aprender a procurar padrões!! Belo Horizonte 2020.\"\n",
        "\n",
        "# Expressão regular para dividir o texto em sentenças baseando-se apenas\n",
        "# em pontos, exclamações e interrogações\n",
        "padrao = r'[.!?]\\s+'\n",
        "\n",
        "# Dividindo o texto em sentenças\n",
        "sentencas = re.split(padrao, texto)\n",
        "\n",
        "# Imprimindo as sentenças\n",
        "print(formata_msg(\"INFO\", f\"Resultado:\\n\"))\n",
        "for sentenca in sentencas:\n",
        "    print(sentenca)"
      ],
      "execution_count": 68,
      "outputs": [
        {
          "output_type": "stream",
          "name": "stdout",
          "text": [
            "[INFO] 2024-03-11 04:16:46 - Resultado:\n",
            "\n",
            "Vamos encontrar Padrões nesta string!\n",
            "Agora é a nossa primeira prática de NLP!\n",
            "Vamos aprender a procurar padrões!\n",
            "Belo Horizonte 2020.\n"
          ]
        }
      ]
    },
    {
      "cell_type": "markdown",
      "metadata": {
        "id": "BDGD0bR0U2dg"
      },
      "source": [
        "####5. Escreva um código para remover os zeros iniciais do IP 216.08.094.196"
      ]
    },
    {
      "cell_type": "code",
      "metadata": {
        "id": "YZ7fKuxfQEw2",
        "colab": {
          "base_uri": "https://localhost:8080/"
        },
        "outputId": "f9780335-e1a3-48af-d788-27e988d892d1"
      },
      "source": [
        "ip = \"216.08.094.196\"\n",
        "\n",
        "# Dividindo o IP em seus componentes\n",
        "partes = ip.split('.')\n",
        "\n",
        "# Removendo os zeros iniciais de cada parte e garantindo que partes vazias sejam '0'\n",
        "partes_sem_zeros = [parte.lstrip('0') or '0' for parte in partes]\n",
        "\n",
        "# Juntando as partes de volta em um IP\n",
        "ip_sem_zeros = '.'.join(partes_sem_zeros)\n",
        "\n",
        "print(formata_msg(\"INFO\", f\"\\n{ip_sem_zeros}\\n\"))"
      ],
      "execution_count": 76,
      "outputs": [
        {
          "output_type": "stream",
          "name": "stdout",
          "text": [
            "[INFO] 2024-03-11 04:20:18 - \n",
            "216.8.94.196\n",
            "\n"
          ]
        }
      ]
    },
    {
      "cell_type": "markdown",
      "metadata": {
        "id": "g6ZOC3hmHNm-"
      },
      "source": [
        "####6. Recupere todas as menções de \"Twitter\" da string abaixo"
      ]
    },
    {
      "cell_type": "code",
      "metadata": {
        "id": "zq2VN2g-HPec",
        "colab": {
          "base_uri": "https://localhost:8080/"
        },
        "outputId": "0c74ec7b-cdcd-4f79-9f9c-0807ffb482af"
      },
      "source": [
        "import re\n",
        "\n",
        "# O texto de exemplo\n",
        "texto_exemplo_twitter = \"\"\"\n",
        "This is a @test of some cool features that @mi_asd be @use-ful but @don't. look at this email@address.com.\n",
        "@bla! I like #nylas but I don't like to go to this apple.com?a#url. I also don't like the ### comment blocks.\n",
        " But #msft is cool.\"\"\"\n",
        "\n",
        "# A expressão regular r'\\B@\\w+' vai encontrar ocorrências que representam menções\n",
        "# de usuários no Twitter, como @usuario dentro de um texto, desde que essas menções\n",
        "# não estejam no início de uma palavra (o que geralmente não ocorre em menções válidas).\n",
        "padrao_twitter = r'\\B@\\w+'\n",
        "\n",
        "# Encontrando todas as menções do Twitter no texto\n",
        "mensoes_twitter = re.findall(padrao_twitter, texto_exemplo_twitter)\n",
        "\n",
        "print(formata_msg(\"INFO\", f\"\\n\\n{mensoes_twitter}\"))\n"
      ],
      "execution_count": 80,
      "outputs": [
        {
          "output_type": "stream",
          "name": "stdout",
          "text": [
            "[INFO] 2024-03-11 04:21:27 - \n",
            "\n",
            "['@test', '@mi_asd', '@use', '@don', '@bla']\n"
          ]
        }
      ]
    },
    {
      "cell_type": "markdown",
      "metadata": {
        "id": "EuRUVjfSQfVb"
      },
      "source": [
        "####7. Escreva uma expressão regular para remover as urls do texto:\n",
        "\n",
        "- Para realizar pesquisas de artigos acadêmicos use o Google Scholar: https://scholar.google.com.br/\n",
        "- Sempre mantenha seu linkedin atualizado: https://www.linkedin.com/"
      ]
    },
    {
      "cell_type": "code",
      "metadata": {
        "id": "rJxuUl9WQZ0-",
        "colab": {
          "base_uri": "https://localhost:8080/"
        },
        "outputId": "8eed1087-2f60-4e52-ba0b-956e37084d9c"
      },
      "source": [
        "import re\n",
        "\n",
        "# O texto fornecido\n",
        "texto = \"\"\"\n",
        "Para realizar pesquisas de artigos acadêmicos use o Google Scholar: https://scholar.google.com.br/\n",
        "Sempre mantenha seu linkedin atualizado: https://www.linkedin.com/\"\"\"\n",
        "\n",
        "# A expressão regular r'https?://\\S+' é usada para encontrar URLs que começam\n",
        "# com http ou https em um texto.\n",
        "padrao_url = r'https?://\\S+'\n",
        "\n",
        "# Encontrando todas as URLs no texto\n",
        "urls = re.findall(padrao_url, texto)\n",
        "\n",
        "# Imprimindo as URLs encontradas\n",
        "print(formata_msg(\"INFO\", f\"Resultado:\\n\"))\n",
        "for url in urls:\n",
        "    print(url)\n"
      ],
      "execution_count": 82,
      "outputs": [
        {
          "output_type": "stream",
          "name": "stdout",
          "text": [
            "[INFO] 2024-03-11 04:27:31 - Resultado:\n",
            "\n",
            "https://scholar.google.com.br/\n",
            "https://www.linkedin.com/\n"
          ]
        }
      ]
    }
  ]
}