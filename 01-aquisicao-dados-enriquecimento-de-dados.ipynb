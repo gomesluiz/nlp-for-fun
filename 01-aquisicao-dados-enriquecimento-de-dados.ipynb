{
  "nbformat": 4,
  "nbformat_minor": 0,
  "metadata": {
    "colab": {
      "provenance": [],
      "authorship_tag": "ABX9TyNruPkEcCSaYKuIUD18emRI",
      "include_colab_link": true
    },
    "kernelspec": {
      "name": "python3",
      "display_name": "Python 3"
    },
    "language_info": {
      "name": "python"
    }
  },
  "cells": [
    {
      "cell_type": "markdown",
      "metadata": {
        "id": "view-in-github",
        "colab_type": "text"
      },
      "source": [
        "<a href=\"https://colab.research.google.com/github/gomesluiz/pln-na-pratica/blob/main/01-aquisicao-dados-enriquecimento-de-dados.ipynb\" target=\"_parent\"><img src=\"https://colab.research.google.com/assets/colab-badge.svg\" alt=\"Open In Colab\"/></a>"
      ]
    },
    {
      "cell_type": "markdown",
      "source": [
        "# **Aquisição de dados com enriquecimento de dados**"
      ],
      "metadata": {
        "id": "R3tUTgb_kpwv"
      }
    },
    {
      "cell_type": "code",
      "source": [
        "# Instala pacotes para enriquecimento e análise de dados.\n",
        "!pip install matplotlib\n",
        "!pip install nlpaug\n",
        "!pip install numpy\n",
        "!pip install pandas\n",
        "!pip install requests\n",
        "!pip install scikit-learn\n",
        "!pip install seaborn\n",
        "!pip install tqdm"
      ],
      "metadata": {
        "id": "NB3Mmh26EKbn",
        "outputId": "176973e6-057b-474e-f87b-0efab66388ea",
        "colab": {
          "base_uri": "https://localhost:8080/"
        }
      },
      "execution_count": 1,
      "outputs": [
        {
          "output_type": "stream",
          "name": "stdout",
          "text": [
            "Requirement already satisfied: matplotlib in /usr/local/lib/python3.10/dist-packages (3.7.1)\n",
            "Requirement already satisfied: contourpy>=1.0.1 in /usr/local/lib/python3.10/dist-packages (from matplotlib) (1.2.0)\n",
            "Requirement already satisfied: cycler>=0.10 in /usr/local/lib/python3.10/dist-packages (from matplotlib) (0.12.1)\n",
            "Requirement already satisfied: fonttools>=4.22.0 in /usr/local/lib/python3.10/dist-packages (from matplotlib) (4.48.1)\n",
            "Requirement already satisfied: kiwisolver>=1.0.1 in /usr/local/lib/python3.10/dist-packages (from matplotlib) (1.4.5)\n",
            "Requirement already satisfied: numpy>=1.20 in /usr/local/lib/python3.10/dist-packages (from matplotlib) (1.23.5)\n",
            "Requirement already satisfied: packaging>=20.0 in /usr/local/lib/python3.10/dist-packages (from matplotlib) (23.2)\n",
            "Requirement already satisfied: pillow>=6.2.0 in /usr/local/lib/python3.10/dist-packages (from matplotlib) (9.4.0)\n",
            "Requirement already satisfied: pyparsing>=2.3.1 in /usr/local/lib/python3.10/dist-packages (from matplotlib) (3.1.1)\n",
            "Requirement already satisfied: python-dateutil>=2.7 in /usr/local/lib/python3.10/dist-packages (from matplotlib) (2.8.2)\n",
            "Requirement already satisfied: six>=1.5 in /usr/local/lib/python3.10/dist-packages (from python-dateutil>=2.7->matplotlib) (1.16.0)\n",
            "Requirement already satisfied: nlpaug in /usr/local/lib/python3.10/dist-packages (1.1.11)\n",
            "Requirement already satisfied: numpy>=1.16.2 in /usr/local/lib/python3.10/dist-packages (from nlpaug) (1.23.5)\n",
            "Requirement already satisfied: pandas>=1.2.0 in /usr/local/lib/python3.10/dist-packages (from nlpaug) (1.5.3)\n",
            "Requirement already satisfied: requests>=2.22.0 in /usr/local/lib/python3.10/dist-packages (from nlpaug) (2.31.0)\n",
            "Requirement already satisfied: gdown>=4.0.0 in /usr/local/lib/python3.10/dist-packages (from nlpaug) (4.7.3)\n",
            "Requirement already satisfied: filelock in /usr/local/lib/python3.10/dist-packages (from gdown>=4.0.0->nlpaug) (3.13.1)\n",
            "Requirement already satisfied: six in /usr/local/lib/python3.10/dist-packages (from gdown>=4.0.0->nlpaug) (1.16.0)\n",
            "Requirement already satisfied: tqdm in /usr/local/lib/python3.10/dist-packages (from gdown>=4.0.0->nlpaug) (4.66.1)\n",
            "Requirement already satisfied: beautifulsoup4 in /usr/local/lib/python3.10/dist-packages (from gdown>=4.0.0->nlpaug) (4.12.3)\n",
            "Requirement already satisfied: python-dateutil>=2.8.1 in /usr/local/lib/python3.10/dist-packages (from pandas>=1.2.0->nlpaug) (2.8.2)\n",
            "Requirement already satisfied: pytz>=2020.1 in /usr/local/lib/python3.10/dist-packages (from pandas>=1.2.0->nlpaug) (2023.4)\n",
            "Requirement already satisfied: charset-normalizer<4,>=2 in /usr/local/lib/python3.10/dist-packages (from requests>=2.22.0->nlpaug) (3.3.2)\n",
            "Requirement already satisfied: idna<4,>=2.5 in /usr/local/lib/python3.10/dist-packages (from requests>=2.22.0->nlpaug) (3.6)\n",
            "Requirement already satisfied: urllib3<3,>=1.21.1 in /usr/local/lib/python3.10/dist-packages (from requests>=2.22.0->nlpaug) (2.0.7)\n",
            "Requirement already satisfied: certifi>=2017.4.17 in /usr/local/lib/python3.10/dist-packages (from requests>=2.22.0->nlpaug) (2024.2.2)\n",
            "Requirement already satisfied: soupsieve>1.2 in /usr/local/lib/python3.10/dist-packages (from beautifulsoup4->gdown>=4.0.0->nlpaug) (2.5)\n",
            "Requirement already satisfied: PySocks!=1.5.7,>=1.5.6 in /usr/local/lib/python3.10/dist-packages (from requests>=2.22.0->nlpaug) (1.7.1)\n",
            "Requirement already satisfied: numpy in /usr/local/lib/python3.10/dist-packages (1.23.5)\n",
            "Requirement already satisfied: pandas in /usr/local/lib/python3.10/dist-packages (1.5.3)\n",
            "Requirement already satisfied: python-dateutil>=2.8.1 in /usr/local/lib/python3.10/dist-packages (from pandas) (2.8.2)\n",
            "Requirement already satisfied: pytz>=2020.1 in /usr/local/lib/python3.10/dist-packages (from pandas) (2023.4)\n",
            "Requirement already satisfied: numpy>=1.21.0 in /usr/local/lib/python3.10/dist-packages (from pandas) (1.23.5)\n",
            "Requirement already satisfied: six>=1.5 in /usr/local/lib/python3.10/dist-packages (from python-dateutil>=2.8.1->pandas) (1.16.0)\n",
            "Requirement already satisfied: requests in /usr/local/lib/python3.10/dist-packages (2.31.0)\n",
            "Requirement already satisfied: charset-normalizer<4,>=2 in /usr/local/lib/python3.10/dist-packages (from requests) (3.3.2)\n",
            "Requirement already satisfied: idna<4,>=2.5 in /usr/local/lib/python3.10/dist-packages (from requests) (3.6)\n",
            "Requirement already satisfied: urllib3<3,>=1.21.1 in /usr/local/lib/python3.10/dist-packages (from requests) (2.0.7)\n",
            "Requirement already satisfied: certifi>=2017.4.17 in /usr/local/lib/python3.10/dist-packages (from requests) (2024.2.2)\n",
            "Requirement already satisfied: scikit-learn in /usr/local/lib/python3.10/dist-packages (1.2.2)\n",
            "Requirement already satisfied: numpy>=1.17.3 in /usr/local/lib/python3.10/dist-packages (from scikit-learn) (1.23.5)\n",
            "Requirement already satisfied: scipy>=1.3.2 in /usr/local/lib/python3.10/dist-packages (from scikit-learn) (1.11.4)\n",
            "Requirement already satisfied: joblib>=1.1.1 in /usr/local/lib/python3.10/dist-packages (from scikit-learn) (1.3.2)\n",
            "Requirement already satisfied: threadpoolctl>=2.0.0 in /usr/local/lib/python3.10/dist-packages (from scikit-learn) (3.2.0)\n",
            "Requirement already satisfied: seaborn in /usr/local/lib/python3.10/dist-packages (0.13.1)\n",
            "Requirement already satisfied: numpy!=1.24.0,>=1.20 in /usr/local/lib/python3.10/dist-packages (from seaborn) (1.23.5)\n",
            "Requirement already satisfied: pandas>=1.2 in /usr/local/lib/python3.10/dist-packages (from seaborn) (1.5.3)\n",
            "Requirement already satisfied: matplotlib!=3.6.1,>=3.4 in /usr/local/lib/python3.10/dist-packages (from seaborn) (3.7.1)\n",
            "Requirement already satisfied: contourpy>=1.0.1 in /usr/local/lib/python3.10/dist-packages (from matplotlib!=3.6.1,>=3.4->seaborn) (1.2.0)\n",
            "Requirement already satisfied: cycler>=0.10 in /usr/local/lib/python3.10/dist-packages (from matplotlib!=3.6.1,>=3.4->seaborn) (0.12.1)\n",
            "Requirement already satisfied: fonttools>=4.22.0 in /usr/local/lib/python3.10/dist-packages (from matplotlib!=3.6.1,>=3.4->seaborn) (4.48.1)\n",
            "Requirement already satisfied: kiwisolver>=1.0.1 in /usr/local/lib/python3.10/dist-packages (from matplotlib!=3.6.1,>=3.4->seaborn) (1.4.5)\n",
            "Requirement already satisfied: packaging>=20.0 in /usr/local/lib/python3.10/dist-packages (from matplotlib!=3.6.1,>=3.4->seaborn) (23.2)\n",
            "Requirement already satisfied: pillow>=6.2.0 in /usr/local/lib/python3.10/dist-packages (from matplotlib!=3.6.1,>=3.4->seaborn) (9.4.0)\n",
            "Requirement already satisfied: pyparsing>=2.3.1 in /usr/local/lib/python3.10/dist-packages (from matplotlib!=3.6.1,>=3.4->seaborn) (3.1.1)\n",
            "Requirement already satisfied: python-dateutil>=2.7 in /usr/local/lib/python3.10/dist-packages (from matplotlib!=3.6.1,>=3.4->seaborn) (2.8.2)\n",
            "Requirement already satisfied: pytz>=2020.1 in /usr/local/lib/python3.10/dist-packages (from pandas>=1.2->seaborn) (2023.4)\n",
            "Requirement already satisfied: six>=1.5 in /usr/local/lib/python3.10/dist-packages (from python-dateutil>=2.7->matplotlib!=3.6.1,>=3.4->seaborn) (1.16.0)\n",
            "Requirement already satisfied: tqdm in /usr/local/lib/python3.10/dist-packages (4.66.1)\n"
          ]
        }
      ]
    },
    {
      "cell_type": "code",
      "source": [
        "# Declara define funções utilitárias utilizadas no notebook.\n",
        "import datetime\n",
        "def formata_msg(nivel, msg, componente=None):\n",
        "    \"\"\"\n",
        "    Formata uma mensagem de log incluindo o nível de severidade, timestamp,\n",
        "    componente (opcional) e a mensagem.\n",
        "\n",
        "    Parâmetros:\n",
        "    - nivel (str): Nível de severidade da mensagem (ex: 'INFO', 'ERROR', 'WARNING').\n",
        "    - msg (str): A mensagem de log propriamente dita.\n",
        "    - componente (str, opcional): O componente ou módulo do sistema que gera a mensagem.\n",
        "\n",
        "    Retorna:\n",
        "    - str: A mensagem de log formatada.\n",
        "    \"\"\"\n",
        "    timestamp = datetime.datetime.now().strftime('%Y-%m-%d %H:%M:%S')\n",
        "    if componente:\n",
        "        return f\"[{nivel}] {timestamp} - {componente}: {msg}\"\n",
        "    else:\n",
        "        return f\"[{nivel}] {timestamp} - {msg}\"\n",
        "\n",
        "def plotar_distribuicao_polaridade(df):\n",
        "    \"\"\"\n",
        "    Função para plotar um gráfico de barras da contagem de valores para a coluna 'polarity'.\n",
        "\n",
        "    Parâmetros:\n",
        "    df (DataFrame): O DataFrame contendo a coluna 'polarity' a ser analisada.\n",
        "\n",
        "    Esta função utiliza a biblioteca seaborn para criar um gráfico de barras que\n",
        "    mostra a contagem de ocorrências para cada valor único na coluna 'polarity'.\n",
        "    Os rótulos dos eixos são removidos para uma apresentação mais limpa, e as bordas\n",
        "    esquerdas são também removidas.\n",
        "    \"\"\"\n",
        "\n",
        "    # Realiza a contagem de valores na coluna 'polarity' e armazena o resultado\n",
        "    polarity_counts = df['polarity'].value_counts()\n",
        "\n",
        "    # Cria o gráfico de barras usando seaborn, definindo os valores do eixo x e y\n",
        "    sns.barplot(x=polarity_counts.index, y=polarity_counts, hue=polarity_counts.index, legend=False)\n",
        "\n",
        "    # Configurações para remover rótulos e títulos desnecessários do gráfico\n",
        "    plt.yticks([], [])  # Remove os rótulos do eixo y para simplificar a visualização\n",
        "    plt.xlabel('')      # Limpa o título do eixo x para uma apresentação mais limpa\n",
        "    plt.ylabel('')      # Limpa o título do eixo y para uma apresentação mais limpa\n",
        "    sns.despine(left=True)  # Remove a borda esquerda do gráfico para um design mais minimalista\n",
        "\n",
        "    # Loop para adicionar rótulos de texto em cada barra do gráfico, melhorando a interpretabilidade\n",
        "    for container in plt.gca().containers:\n",
        "        plt.gca().bar_label(container)  # Adiciona rótulos nas barras com a contagem de cada 'polarity'\n",
        "\n",
        "print(formata_msg(\"INFO\", f\"Funções utilitárias foram declaradas, prontas para utilização.\"))"
      ],
      "metadata": {
        "id": "It4_ogcuPNuu",
        "outputId": "29e7bbd9-de6d-4a37-a61e-80bbd225d8ed",
        "colab": {
          "base_uri": "https://localhost:8080/"
        }
      },
      "execution_count": 2,
      "outputs": [
        {
          "output_type": "stream",
          "name": "stdout",
          "text": [
            "[INFO] 2024-02-12 12:16:28 - Funções utilitárias foram declaradas, prontas para utilização.\n"
          ]
        }
      ]
    },
    {
      "cell_type": "code",
      "source": [
        "# Importação da biblioteca padrão\n",
        "import os\n",
        "\n",
        "# Importação de bibliotecas de terceiros\n",
        "import matplotlib.pyplot as plt\n",
        "import nlpaug.augmenter.word as naw\n",
        "import numpy as np\n",
        "import pandas as pd\n",
        "import requests\n",
        "from sklearn.model_selection import train_test_split\n",
        "import seaborn as sns\n",
        "from tqdm import tqdm\n",
        "\n",
        "print(formata_msg(\"INFO\", \"Bibliotecas importadas com sucesso; ambiente pronto.\"))"
      ],
      "metadata": {
        "id": "8ueIJQz8n-h6",
        "outputId": "bcd0acca-ae79-4202-f598-0c528a52f267",
        "colab": {
          "base_uri": "https://localhost:8080/"
        }
      },
      "execution_count": 3,
      "outputs": [
        {
          "output_type": "stream",
          "name": "stdout",
          "text": [
            "[INFO] 2024-02-12 12:19:30 - Bibliotecas importadas com sucesso; ambiente pronto.\n"
          ]
        }
      ]
    },
    {
      "cell_type": "code",
      "source": [
        "# Define o diretório local para armazenar as bases de dados públicas coletadas.\n",
        "corpora_caminho = \"./corpora\"\n",
        "\n",
        "# Verifica se o diretório especificado já existe no ambiente do Colab.\n",
        "if not os.path.exists(corpora_caminho):\n",
        "  # Caso o diretório não exista, cria um novo diretório com o nome 'corpora'.\n",
        "  # Isso é útil para organizar os arquivos de dados baixados ou gerados.\n",
        "  os.mkdir(corpora_caminho)\n",
        "\n",
        "print(formata_msg(\"INFO\", f\"Diretório {corpora_caminho} foi criado com sucesso.\"))"
      ],
      "metadata": {
        "id": "Ld0Thaj9nqzn",
        "outputId": "1796d896-cdff-443e-a38c-534a56d87d8d",
        "colab": {
          "base_uri": "https://localhost:8080/"
        }
      },
      "execution_count": 4,
      "outputs": [
        {
          "output_type": "stream",
          "name": "stdout",
          "text": [
            "[INFO] 2024-02-12 12:19:48 - Diretório ./corpora foi criado com sucesso.\n"
          ]
        }
      ]
    },
    {
      "cell_type": "markdown",
      "source": [
        "## Base de dados de comentários do Buscapé\n",
        "Buscapé é uma plataforma de comércio eletrônico brasileiro. O Buscapé funciona como um assistente de compras, para que os consumidores pesquisem produtos, preços, promoções e lojas.O Buscapé pertence à Mosaico Tecnologia ao Consumidor, que também é dona de outras plataformas de e-commerce."
      ],
      "metadata": {
        "id": "pzFkGfrRd65P"
      }
    },
    {
      "cell_type": "code",
      "source": [
        "# Define a URL da base pública armazenada no Github.\n",
        "url = \"https://raw.githubusercontent.com/gomesluiz/product-review-analytics/main/data/raw/buscape.csv\"\n",
        "\n",
        "# Configuração do arquivo para armazenamento da base de dados.\n",
        "buscape_arquivo = \"buscape-comentarios.csv\"\n",
        "\n",
        "# O método os.path.join cria o caminho completo para o arquivo, combinando\n",
        "# 'corpora_caminho' com o nome do arquivo.\n",
        "buscape_caminho = os.path.join(corpora_caminho, buscape_arquivo)\n",
        "\n",
        "# Define o formato do arquivo. Necessário para arquivos textos\n",
        "# armazenados no raw.githubusercontent.com.\n",
        "parametros = {\"downloadformat\": \"csv\"}\n",
        "\n",
        "# Executa o download do arquivo especificado na URL com os parâmetros\n",
        "# especificados\n",
        "resposta = requests.get(url, params=parametros)\n",
        "if resposta.status_code == 200:\n",
        "  # Se o status for igual a 200 (sucesso), grava o arquivo no caminho\n",
        "  # especificado\n",
        "  with open(buscape_caminho, \"wb\") as f:\n",
        "    f.write(resposta.content)\n",
        "  print(formata_msg(\"INFO\",f\"Download do arquivo {buscape_arquivo} concluído com sucesso!\"))\n",
        "else:\n",
        "  print(f\"Falha no download do arquivo {buscape_arquivo}:\", resposta.status_code)\n"
      ],
      "metadata": {
        "id": "woasdVNlm_gU",
        "outputId": "49ed35f4-d73b-432e-fb77-25263e784eba",
        "colab": {
          "base_uri": "https://localhost:8080/"
        }
      },
      "execution_count": 5,
      "outputs": [
        {
          "output_type": "stream",
          "name": "stdout",
          "text": [
            "[INFO] 2024-02-12 12:21:17 - Download do arquivo buscape-comentarios.csv concluído com sucesso!\n"
          ]
        }
      ]
    },
    {
      "cell_type": "code",
      "source": [
        "# O comando head do linux mostra as cinco primeiras linhas do arquivo gravado.\n",
        "!head -n 10 {buscape_caminho}"
      ],
      "metadata": {
        "id": "57kIS4iOsTM1",
        "outputId": "def26d5b-242d-4a6c-e68b-74642537d1b4",
        "colab": {
          "base_uri": "https://localhost:8080/"
        }
      },
      "execution_count": 6,
      "outputs": [
        {
          "output_type": "stream",
          "name": "stdout",
          "text": [
            "original_index,review_text,review_text_processed,review_text_tokenized,polarity,rating,kfold_polarity,kfold_rating\r\n",
            "4_55516,\"Estou muito satisfeito, o visor é melhor do que eu imaginava, boas imagens, desing ultra fino. Pelo preço é um exelente aparelho.\n",
            "\n",
            "O que gostei: Desing exelente, display, custo beneficio.\n",
            "\n",
            "O que não gostei: Não tem como adicionar mais papeis de parede, bateria dura pouco.\",\"estou muito satisfeito, o visor e melhor do que eu imaginava, boas imagens, desing ultra fino. pelo preco e um exelente aparelho.\n",
            "\n",
            "o que gostei: desing exelente, display, custo beneficio.\n",
            "\n",
            "o que nao gostei: nao tem como adicionar mais papeis de parede, bateria dura pouco.\",\"['estou', 'muito', 'satisfeito', 'visor', 'melhor', 'do', 'que', 'eu', 'imaginava', 'boas', 'imagens', 'desing', 'ultra', 'fino', 'pelo', 'preco', 'um', 'exelente', 'aparelho', 'que', 'gostei', 'desing', 'exelente', 'display', 'custo', 'beneficio', 'que', 'nao', 'gostei', 'nao', 'tem', 'como', 'adicionar', 'mais', 'papeis', 'de', 'parede', 'bateria', 'dura', 'pouco']\",1.0,4,1,1\r\n"
          ]
        }
      ]
    },
    {
      "cell_type": "code",
      "source": [
        "# Lista das colunas específicas para serem lidas do arquivo CSV.\n",
        "colunas_desejadas = ['review_text', 'polarity']\n",
        "\n",
        "# Carrega dados do CSV usando as colunas definidas.\n",
        "buscape_df = pd.read_csv(buscape_caminho, usecols=colunas_desejadas)\n",
        "\n",
        "# Mostra o número de linhas e colunas do dataFrame buscape_df.\n",
        "num_rows, num_cols = buscape_df.shape[0], buscape_df.shape[1]\n",
        "print(formata_msg(\"INFO\", f\"O dataset tem {num_rows} linnhas e {num_cols} colunas.\"))"
      ],
      "metadata": {
        "id": "JgPlAJr2S0Ct",
        "outputId": "3e9a2ffd-b22a-431e-ad23-84b3facd8789",
        "colab": {
          "base_uri": "https://localhost:8080/"
        }
      },
      "execution_count": 7,
      "outputs": [
        {
          "output_type": "stream",
          "name": "stdout",
          "text": [
            "[INFO] 2024-02-12 12:23:41 - O dataset tem 84991 linnhas e 2 colunas.\n"
          ]
        }
      ]
    },
    {
      "cell_type": "code",
      "source": [
        "# Remove todas as linhas do DataFrame que contêm valores nulos.\n",
        "buscape_df.dropna(inplace=True)\n",
        "\n",
        "# Mostra o número de linhas e colunas do dataFrame buscape_df.\n",
        "num_rows, num_cols = buscape_df.shape[0], buscape_df.shape[1]\n",
        "print(formata_msg(\"INFO\", f\"O dataset tem {num_rows} linnhas e {num_cols} colunas.\"))"
      ],
      "metadata": {
        "id": "Epsn6SgI_BtU",
        "outputId": "1479af9d-d6c3-4b8e-bb55-a37fe662edfe",
        "colab": {
          "base_uri": "https://localhost:8080/"
        }
      },
      "execution_count": 8,
      "outputs": [
        {
          "output_type": "stream",
          "name": "stdout",
          "text": [
            "[INFO] 2024-02-12 12:24:09 - O dataset tem 73626 linnhas e 2 colunas.\n"
          ]
        }
      ]
    },
    {
      "cell_type": "code",
      "source": [
        "# Exibe as primeiras 5 linhas do DataFrame 'buscape_df' para uma rápida inspeção.\n",
        "buscape_df.head()"
      ],
      "metadata": {
        "id": "muIKeJ7gZq4F",
        "outputId": "40d161af-2297-4d9d-cd97-32e0f3b5df13",
        "colab": {
          "base_uri": "https://localhost:8080/",
          "height": 206
        }
      },
      "execution_count": 9,
      "outputs": [
        {
          "output_type": "execute_result",
          "data": {
            "text/plain": [
              "                                         review_text  polarity\n",
              "0  Estou muito satisfeito, o visor é melhor do qu...       1.0\n",
              "1  \"muito boa\\n\\nO que gostei: preco\\n\\nO que não...       1.0\n",
              "2  Rápida, ótima qualidade de impressão e fácil d...       1.0\n",
              "3    Produto de ótima qualidade em todos os quesito!       1.0\n",
              "4  Precisava comprar uma tv compatível com meu dv...       1.0"
            ],
            "text/html": [
              "\n",
              "  <div id=\"df-18a5bcca-4cb4-4bbc-a2fc-212a9af4430b\" class=\"colab-df-container\">\n",
              "    <div>\n",
              "<style scoped>\n",
              "    .dataframe tbody tr th:only-of-type {\n",
              "        vertical-align: middle;\n",
              "    }\n",
              "\n",
              "    .dataframe tbody tr th {\n",
              "        vertical-align: top;\n",
              "    }\n",
              "\n",
              "    .dataframe thead th {\n",
              "        text-align: right;\n",
              "    }\n",
              "</style>\n",
              "<table border=\"1\" class=\"dataframe\">\n",
              "  <thead>\n",
              "    <tr style=\"text-align: right;\">\n",
              "      <th></th>\n",
              "      <th>review_text</th>\n",
              "      <th>polarity</th>\n",
              "    </tr>\n",
              "  </thead>\n",
              "  <tbody>\n",
              "    <tr>\n",
              "      <th>0</th>\n",
              "      <td>Estou muito satisfeito, o visor é melhor do qu...</td>\n",
              "      <td>1.0</td>\n",
              "    </tr>\n",
              "    <tr>\n",
              "      <th>1</th>\n",
              "      <td>\"muito boa\\n\\nO que gostei: preco\\n\\nO que não...</td>\n",
              "      <td>1.0</td>\n",
              "    </tr>\n",
              "    <tr>\n",
              "      <th>2</th>\n",
              "      <td>Rápida, ótima qualidade de impressão e fácil d...</td>\n",
              "      <td>1.0</td>\n",
              "    </tr>\n",
              "    <tr>\n",
              "      <th>3</th>\n",
              "      <td>Produto de ótima qualidade em todos os quesito!</td>\n",
              "      <td>1.0</td>\n",
              "    </tr>\n",
              "    <tr>\n",
              "      <th>4</th>\n",
              "      <td>Precisava comprar uma tv compatível com meu dv...</td>\n",
              "      <td>1.0</td>\n",
              "    </tr>\n",
              "  </tbody>\n",
              "</table>\n",
              "</div>\n",
              "    <div class=\"colab-df-buttons\">\n",
              "\n",
              "  <div class=\"colab-df-container\">\n",
              "    <button class=\"colab-df-convert\" onclick=\"convertToInteractive('df-18a5bcca-4cb4-4bbc-a2fc-212a9af4430b')\"\n",
              "            title=\"Convert this dataframe to an interactive table.\"\n",
              "            style=\"display:none;\">\n",
              "\n",
              "  <svg xmlns=\"http://www.w3.org/2000/svg\" height=\"24px\" viewBox=\"0 -960 960 960\">\n",
              "    <path d=\"M120-120v-720h720v720H120Zm60-500h600v-160H180v160Zm220 220h160v-160H400v160Zm0 220h160v-160H400v160ZM180-400h160v-160H180v160Zm440 0h160v-160H620v160ZM180-180h160v-160H180v160Zm440 0h160v-160H620v160Z\"/>\n",
              "  </svg>\n",
              "    </button>\n",
              "\n",
              "  <style>\n",
              "    .colab-df-container {\n",
              "      display:flex;\n",
              "      gap: 12px;\n",
              "    }\n",
              "\n",
              "    .colab-df-convert {\n",
              "      background-color: #E8F0FE;\n",
              "      border: none;\n",
              "      border-radius: 50%;\n",
              "      cursor: pointer;\n",
              "      display: none;\n",
              "      fill: #1967D2;\n",
              "      height: 32px;\n",
              "      padding: 0 0 0 0;\n",
              "      width: 32px;\n",
              "    }\n",
              "\n",
              "    .colab-df-convert:hover {\n",
              "      background-color: #E2EBFA;\n",
              "      box-shadow: 0px 1px 2px rgba(60, 64, 67, 0.3), 0px 1px 3px 1px rgba(60, 64, 67, 0.15);\n",
              "      fill: #174EA6;\n",
              "    }\n",
              "\n",
              "    .colab-df-buttons div {\n",
              "      margin-bottom: 4px;\n",
              "    }\n",
              "\n",
              "    [theme=dark] .colab-df-convert {\n",
              "      background-color: #3B4455;\n",
              "      fill: #D2E3FC;\n",
              "    }\n",
              "\n",
              "    [theme=dark] .colab-df-convert:hover {\n",
              "      background-color: #434B5C;\n",
              "      box-shadow: 0px 1px 3px 1px rgba(0, 0, 0, 0.15);\n",
              "      filter: drop-shadow(0px 1px 2px rgba(0, 0, 0, 0.3));\n",
              "      fill: #FFFFFF;\n",
              "    }\n",
              "  </style>\n",
              "\n",
              "    <script>\n",
              "      const buttonEl =\n",
              "        document.querySelector('#df-18a5bcca-4cb4-4bbc-a2fc-212a9af4430b button.colab-df-convert');\n",
              "      buttonEl.style.display =\n",
              "        google.colab.kernel.accessAllowed ? 'block' : 'none';\n",
              "\n",
              "      async function convertToInteractive(key) {\n",
              "        const element = document.querySelector('#df-18a5bcca-4cb4-4bbc-a2fc-212a9af4430b');\n",
              "        const dataTable =\n",
              "          await google.colab.kernel.invokeFunction('convertToInteractive',\n",
              "                                                    [key], {});\n",
              "        if (!dataTable) return;\n",
              "\n",
              "        const docLinkHtml = 'Like what you see? Visit the ' +\n",
              "          '<a target=\"_blank\" href=https://colab.research.google.com/notebooks/data_table.ipynb>data table notebook</a>'\n",
              "          + ' to learn more about interactive tables.';\n",
              "        element.innerHTML = '';\n",
              "        dataTable['output_type'] = 'display_data';\n",
              "        await google.colab.output.renderOutput(dataTable, element);\n",
              "        const docLink = document.createElement('div');\n",
              "        docLink.innerHTML = docLinkHtml;\n",
              "        element.appendChild(docLink);\n",
              "      }\n",
              "    </script>\n",
              "  </div>\n",
              "\n",
              "\n",
              "<div id=\"df-0d285023-334f-4ecf-b065-6676fe99e5b6\">\n",
              "  <button class=\"colab-df-quickchart\" onclick=\"quickchart('df-0d285023-334f-4ecf-b065-6676fe99e5b6')\"\n",
              "            title=\"Suggest charts\"\n",
              "            style=\"display:none;\">\n",
              "\n",
              "<svg xmlns=\"http://www.w3.org/2000/svg\" height=\"24px\"viewBox=\"0 0 24 24\"\n",
              "     width=\"24px\">\n",
              "    <g>\n",
              "        <path d=\"M19 3H5c-1.1 0-2 .9-2 2v14c0 1.1.9 2 2 2h14c1.1 0 2-.9 2-2V5c0-1.1-.9-2-2-2zM9 17H7v-7h2v7zm4 0h-2V7h2v10zm4 0h-2v-4h2v4z\"/>\n",
              "    </g>\n",
              "</svg>\n",
              "  </button>\n",
              "\n",
              "<style>\n",
              "  .colab-df-quickchart {\n",
              "      --bg-color: #E8F0FE;\n",
              "      --fill-color: #1967D2;\n",
              "      --hover-bg-color: #E2EBFA;\n",
              "      --hover-fill-color: #174EA6;\n",
              "      --disabled-fill-color: #AAA;\n",
              "      --disabled-bg-color: #DDD;\n",
              "  }\n",
              "\n",
              "  [theme=dark] .colab-df-quickchart {\n",
              "      --bg-color: #3B4455;\n",
              "      --fill-color: #D2E3FC;\n",
              "      --hover-bg-color: #434B5C;\n",
              "      --hover-fill-color: #FFFFFF;\n",
              "      --disabled-bg-color: #3B4455;\n",
              "      --disabled-fill-color: #666;\n",
              "  }\n",
              "\n",
              "  .colab-df-quickchart {\n",
              "    background-color: var(--bg-color);\n",
              "    border: none;\n",
              "    border-radius: 50%;\n",
              "    cursor: pointer;\n",
              "    display: none;\n",
              "    fill: var(--fill-color);\n",
              "    height: 32px;\n",
              "    padding: 0;\n",
              "    width: 32px;\n",
              "  }\n",
              "\n",
              "  .colab-df-quickchart:hover {\n",
              "    background-color: var(--hover-bg-color);\n",
              "    box-shadow: 0 1px 2px rgba(60, 64, 67, 0.3), 0 1px 3px 1px rgba(60, 64, 67, 0.15);\n",
              "    fill: var(--button-hover-fill-color);\n",
              "  }\n",
              "\n",
              "  .colab-df-quickchart-complete:disabled,\n",
              "  .colab-df-quickchart-complete:disabled:hover {\n",
              "    background-color: var(--disabled-bg-color);\n",
              "    fill: var(--disabled-fill-color);\n",
              "    box-shadow: none;\n",
              "  }\n",
              "\n",
              "  .colab-df-spinner {\n",
              "    border: 2px solid var(--fill-color);\n",
              "    border-color: transparent;\n",
              "    border-bottom-color: var(--fill-color);\n",
              "    animation:\n",
              "      spin 1s steps(1) infinite;\n",
              "  }\n",
              "\n",
              "  @keyframes spin {\n",
              "    0% {\n",
              "      border-color: transparent;\n",
              "      border-bottom-color: var(--fill-color);\n",
              "      border-left-color: var(--fill-color);\n",
              "    }\n",
              "    20% {\n",
              "      border-color: transparent;\n",
              "      border-left-color: var(--fill-color);\n",
              "      border-top-color: var(--fill-color);\n",
              "    }\n",
              "    30% {\n",
              "      border-color: transparent;\n",
              "      border-left-color: var(--fill-color);\n",
              "      border-top-color: var(--fill-color);\n",
              "      border-right-color: var(--fill-color);\n",
              "    }\n",
              "    40% {\n",
              "      border-color: transparent;\n",
              "      border-right-color: var(--fill-color);\n",
              "      border-top-color: var(--fill-color);\n",
              "    }\n",
              "    60% {\n",
              "      border-color: transparent;\n",
              "      border-right-color: var(--fill-color);\n",
              "    }\n",
              "    80% {\n",
              "      border-color: transparent;\n",
              "      border-right-color: var(--fill-color);\n",
              "      border-bottom-color: var(--fill-color);\n",
              "    }\n",
              "    90% {\n",
              "      border-color: transparent;\n",
              "      border-bottom-color: var(--fill-color);\n",
              "    }\n",
              "  }\n",
              "</style>\n",
              "\n",
              "  <script>\n",
              "    async function quickchart(key) {\n",
              "      const quickchartButtonEl =\n",
              "        document.querySelector('#' + key + ' button');\n",
              "      quickchartButtonEl.disabled = true;  // To prevent multiple clicks.\n",
              "      quickchartButtonEl.classList.add('colab-df-spinner');\n",
              "      try {\n",
              "        const charts = await google.colab.kernel.invokeFunction(\n",
              "            'suggestCharts', [key], {});\n",
              "      } catch (error) {\n",
              "        console.error('Error during call to suggestCharts:', error);\n",
              "      }\n",
              "      quickchartButtonEl.classList.remove('colab-df-spinner');\n",
              "      quickchartButtonEl.classList.add('colab-df-quickchart-complete');\n",
              "    }\n",
              "    (() => {\n",
              "      let quickchartButtonEl =\n",
              "        document.querySelector('#df-0d285023-334f-4ecf-b065-6676fe99e5b6 button');\n",
              "      quickchartButtonEl.style.display =\n",
              "        google.colab.kernel.accessAllowed ? 'block' : 'none';\n",
              "    })();\n",
              "  </script>\n",
              "</div>\n",
              "\n",
              "    </div>\n",
              "  </div>\n"
            ]
          },
          "metadata": {},
          "execution_count": 9
        }
      ]
    },
    {
      "cell_type": "code",
      "source": [
        "# Converte os valores da coluna 'polarity' para string.\n",
        "buscape_df['polarity'] = buscape_df['polarity'].astype(int)\n",
        "\n",
        "# Exibe as primeiras 5 linhas do DataFrame 'buscape_df' para uma rápida inspeção.\n",
        "buscape_df.head()"
      ],
      "metadata": {
        "id": "dRYgtwasBHXl",
        "outputId": "0083c88d-8267-4434-b902-433d5ed0e642",
        "colab": {
          "base_uri": "https://localhost:8080/",
          "height": 206
        }
      },
      "execution_count": 10,
      "outputs": [
        {
          "output_type": "execute_result",
          "data": {
            "text/plain": [
              "                                         review_text  polarity\n",
              "0  Estou muito satisfeito, o visor é melhor do qu...         1\n",
              "1  \"muito boa\\n\\nO que gostei: preco\\n\\nO que não...         1\n",
              "2  Rápida, ótima qualidade de impressão e fácil d...         1\n",
              "3    Produto de ótima qualidade em todos os quesito!         1\n",
              "4  Precisava comprar uma tv compatível com meu dv...         1"
            ],
            "text/html": [
              "\n",
              "  <div id=\"df-e98d73a9-83dd-4e12-82bf-63c30d92bece\" class=\"colab-df-container\">\n",
              "    <div>\n",
              "<style scoped>\n",
              "    .dataframe tbody tr th:only-of-type {\n",
              "        vertical-align: middle;\n",
              "    }\n",
              "\n",
              "    .dataframe tbody tr th {\n",
              "        vertical-align: top;\n",
              "    }\n",
              "\n",
              "    .dataframe thead th {\n",
              "        text-align: right;\n",
              "    }\n",
              "</style>\n",
              "<table border=\"1\" class=\"dataframe\">\n",
              "  <thead>\n",
              "    <tr style=\"text-align: right;\">\n",
              "      <th></th>\n",
              "      <th>review_text</th>\n",
              "      <th>polarity</th>\n",
              "    </tr>\n",
              "  </thead>\n",
              "  <tbody>\n",
              "    <tr>\n",
              "      <th>0</th>\n",
              "      <td>Estou muito satisfeito, o visor é melhor do qu...</td>\n",
              "      <td>1</td>\n",
              "    </tr>\n",
              "    <tr>\n",
              "      <th>1</th>\n",
              "      <td>\"muito boa\\n\\nO que gostei: preco\\n\\nO que não...</td>\n",
              "      <td>1</td>\n",
              "    </tr>\n",
              "    <tr>\n",
              "      <th>2</th>\n",
              "      <td>Rápida, ótima qualidade de impressão e fácil d...</td>\n",
              "      <td>1</td>\n",
              "    </tr>\n",
              "    <tr>\n",
              "      <th>3</th>\n",
              "      <td>Produto de ótima qualidade em todos os quesito!</td>\n",
              "      <td>1</td>\n",
              "    </tr>\n",
              "    <tr>\n",
              "      <th>4</th>\n",
              "      <td>Precisava comprar uma tv compatível com meu dv...</td>\n",
              "      <td>1</td>\n",
              "    </tr>\n",
              "  </tbody>\n",
              "</table>\n",
              "</div>\n",
              "    <div class=\"colab-df-buttons\">\n",
              "\n",
              "  <div class=\"colab-df-container\">\n",
              "    <button class=\"colab-df-convert\" onclick=\"convertToInteractive('df-e98d73a9-83dd-4e12-82bf-63c30d92bece')\"\n",
              "            title=\"Convert this dataframe to an interactive table.\"\n",
              "            style=\"display:none;\">\n",
              "\n",
              "  <svg xmlns=\"http://www.w3.org/2000/svg\" height=\"24px\" viewBox=\"0 -960 960 960\">\n",
              "    <path d=\"M120-120v-720h720v720H120Zm60-500h600v-160H180v160Zm220 220h160v-160H400v160Zm0 220h160v-160H400v160ZM180-400h160v-160H180v160Zm440 0h160v-160H620v160ZM180-180h160v-160H180v160Zm440 0h160v-160H620v160Z\"/>\n",
              "  </svg>\n",
              "    </button>\n",
              "\n",
              "  <style>\n",
              "    .colab-df-container {\n",
              "      display:flex;\n",
              "      gap: 12px;\n",
              "    }\n",
              "\n",
              "    .colab-df-convert {\n",
              "      background-color: #E8F0FE;\n",
              "      border: none;\n",
              "      border-radius: 50%;\n",
              "      cursor: pointer;\n",
              "      display: none;\n",
              "      fill: #1967D2;\n",
              "      height: 32px;\n",
              "      padding: 0 0 0 0;\n",
              "      width: 32px;\n",
              "    }\n",
              "\n",
              "    .colab-df-convert:hover {\n",
              "      background-color: #E2EBFA;\n",
              "      box-shadow: 0px 1px 2px rgba(60, 64, 67, 0.3), 0px 1px 3px 1px rgba(60, 64, 67, 0.15);\n",
              "      fill: #174EA6;\n",
              "    }\n",
              "\n",
              "    .colab-df-buttons div {\n",
              "      margin-bottom: 4px;\n",
              "    }\n",
              "\n",
              "    [theme=dark] .colab-df-convert {\n",
              "      background-color: #3B4455;\n",
              "      fill: #D2E3FC;\n",
              "    }\n",
              "\n",
              "    [theme=dark] .colab-df-convert:hover {\n",
              "      background-color: #434B5C;\n",
              "      box-shadow: 0px 1px 3px 1px rgba(0, 0, 0, 0.15);\n",
              "      filter: drop-shadow(0px 1px 2px rgba(0, 0, 0, 0.3));\n",
              "      fill: #FFFFFF;\n",
              "    }\n",
              "  </style>\n",
              "\n",
              "    <script>\n",
              "      const buttonEl =\n",
              "        document.querySelector('#df-e98d73a9-83dd-4e12-82bf-63c30d92bece button.colab-df-convert');\n",
              "      buttonEl.style.display =\n",
              "        google.colab.kernel.accessAllowed ? 'block' : 'none';\n",
              "\n",
              "      async function convertToInteractive(key) {\n",
              "        const element = document.querySelector('#df-e98d73a9-83dd-4e12-82bf-63c30d92bece');\n",
              "        const dataTable =\n",
              "          await google.colab.kernel.invokeFunction('convertToInteractive',\n",
              "                                                    [key], {});\n",
              "        if (!dataTable) return;\n",
              "\n",
              "        const docLinkHtml = 'Like what you see? Visit the ' +\n",
              "          '<a target=\"_blank\" href=https://colab.research.google.com/notebooks/data_table.ipynb>data table notebook</a>'\n",
              "          + ' to learn more about interactive tables.';\n",
              "        element.innerHTML = '';\n",
              "        dataTable['output_type'] = 'display_data';\n",
              "        await google.colab.output.renderOutput(dataTable, element);\n",
              "        const docLink = document.createElement('div');\n",
              "        docLink.innerHTML = docLinkHtml;\n",
              "        element.appendChild(docLink);\n",
              "      }\n",
              "    </script>\n",
              "  </div>\n",
              "\n",
              "\n",
              "<div id=\"df-f1de97af-b8fe-47ba-8781-a7be59f261a8\">\n",
              "  <button class=\"colab-df-quickchart\" onclick=\"quickchart('df-f1de97af-b8fe-47ba-8781-a7be59f261a8')\"\n",
              "            title=\"Suggest charts\"\n",
              "            style=\"display:none;\">\n",
              "\n",
              "<svg xmlns=\"http://www.w3.org/2000/svg\" height=\"24px\"viewBox=\"0 0 24 24\"\n",
              "     width=\"24px\">\n",
              "    <g>\n",
              "        <path d=\"M19 3H5c-1.1 0-2 .9-2 2v14c0 1.1.9 2 2 2h14c1.1 0 2-.9 2-2V5c0-1.1-.9-2-2-2zM9 17H7v-7h2v7zm4 0h-2V7h2v10zm4 0h-2v-4h2v4z\"/>\n",
              "    </g>\n",
              "</svg>\n",
              "  </button>\n",
              "\n",
              "<style>\n",
              "  .colab-df-quickchart {\n",
              "      --bg-color: #E8F0FE;\n",
              "      --fill-color: #1967D2;\n",
              "      --hover-bg-color: #E2EBFA;\n",
              "      --hover-fill-color: #174EA6;\n",
              "      --disabled-fill-color: #AAA;\n",
              "      --disabled-bg-color: #DDD;\n",
              "  }\n",
              "\n",
              "  [theme=dark] .colab-df-quickchart {\n",
              "      --bg-color: #3B4455;\n",
              "      --fill-color: #D2E3FC;\n",
              "      --hover-bg-color: #434B5C;\n",
              "      --hover-fill-color: #FFFFFF;\n",
              "      --disabled-bg-color: #3B4455;\n",
              "      --disabled-fill-color: #666;\n",
              "  }\n",
              "\n",
              "  .colab-df-quickchart {\n",
              "    background-color: var(--bg-color);\n",
              "    border: none;\n",
              "    border-radius: 50%;\n",
              "    cursor: pointer;\n",
              "    display: none;\n",
              "    fill: var(--fill-color);\n",
              "    height: 32px;\n",
              "    padding: 0;\n",
              "    width: 32px;\n",
              "  }\n",
              "\n",
              "  .colab-df-quickchart:hover {\n",
              "    background-color: var(--hover-bg-color);\n",
              "    box-shadow: 0 1px 2px rgba(60, 64, 67, 0.3), 0 1px 3px 1px rgba(60, 64, 67, 0.15);\n",
              "    fill: var(--button-hover-fill-color);\n",
              "  }\n",
              "\n",
              "  .colab-df-quickchart-complete:disabled,\n",
              "  .colab-df-quickchart-complete:disabled:hover {\n",
              "    background-color: var(--disabled-bg-color);\n",
              "    fill: var(--disabled-fill-color);\n",
              "    box-shadow: none;\n",
              "  }\n",
              "\n",
              "  .colab-df-spinner {\n",
              "    border: 2px solid var(--fill-color);\n",
              "    border-color: transparent;\n",
              "    border-bottom-color: var(--fill-color);\n",
              "    animation:\n",
              "      spin 1s steps(1) infinite;\n",
              "  }\n",
              "\n",
              "  @keyframes spin {\n",
              "    0% {\n",
              "      border-color: transparent;\n",
              "      border-bottom-color: var(--fill-color);\n",
              "      border-left-color: var(--fill-color);\n",
              "    }\n",
              "    20% {\n",
              "      border-color: transparent;\n",
              "      border-left-color: var(--fill-color);\n",
              "      border-top-color: var(--fill-color);\n",
              "    }\n",
              "    30% {\n",
              "      border-color: transparent;\n",
              "      border-left-color: var(--fill-color);\n",
              "      border-top-color: var(--fill-color);\n",
              "      border-right-color: var(--fill-color);\n",
              "    }\n",
              "    40% {\n",
              "      border-color: transparent;\n",
              "      border-right-color: var(--fill-color);\n",
              "      border-top-color: var(--fill-color);\n",
              "    }\n",
              "    60% {\n",
              "      border-color: transparent;\n",
              "      border-right-color: var(--fill-color);\n",
              "    }\n",
              "    80% {\n",
              "      border-color: transparent;\n",
              "      border-right-color: var(--fill-color);\n",
              "      border-bottom-color: var(--fill-color);\n",
              "    }\n",
              "    90% {\n",
              "      border-color: transparent;\n",
              "      border-bottom-color: var(--fill-color);\n",
              "    }\n",
              "  }\n",
              "</style>\n",
              "\n",
              "  <script>\n",
              "    async function quickchart(key) {\n",
              "      const quickchartButtonEl =\n",
              "        document.querySelector('#' + key + ' button');\n",
              "      quickchartButtonEl.disabled = true;  // To prevent multiple clicks.\n",
              "      quickchartButtonEl.classList.add('colab-df-spinner');\n",
              "      try {\n",
              "        const charts = await google.colab.kernel.invokeFunction(\n",
              "            'suggestCharts', [key], {});\n",
              "      } catch (error) {\n",
              "        console.error('Error during call to suggestCharts:', error);\n",
              "      }\n",
              "      quickchartButtonEl.classList.remove('colab-df-spinner');\n",
              "      quickchartButtonEl.classList.add('colab-df-quickchart-complete');\n",
              "    }\n",
              "    (() => {\n",
              "      let quickchartButtonEl =\n",
              "        document.querySelector('#df-f1de97af-b8fe-47ba-8781-a7be59f261a8 button');\n",
              "      quickchartButtonEl.style.display =\n",
              "        google.colab.kernel.accessAllowed ? 'block' : 'none';\n",
              "    })();\n",
              "  </script>\n",
              "</div>\n",
              "\n",
              "    </div>\n",
              "  </div>\n"
            ]
          },
          "metadata": {},
          "execution_count": 10
        }
      ]
    },
    {
      "cell_type": "code",
      "source": [
        "# Plota um gráfico de barras as categorias de polaridade.\n",
        "plotar_distribuicao_polaridade(buscape_df)"
      ],
      "metadata": {
        "id": "GfLGVfDBDDS6",
        "outputId": "fa64ec25-91d6-4872-b95f-90b249f91da6",
        "colab": {
          "base_uri": "https://localhost:8080/",
          "height": 430
        }
      },
      "execution_count": 11,
      "outputs": [
        {
          "output_type": "display_data",
          "data": {
            "text/plain": [
              "<Figure size 640x480 with 1 Axes>"
            ],
            "image/png": "[encoded data removed]"
          },
          "metadata": {}
        }
      ]
    },
    {
      "cell_type": "code",
      "source": [
        "# Seleciona uma linha específica do dataFrame 'buscape_df' usando 'iloc' para\n",
        "# testes do enriquecimento de dados.\n",
        "texto = buscape_df.iloc[5]['review_text'].replace(\"\\n\", \" \")\n",
        "print(texto)"
      ],
      "metadata": {
        "id": "ojfvfHh2mo-X",
        "outputId": "102479cd-1707-49c3-c8ea-12df295bffe8",
        "colab": {
          "base_uri": "https://localhost:8080/"
        }
      },
      "execution_count": 13,
      "outputs": [
        {
          "output_type": "stream",
          "name": "stdout",
          "text": [
            "eu adorei este secador é muito bom,potente e deixa meu cabelo lindo\n"
          ]
        }
      ]
    },
    {
      "cell_type": "code",
      "source": [
        "# Inicializando o augmentador com o modelo BERT em português\n",
        "# para inserir palavras contextualmente apropriadas\n",
        "enriquecedor = naw.ContextualWordEmbsAug(\n",
        "    model_path='neuralmind/bert-base-portuguese-cased', action=\"insert\")\n",
        "\n",
        "# Exibindo o texto original\n",
        "print(\"Texto original:\")\n",
        "print(texto)\n",
        "\n",
        "# Exibindo o texto enriquecido\n",
        "print(\"Texto enriquecido:\")\n",
        "for ii in range(5):\n",
        "    print(enriquecedor.augment(texto))\n"
      ],
      "metadata": {
        "id": "IGEcNpuNoM8V",
        "outputId": "9bb08397-fedc-4c25-a87f-d0e9e8ae9c30",
        "colab": {
          "base_uri": "https://localhost:8080/"
        }
      },
      "execution_count": 17,
      "outputs": [
        {
          "output_type": "stream",
          "name": "stdout",
          "text": [
            "Texto original:\n",
            "eu adorei este secador é muito bom,potente e deixa meu cabelo lindo\n",
            "Texto enriquecido:\n",
            "['Maria eu adorei este secador é muito bom bom, ultra potente e rápido deixa meu meu cabelo grande lindo']\n",
            "['eu sempre adorei este secador é facil muito bom, du potente sempre e deixa também meu cabelo super lindo']\n",
            "['Mais eu adorei este de secador porque é tudo muito de bom, potente e deixa os meu cabelo lindo']\n",
            "['eu mais adorei este de secador ela é sim muito bom, potente e deixa esse meu cabelo muito lindo']\n",
            "['Ola eu realmente adorei este secador e é mesmo muito bom, ele potente corta e deixa meu cabelo lindo']\n"
          ]
        }
      ]
    },
    {
      "cell_type": "code",
      "source": [
        "# Divisão do DataFrame 'buscape_df' em conjuntos de treino e teste.\n",
        "train, test = train_test_split(buscape_df, test_size=0.20, random_state=42)\n",
        "\n",
        "# plotar a distribuição de polaridade no conjunto de treino\n",
        "plotar_distribuicao_polaridade(train)"
      ],
      "metadata": {
        "id": "wxjneTYKnuLL",
        "outputId": "837d9468-1217-46b5-bcad-80a6060bfc70",
        "colab": {
          "base_uri": "https://localhost:8080/",
          "height": 430
        }
      },
      "execution_count": 19,
      "outputs": [
        {
          "output_type": "display_data",
          "data": {
            "text/plain": [
              "<Figure size 640x480 with 1 Axes>"
            ],
            "image/png": "[encoded data removed]"
          },
          "metadata": {}
        }
      ]
    },
    {
      "cell_type": "code",
      "source": [
        "def enriquecer_texto(enriquecedor, df, classe, amostras=100, prob_aug=0.2):\n",
        "    \"\"\"\n",
        "    Enriquece textos de uma determinada classe em um DataFrame usando enriquecimento.\n",
        "\n",
        "    A função seleciona aleatoriamente um conjunto de textos da classe especificada\n",
        "    e aplica a augmentação para gerar novos textos. Esses textos são adicionados ao\n",
        "    DataFrame original, criando uma versão enriquecida do mesmo.\n",
        "\n",
        "    Args:\n",
        "        enriquecedor: Objeto utilizado para realizar a augmentação dos textos.\n",
        "        df (pd.DataFrame): DataFrame contendo os textos e suas respectivas classes.\n",
        "        classe (int/str): A classe dos textos que serão enriquecidos.\n",
        "        amostras (int, optional): Número de textos da classe especificada a serem enriquecidos.\n",
        "            Padrão é 100.\n",
        "        prob_aug (float, optional): Probabilidade de cada palavra ser augmentada.\n",
        "            Padrão é 0.2.\n",
        "\n",
        "    Returns:\n",
        "        pd.DataFrame: DataFrame original com os textos enriquecidos adicionados,\n",
        "        embaralhado de forma aleatória.\n",
        "    \"\"\"\n",
        "\n",
        "    # Define a probabilidade de augmentação para o enriquecedor\n",
        "    enriquecedor.aug_p = prob_aug\n",
        "\n",
        "    # Inicializa a lista para armazenar textos enriquecidos\n",
        "    textos_enriquecidos = []\n",
        "\n",
        "    # Filtra o DataFrame para obter apenas as entradas da classe especificada\n",
        "    df_minoritario = df[df.polarity == classe].reset_index(drop=True)\n",
        "\n",
        "    # Loop para enriquecer uma quantidade específica de amostras aleatórias\n",
        "    for i in tqdm(np.random.randint(0, len(df_minoritario), amostras)):\n",
        "        texto = df_minoritario.iloc[i]['review_text']\n",
        "        texto_enriquecido = enriquecedor.augment(texto)\n",
        "        textos_enriquecidos.append(texto_enriquecido)\n",
        "\n",
        "    # Cria um DataFrame com os textos enriquecidos e a classe-alvo\n",
        "    df_enriquecido = pd.DataFrame({'review_text': textos_enriquecidos, 'polarity': classe})\n",
        "\n",
        "    # Combina o DataFrame original com o DataFrame enriquecido e embaralha\n",
        "    df_resultante = pd.concat([df, df_enriquecido], ignore_index=True).sample(frac=1, random_state=42)\n",
        "\n",
        "    # Retorna o DataFrame resultante\n",
        "    return df_resultante\n",
        "\n",
        "print(formata_msg(\"INFO\", f\"Função de enriquecimento pronta para utilização.\"))\n"
      ],
      "metadata": {
        "id": "8akLoHA5U-Dt",
        "outputId": "f3927de7-b9c0-428f-e7e9-c2f119ccfeb5",
        "colab": {
          "base_uri": "https://localhost:8080/"
        }
      },
      "execution_count": 20,
      "outputs": [
        {
          "output_type": "stream",
          "name": "stdout",
          "text": [
            "[INFO] 2024-02-12 12:39:07 - Função de enriquecimento pronta para utilização.\n"
          ]
        }
      ]
    },
    {
      "cell_type": "code",
      "source": [
        "# Enriquece o conjunto de treinamento. Esse procedimento não\n",
        "# ser aplicado somente no conjunto de testes. Esse\n",
        "# deve refletir dados do mundo real tão fielmente quanto possível.\n",
        "train_enrequecido = enriquecer_texto(enriquecedor, train, 0, amostras=10)\n",
        "print(formata_msg(\"INFO\", f\"Dataset de treinamento enriquecido.\"))"
      ],
      "metadata": {
        "id": "lJeVYGh9MMlg",
        "outputId": "01294574-e09a-46f7-ab26-14216ebfaebd",
        "colab": {
          "base_uri": "https://localhost:8080/"
        }
      },
      "execution_count": 21,
      "outputs": [
        {
          "output_type": "stream",
          "name": "stderr",
          "text": [
            "100%|██████████| 10/10 [00:57<00:00,  5.77s/it]"
          ]
        },
        {
          "output_type": "stream",
          "name": "stdout",
          "text": [
            "[INFO] 2024-02-12 12:41:17 - Dataset de treinamento enriquecido.\n"
          ]
        },
        {
          "output_type": "stream",
          "name": "stderr",
          "text": [
            "\n"
          ]
        }
      ]
    },
    {
      "cell_type": "code",
      "source": [
        "# plotar a distribuição de polaridade no conjunto de treino\n",
        "# após o enriquecimento.\n",
        "plotar_distribuicao_polaridade(train_enrequecido)"
      ],
      "metadata": {
        "id": "g66dMY7IMny3",
        "outputId": "372b09bd-8132-4ff8-e47d-8bbf87116da9",
        "colab": {
          "base_uri": "https://localhost:8080/",
          "height": 430
        }
      },
      "execution_count": 22,
      "outputs": [
        {
          "output_type": "display_data",
          "data": {
            "text/plain": [
              "<Figure size 640x480 with 1 Axes>"
            ],
            "image/png": "[encoded data removed]"
          },
          "metadata": {}
        }
      ]
    }
  ]
}