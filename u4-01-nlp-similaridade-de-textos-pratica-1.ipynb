{
  "nbformat": 4,
  "nbformat_minor": 0,
  "metadata": {
    "kernelspec": {
      "display_name": "Python 3",
      "name": "python3"
    },
    "language_info": {
      "name": "python"
    },
    "colab": {
      "provenance": [],
      "include_colab_link": true
    }
  },
  "cells": [
    {
      "cell_type": "markdown",
      "metadata": {
        "id": "view-in-github",
        "colab_type": "text"
      },
      "source": [
        "<a href=\"https://colab.research.google.com/github/gomesluiz/pln-na-pratica/blob/main/u4-01-nlp-similaridade-de-textos-pratica-1.ipynb\" target=\"_parent\"><img src=\"https://colab.research.google.com/assets/colab-badge.svg\" alt=\"Open In Colab\"/></a>"
      ]
    },
    {
      "cell_type": "markdown",
      "metadata": {
        "id": "7Oh3sCHZU2aY"
      },
      "source": [
        "# Similaridade de Textos\n"
      ]
    },
    {
      "cell_type": "code",
      "metadata": {
        "id": "VlypLoBCU2aZ",
        "outputId": "73540337-4220-4512-bf08-dbdabd4ce44b",
        "colab": {
          "base_uri": "https://localhost:8080/"
        }
      },
      "source": [
        "# Importa módulos essenciais para funcionalidades do notebook.\n",
        "import re\n",
        "import datetime\n",
        "import sys\n",
        "\n",
        "print(\"Pacotes importados com sucesso! Notebook pronto para uso.\")"
      ],
      "execution_count": 64,
      "outputs": [
        {
          "output_type": "stream",
          "name": "stdout",
          "text": [
            "Pacotes importados com sucesso! Notebook pronto para uso.\n"
          ]
        }
      ]
    },
    {
      "cell_type": "code",
      "source": [
        "# Declara define funções utilitárias utilizadas no notebook.\n",
        "\n",
        "def formata_msg(nivel, msg):\n",
        "    \"\"\"\n",
        "    Formata uma mensagem de log incluindo o nível de severidade, timestamp\n",
        "    e a mensagem.\n",
        "\n",
        "    Parâmetros:\n",
        "    - nivel (str): Nível de severidade da mensagem (ex: 'INFO', 'ERROR', 'WARNING').\n",
        "    - msg (str): A mensagem de log propriamente dita.\n",
        "\n",
        "    Retorna:\n",
        "    - str: A mensagem de log formatada.\n",
        "    \"\"\"\n",
        "    timestamp = datetime.datetime.now().strftime('%Y-%m-%d %H:%M:%S')\n",
        "\n",
        "    return f\"[{nivel}] {timestamp} - {msg}\"\n",
        "\n",
        "print(formata_msg(\"INFO\", \"Funções utilitárias prontas para utilização.\"))\n",
        "print(formata_msg(\"INFO\", f\"Versão do Python: {sys.version} \"))"
      ],
      "metadata": {
        "colab": {
          "base_uri": "https://localhost:8080/"
        },
        "id": "EW7hmVPuMNbq",
        "outputId": "0559d954-4dc8-4a50-c331-ee7841e2c87b"
      },
      "execution_count": 65,
      "outputs": [
        {
          "output_type": "stream",
          "name": "stdout",
          "text": [
            "[INFO] 2024-04-04 14:34:57 - Funções utilitárias prontas para utilização.\n",
            "[INFO] 2024-04-04 14:34:57 - Versão do Python: 3.10.12 (main, Nov 20 2023, 15:14:05) [GCC 11.4.0] \n"
          ]
        }
      ]
    },
    {
      "cell_type": "code",
      "source": [
        "texto_1 = \"O gato comeu o rato\"\n",
        "texto_2 = \"O rato comeu a comida do gato\"\n",
        "print(formata_msg(\"INFO\",f\"\\n{texto_1}\\n{texto_2}\"))"
      ],
      "metadata": {
        "id": "beUgOO5ASa_a",
        "outputId": "f72bd516-c4d7-44a1-e39d-1bb77d0aca6a",
        "colab": {
          "base_uri": "https://localhost:8080/"
        }
      },
      "execution_count": 66,
      "outputs": [
        {
          "output_type": "stream",
          "name": "stdout",
          "text": [
            "[INFO] 2024-04-04 14:34:57 - \n",
            "O gato comeu o rato\n",
            "O rato comeu a comida do gato\n"
          ]
        }
      ]
    },
    {
      "cell_type": "code",
      "metadata": {
        "id": "TfETR1kbU2ai"
      },
      "source": [],
      "execution_count": 66,
      "outputs": []
    },
    {
      "cell_type": "markdown",
      "source": [
        "# Similaridade de Jaccard"
      ],
      "metadata": {
        "id": "E9Dac1HnNR-6"
      }
    },
    {
      "cell_type": "code",
      "source": [
        "def similaridade_jaccard(a, b):\n",
        "  \"\"\"retorna a similiridade de jaccard entre duas listas.\"\"\"\n",
        "  interseccao = len(set.intersection(*[set(a), set(b)]))\n",
        "  uniao = len(set.union(*[set(a), set(b)]))\n",
        "  return interseccao/uniao"
      ],
      "metadata": {
        "id": "NDUKC1AmFREq"
      },
      "execution_count": 67,
      "outputs": []
    },
    {
      "cell_type": "code",
      "source": [
        "corpus = [texto_1, texto_2]\n",
        "tokens = [texto.lower().split(\" \") for texto in corpus]\n",
        "print(formata_msg(\"INFO\",f\"\\n{tokens}\"))"
      ],
      "metadata": {
        "id": "a6quydtFLqh0",
        "outputId": "f672523e-86df-4247-cf7a-5cd8df7bcee1",
        "colab": {
          "base_uri": "https://localhost:8080/"
        }
      },
      "execution_count": 68,
      "outputs": [
        {
          "output_type": "stream",
          "name": "stdout",
          "text": [
            "[INFO] 2024-04-04 14:34:57 - \n",
            "[['o', 'gato', 'comeu', 'o', 'rato'], ['o', 'rato', 'comeu', 'a', 'comida', 'do', 'gato']]\n"
          ]
        }
      ]
    },
    {
      "cell_type": "code",
      "source": [
        "similaridade = similaridade_jaccard(tokens[0], tokens[1])\n",
        "print(formata_msg(\"INFO\",f\"\\nSimilaridade de Jaccard entre os textos: {similaridade}\"))"
      ],
      "metadata": {
        "id": "zCo3r_oIMPUo",
        "outputId": "05d0c86f-bd5e-4701-86b9-ea14262f1564",
        "colab": {
          "base_uri": "https://localhost:8080/"
        }
      },
      "execution_count": 69,
      "outputs": [
        {
          "output_type": "stream",
          "name": "stdout",
          "text": [
            "[INFO] 2024-04-04 14:34:57 - \n",
            "Similaridade de Jaccard entre os textos: 0.5714285714285714\n"
          ]
        }
      ]
    },
    {
      "cell_type": "markdown",
      "source": [
        "# Similaridade de Distância Euclidiana"
      ],
      "metadata": {
        "id": "X01Sbm4YFVnt"
      }
    },
    {
      "cell_type": "code",
      "source": [
        "from math import sqrt, pow, exp\n",
        "\n",
        "def distancia_euclidiana(a, b):\n",
        "  \"\"\"retorna a distância euclidiana entre duas listas\"\"\"\n",
        "  return sqrt(sum(pow(x - y, 2) for x, y in zip(a, b)))\n",
        "\n",
        "def distancia_para_similaridade(distancia):\n",
        "  return 1/exp(distancia)"
      ],
      "metadata": {
        "id": "xn6N1h5WEWWU"
      },
      "execution_count": 70,
      "outputs": []
    },
    {
      "cell_type": "code",
      "source": [
        "from sklearn.feature_extraction.text import CountVectorizer\n",
        "vetorizador = CountVectorizer(stop_words=None)\n",
        "frequencias = vetorizador.fit_transform(corpus)\n",
        "print(formata_msg(\"INFO\",f\"Features:\\n{vetorizador.get_feature_names_out()}\\n\"))\n",
        "print(formata_msg(\"INFO\",f\"Frequências:\\n{frequencias.toarray()}\"))"
      ],
      "metadata": {
        "id": "zal20oIVE4vl",
        "outputId": "5aba9e5a-d11f-4338-956c-9dbb654a53fc",
        "colab": {
          "base_uri": "https://localhost:8080/"
        }
      },
      "execution_count": 71,
      "outputs": [
        {
          "output_type": "stream",
          "name": "stdout",
          "text": [
            "[INFO] 2024-04-04 14:34:57 - Features:\n",
            "['comeu' 'comida' 'do' 'gato' 'rato']\n",
            "\n",
            "[INFO] 2024-04-04 14:34:57 - Frequências:\n",
            "[[1 0 0 1 1]\n",
            " [1 1 1 1 1]]\n"
          ]
        }
      ]
    },
    {
      "cell_type": "code",
      "source": [
        "distancia = distancia_euclidiana(frequencias.toarray()[0], frequencias.toarray()[1])\n",
        "print(formata_msg(\"INFO\",f\"\\nDistância Euclidiana: {distancia}\"))"
      ],
      "metadata": {
        "id": "y0gAfVscbbxj",
        "outputId": "38bd3212-7330-429d-8d02-051a069c8d7a",
        "colab": {
          "base_uri": "https://localhost:8080/"
        }
      },
      "execution_count": 72,
      "outputs": [
        {
          "output_type": "stream",
          "name": "stdout",
          "text": [
            "[INFO] 2024-04-04 14:34:57 - \n",
            "Distância Euclidiana: 1.4142135623730951\n"
          ]
        }
      ]
    },
    {
      "cell_type": "code",
      "source": [
        "similaridade = distancia_para_similaridade(distancia)\n",
        "print(formata_msg(\"INFO\",f\"\\nSimilaridade Euclidiana entre os textos: {similaridade}\"))"
      ],
      "metadata": {
        "id": "aJdwTa0paE3A",
        "outputId": "bbf597c3-e502-4078-dafb-0dc95a1d0e47",
        "colab": {
          "base_uri": "https://localhost:8080/"
        }
      },
      "execution_count": 73,
      "outputs": [
        {
          "output_type": "stream",
          "name": "stdout",
          "text": [
            "[INFO] 2024-04-04 14:34:57 - \n",
            "Similaridade Euclidiana entre os textos: 0.24311673443421422\n"
          ]
        }
      ]
    },
    {
      "cell_type": "markdown",
      "metadata": {
        "id": "JhDqvmbOU2ap"
      },
      "source": [
        "# Similaridade de Cosseno\n"
      ]
    },
    {
      "cell_type": "code",
      "metadata": {
        "id": "g_a4wIfkU2aq"
      },
      "source": [
        "def raiz_soma_quadrado(x):\n",
        "  \"\"\" Retorne o valor da raiz quadrada da soma de quadrados de cada elemento da lista\"\"\"\n",
        "\n",
        "  return round(sqrt(sum([a*a for a in x])),3)\n",
        "\n",
        "def similaridade_cosseno(a, b):\n",
        "  \"\"\"retorna a similaridade de cosseno entre duas listas.\"\"\"\n",
        "\n",
        "  numerador = sum(x*y for x, y in zip(a, b))\n",
        "  denominador = raiz_soma_quadrado(a) * raiz_soma_quadrado(b)\n",
        "  return numerador/float(denominador)"
      ],
      "execution_count": 74,
      "outputs": []
    },
    {
      "cell_type": "code",
      "source": [
        "similaridade = similaridade_cosseno(frequencias.toarray()[0], frequencias.toarray()[1])\n",
        "print(formata_msg(\"INFO\",f\"\\nSimilaridade de Cosseno: {similaridade}\"))"
      ],
      "metadata": {
        "id": "tNNVpzVGg0ai",
        "outputId": "b65ba8ad-6e44-4281-b58c-be0836dda11c",
        "colab": {
          "base_uri": "https://localhost:8080/"
        }
      },
      "execution_count": 75,
      "outputs": [
        {
          "output_type": "stream",
          "name": "stdout",
          "text": [
            "[INFO] 2024-04-04 14:34:57 - \n",
            "Similaridade de Cosseno: 0.7746429412469479\n"
          ]
        }
      ]
    }
  ]
}