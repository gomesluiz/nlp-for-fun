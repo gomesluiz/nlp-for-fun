{
  "nbformat": 4,
  "nbformat_minor": 0,
  "metadata": {
    "colab": {
      "provenance": [],
      "authorship_tag": "ABX9TyNRq/grp30dsV/rsws+szbj",
      "include_colab_link": true
    },
    "kernelspec": {
      "name": "python3",
      "display_name": "Python 3"
    },
    "language_info": {
      "name": "python"
    }
  },
  "cells": [
    {
      "cell_type": "markdown",
      "metadata": {
        "id": "view-in-github",
        "colab_type": "text"
      },
      "source": [
        "<a href=\"https://colab.research.google.com/github/gomesluiz/pln-na-pratica/blob/main/01-aquisicao-dados-bases-publicas.ipynb\" target=\"_parent\"><img src=\"https://colab.research.google.com/assets/colab-badge.svg\" alt=\"Open In Colab\"/></a>"
      ]
    },
    {
      "cell_type": "markdown",
      "source": [
        "# **Aquisição de dados de bases públicas**"
      ],
      "metadata": {
        "id": "R3tUTgb_kpwv"
      }
    },
    {
      "cell_type": "code",
      "source": [
        "# Instalação dos pacotes necessários.\n",
        "!pip install requests kaggle"
      ],
      "metadata": {
        "id": "NB3Mmh26EKbn",
        "colab": {
          "base_uri": "https://localhost:8080/"
        },
        "outputId": "bd0b7124-2968-458f-8ea2-b7817db662ba"
      },
      "execution_count": 1,
      "outputs": [
        {
          "output_type": "stream",
          "name": "stdout",
          "text": [
            "Requirement already satisfied: requests in /usr/local/lib/python3.10/dist-packages (2.31.0)\n",
            "Requirement already satisfied: kaggle in /usr/local/lib/python3.10/dist-packages (1.5.16)\n",
            "Requirement already satisfied: charset-normalizer<4,>=2 in /usr/local/lib/python3.10/dist-packages (from requests) (3.3.2)\n",
            "Requirement already satisfied: idna<4,>=2.5 in /usr/local/lib/python3.10/dist-packages (from requests) (3.6)\n",
            "Requirement already satisfied: urllib3<3,>=1.21.1 in /usr/local/lib/python3.10/dist-packages (from requests) (2.0.7)\n",
            "Requirement already satisfied: certifi>=2017.4.17 in /usr/local/lib/python3.10/dist-packages (from requests) (2023.11.17)\n",
            "Requirement already satisfied: six>=1.10 in /usr/local/lib/python3.10/dist-packages (from kaggle) (1.16.0)\n",
            "Requirement already satisfied: python-dateutil in /usr/local/lib/python3.10/dist-packages (from kaggle) (2.8.2)\n",
            "Requirement already satisfied: tqdm in /usr/local/lib/python3.10/dist-packages (from kaggle) (4.66.1)\n",
            "Requirement already satisfied: python-slugify in /usr/local/lib/python3.10/dist-packages (from kaggle) (8.0.3)\n",
            "Requirement already satisfied: bleach in /usr/local/lib/python3.10/dist-packages (from kaggle) (6.1.0)\n",
            "Requirement already satisfied: webencodings in /usr/local/lib/python3.10/dist-packages (from bleach->kaggle) (0.5.1)\n",
            "Requirement already satisfied: text-unidecode>=1.3 in /usr/local/lib/python3.10/dist-packages (from python-slugify->kaggle) (1.3)\n"
          ]
        }
      ]
    },
    {
      "cell_type": "code",
      "source": [
        "# Importação de pacotes básicos para a execução deste notebook.\n",
        "import os\n",
        "import tarfile\n",
        "\n",
        "import requests\n",
        "print(\"Pacotes importados com sucesso.\")"
      ],
      "metadata": {
        "id": "8ueIJQz8n-h6",
        "colab": {
          "base_uri": "https://localhost:8080/"
        },
        "outputId": "560f0a4e-df00-4b2a-8a33-08adcdc2a26e"
      },
      "execution_count": 2,
      "outputs": [
        {
          "output_type": "stream",
          "name": "stdout",
          "text": [
            "Pacotes importados com sucesso.\n"
          ]
        }
      ]
    },
    {
      "cell_type": "code",
      "source": [
        "# Define o diretório local para armazenar as bases de dados públicas coletadas.\n",
        "corpora_caminho = \"corpora\"\n",
        "\n",
        "# Verifica se o diretório especificado já existe no ambiente do Colab.\n",
        "if not os.path.exists(corpora_caminho):\n",
        "  # Caso o diretório não exista, cria um novo diretório com o nome 'corpora'.\n",
        "  # Isso é útil para organizar os arquivos de dados baixados ou gerados.\n",
        "  os.mkdir(corpora_caminho)\n",
        "\n",
        "print(f\"Diretório {corpora_caminho} criado com sucesso.\")\n"
      ],
      "metadata": {
        "id": "Ld0Thaj9nqzn",
        "colab": {
          "base_uri": "https://localhost:8080/"
        },
        "outputId": "0ea48c58-cb91-43c4-c911-562d82add15d"
      },
      "execution_count": 3,
      "outputs": [
        {
          "output_type": "stream",
          "name": "stdout",
          "text": [
            "Diretório corpora criado com sucesso.\n"
          ]
        }
      ]
    },
    {
      "cell_type": "markdown",
      "source": [
        "## 1. Bases de dados públicas"
      ],
      "metadata": {
        "id": "pzFkGfrRd65P"
      }
    },
    {
      "cell_type": "markdown",
      "source": [
        "## Avaliação de produtos das americanas.com"
      ],
      "metadata": {
        "id": "q6aSu0KT4paP"
      }
    },
    {
      "cell_type": "markdown",
      "source": [
        "O B2W-Reviews01 representa uma rica coleção de avaliações de produtos disponibilizadas pela Americanas.com. Este conjunto aberto abrange mais de 130 mil opiniões de usuários do e-commerce, registradas de janeiro a maio de 2018. Além das valiosas percepções sobre os produtos, o B2W-Reviews01 destaca-se por oferecer detalhes sobre os consumidores que as escreveram, englobando informações como gênero, faixa etária e localização, tornando-o um recurso inestimável para análises de comportamento de compra e tendências de mercado."
      ],
      "metadata": {
        "id": "c0tgNZXdnG07"
      }
    },
    {
      "cell_type": "code",
      "execution_count": 4,
      "metadata": {
        "id": "mVXqB01uDacX"
      },
      "outputs": [],
      "source": [
        "# Define a URL da base pública armazenada no Github.\n",
        "url = \"https://raw.githubusercontent.com/americanas-tech/b2w-reviews01/main/B2W-Reviews01.csv\""
      ]
    },
    {
      "cell_type": "code",
      "source": [
        "# Configuração do arquivo para armazenamento da base de dados.\n",
        "americanas_arquivo = \"americanas-comentarios.csv\"\n",
        "\n",
        "# O método os.path.join cria o caminho completo para o arquivo, combinando\n",
        "# 'corpora_caminho' com o nome do arquivo 'b2w_arquivo'.\n",
        "americanas_caminho = os.path.join(corpora_caminho, americanas_arquivo)\n",
        "\n",
        "# Define o formato do arquivo. Necessário para arquivos textos\n",
        "# armazenados no raw.githubusercontent.com.\n",
        "parametros = {\"downloadformat\": \"csv\"}\n",
        "\n",
        "# Executa o download do arquivo especificado na URL com os parâmetros\n",
        "# especificados\n",
        "resposta = requests.get(url, params=parametros)\n",
        "if resposta.status_code == 200:\n",
        "  # Se o status for igual a 200 (sucesso), grava o arquivo no caminho\n",
        "  # especificado\n",
        "  with open(americanas_caminho, \"wb\") as f:\n",
        "    f.write(resposta.content)\n",
        "  print(f\"Download do {americanas_arquivo} foi concluído com sucesso!\")\n",
        "else:\n",
        "   print(f\"Falha no download do arquivo {americanas_arquivo}:\", resposta.status_code)\n"
      ],
      "metadata": {
        "id": "woasdVNlm_gU",
        "colab": {
          "base_uri": "https://localhost:8080/"
        },
        "outputId": "9569dabc-4473-4962-9424-bf8f0bc6a275"
      },
      "execution_count": 5,
      "outputs": [
        {
          "output_type": "stream",
          "name": "stdout",
          "text": [
            "Download do americanas-comentarios.csv foi concluído com sucesso!\n"
          ]
        }
      ]
    },
    {
      "cell_type": "code",
      "source": [
        "# O comando head do linux mostra as cinco primeiras linhas do arquivo gravado.\n",
        "!head -n 5 {americanas_caminho}"
      ],
      "metadata": {
        "id": "57kIS4iOsTM1",
        "colab": {
          "base_uri": "https://localhost:8080/"
        },
        "outputId": "5f38f137-8005-478d-8209-000fde032250"
      },
      "execution_count": 6,
      "outputs": [
        {
          "output_type": "stream",
          "name": "stdout",
          "text": [
            "submission_date,reviewer_id,product_id,product_name,product_brand,site_category_lv1,site_category_lv2,review_title,overall_rating,recommend_to_a_friend,review_text,reviewer_birth_year,reviewer_gender,reviewer_state\n",
            "2018-01-01 00:11:28,d0fb1ca69422530334178f5c8624aa7a99da47907c44de0243719b15d50623ce,132532965,\"Notebook Asus Vivobook Max X541NA-GO472T Intel Celeron Quad Core 4GB 500GB Tela LED 15,6\"\" Windows - 10 Branco\",,Informática,Notebook,Bom,4,Yes,Estou contente com a compra entrega rápida o único problema com as Americanas é se houver troca ou devolução do produto o consumidor tem problemas com espera.,1958.0,F,RJ\n",
            "2018-01-01 00:13:48,014d6dc5a10aed1ff1e6f349fb2b059a2d3de511c7538a9008da562ead5f5ecd,22562178,Copo Acrílico Com Canudo 500ml Rocie,,Utilidades Domésticas,\"Copos, Taças e Canecas\",\"Preço imbatível, ótima qualidade\",4,Yes,\"Por apenas R$1994.20,eu consegui comprar esse lindo copo de acrílico.\",1996.0,M,SC\n",
            "2018-01-01 00:26:02,44f2c8edd93471926fff601274b8b2b5c4824e386ae4f210329b9b71890277fd,113022329,Panela de Pressão Elétrica Philips Walita Daily 5L com Timer,philips walita,Eletroportáteis,Panela Elétrica,ATENDE TODAS AS EXPECTATIVA.,4,Yes,\"SUPERA EM AGILIDADE E PRATICIDADE OUTRAS PANELAS ELÉTRICAS.  COSTUMO USAR OUTRA PANELA PARA COZIMENTO DE ARROZ (JAPONESA), MAS LEVA MUITO TEMPO,  +/- 50 MINUTOS.  NESSA PANELA  É MUITO MAIS RÁPIDO, EXATAMENTE 6 MINUTOS.    EU RECOMENDO.\",1984.0,M,SP\n",
            "2018-01-01 00:35:54,ce741665c1764ab2d77539e18d0e4f66dde6213c9f0863f165ffedb1e8147984,113851581,Betoneira Columbus - Roma Brinquedos,roma jensen,Brinquedos,Veículos de Brinquedo,presente mais que desejado,4,Yes,MEU FILHO AMOU! PARECE DE VERDADE COM TANTOS DETALHES QUE TÊM!,1985.0,F,SP\n"
          ]
        }
      ]
    },
    {
      "cell_type": "markdown",
      "source": [],
      "metadata": {
        "id": "sC7F4AFmJqXl"
      }
    },
    {
      "cell_type": "markdown",
      "source": [
        "## Revista Fapesp\n",
        "\n",
        "Este conjunto de dados inclui coleções em duas línguas: português para inglês e português para espanhol, provenientes das edições digitais da renomada revista científica brasileira REVISTA PESQUISA FAPESP. O que chama atenção é a forma de armazenamento dessas informações: um arquivo .tar.gz. Esse método de compactação é bastante popular em sistemas operacionais Linux, conhecido por sua eficiência na redução de tamanho de arquivos, mantendo a integridade dos dados.\n"
      ],
      "metadata": {
        "id": "GESEMBtz2LOD"
      }
    },
    {
      "cell_type": "markdown",
      "source": [],
      "metadata": {
        "id": "doC1hEFsUrgs"
      }
    },
    {
      "cell_type": "code",
      "source": [
        "# Define a URL da base de dados pública hospedada no GitHub, apontando para o\n",
        "# arquivo 'fapesp-corpora.tar.gz' disponível no repositório do NILC.\n",
        "url = \"http://www.nilc.icmc.usp.br/nilc/tools/fapesp-corpora.tar.gz\""
      ],
      "metadata": {
        "id": "53XQJi7SJtp2"
      },
      "execution_count": 8,
      "outputs": []
    },
    {
      "cell_type": "code",
      "source": [
        "# Define o nome do arquivo para a base de dados da FAPESP e o caminho completo\n",
        "# onde o arquivo será salvo.\n",
        "fapesp_arquivo = \"fapesp-corpora.tar.gz\"\n",
        "fapesp_caminho = os.path.join(corpora_caminho, fapesp_arquivo)\n",
        "\n",
        "# Inicia o processo de download do arquivo da base de dados da FAPESP.\n",
        "# A requisição GET é feita para a URL fornecida, com o parâmetro 'stream=True'\n",
        "# para permitir o download de grandes arquivos de forma eficiente.\n",
        "resposta = requests.get(url, stream=True)\n",
        "\n",
        "# Verifica se a requisição foi bem-sucedida (código de status HTTP 200).\n",
        "if resposta.status_code == 200:\n",
        "  # Abre o arquivo no caminho especificado em modo de escrita binária ('wb')\n",
        "  # para salvar os dados baixados.\n",
        "  with open(fapesp_caminho, \"wb\") as f:\n",
        "      for fragmento in resposta.raw.stream(2048):\n",
        "            f.write(fragmento)\n",
        "  print('Download concluído com sucesso!')\n",
        "else:\n",
        "  print('Falha no download:', resposta.status_code)\n"
      ],
      "metadata": {
        "id": "tuI6JsiqWZQj",
        "colab": {
          "base_uri": "https://localhost:8080/"
        },
        "outputId": "535f62e6-d712-4874-88de-b430c98edfc1"
      },
      "execution_count": 9,
      "outputs": [
        {
          "output_type": "stream",
          "name": "stdout",
          "text": [
            "Download concluído com sucesso!\n"
          ]
        }
      ]
    },
    {
      "cell_type": "code",
      "source": [
        "# Abre o arquivo tar.gz especificado pelo caminho 'fapesp_caminho' no modo de\n",
        "# leitura.\n",
        "with tarfile.open(fapesp_caminho, \"r:gz\") as tar:\n",
        "  # Extrai todo o conteúdo do arquivo tar.gz para o diretório especificado\n",
        "  # em 'corpora_path'.\n",
        "  tar.extractall(path=corpora_caminho)\n",
        "\n",
        "print(f\"Arquivo {fapesp_caminho} descompactado com sucesso!\")"
      ],
      "metadata": {
        "id": "vYa0uaiDX07m",
        "colab": {
          "base_uri": "https://localhost:8080/"
        },
        "outputId": "cf9daa82-6395-4a9e-c4f9-f0943e2b84ea"
      },
      "execution_count": 10,
      "outputs": [
        {
          "output_type": "stream",
          "name": "stdout",
          "text": [
            "Arquivo corpora/fapesp-corpora.tar.gz descompactado com sucesso!\n"
          ]
        }
      ]
    },
    {
      "cell_type": "code",
      "source": [
        "# Divide o nome do arquivo \"fapesp-corpora.tar.gz\" pelo ponto e pega a primeira parte\n",
        "fapesp_dir = fapesp_arquivo.split(\".\")[0]\n",
        "fapesp_dir_caminho = os.path.join(corpora_caminho, fapesp_dir)\n",
        "\n",
        "# O comando 'ls' do shell lista o conteúdo do diretório apontado\n",
        "# por 'fapesp_caminho'.\n",
        "!ls {fapesp_dir_caminho}"
      ],
      "metadata": {
        "id": "SeJ4dT34kpcM",
        "colab": {
          "base_uri": "https://localhost:8080/"
        },
        "outputId": "8fa3ddba-2bcd-4ead-d260-d06b128f5dca"
      },
      "execution_count": 11,
      "outputs": [
        {
          "output_type": "stream",
          "name": "stdout",
          "text": [
            "corpora  doc  README  README.html\n"
          ]
        }
      ]
    },
    {
      "cell_type": "markdown",
      "source": [
        "## Kaggle\n",
        "\n",
        "O Kaggle é uma plataforma online para competições de ciência de dados e aprendizado de máquina. Atualmente, essa plataforma disponibiliza mais de 601 conjuntos de dados relacionados ao processamento de linguagem natural. A maneira mais fácil de baixar essas bases é usando a sua API. Primeiro, é preciso criar um arquivo JSON com o token de acesso à API, seguindo as instruções neste [Link](https://scribehow.com/embed-preview/Create_a_New_Token_on_Kaggle__E160LnfsTU-n7vmkbVxang)."
      ],
      "metadata": {
        "id": "wdzl-vgzbUMH"
      }
    },
    {
      "cell_type": "code",
      "source": [
        "# Importa a função de upload de arquivos do Google Colab\n",
        "from google.colab import files\n",
        "\n",
        "# Abre uma interface para você selecionar e fazer upload\n",
        "# de arquivos para o Colab\n",
        "files.upload()"
      ],
      "metadata": {
        "id": "OKhS_jUeeO0i"
      },
      "execution_count": null,
      "outputs": []
    },
    {
      "cell_type": "code",
      "source": [
        "# Cria um novo diretório chamado '.kaggle' na pasta home do usuário atual\n",
        "!mkdir ~/.kaggle"
      ],
      "metadata": {
        "id": "wgDeXUTdfYI9"
      },
      "execution_count": null,
      "outputs": []
    },
    {
      "cell_type": "code",
      "source": [
        "# Copia o arquivo 'kaggle.json' para o diretório '.kaggle'\n",
        "# Este arquivo contém sua chave de API do Kaggle, necessária para acessar os datasets\n",
        "!cp kaggle.json ~/.kaggle/\n",
        "\n",
        "# Define as permissões do arquivo 'kaggle.json' para leitura pelo usuário\n",
        "# É necessário para manter sua chave de API segura\n",
        "!chmod 600 ~/.kaggle/kaggle.json"
      ],
      "metadata": {
        "id": "5OTiilVcfwNG"
      },
      "execution_count": null,
      "outputs": []
    },
    {
      "cell_type": "code",
      "source": [
        "# Lista os datasets disponíveis no Kaggle que contêm a palavra 'commonlit'\n",
        "!kaggle datasets list -s commonlit"
      ],
      "metadata": {
        "id": "C6eMgM4wf9DY"
      },
      "execution_count": null,
      "outputs": []
    },
    {
      "cell_type": "code",
      "source": [
        "# Exibe os arquivos disponíveis no dataset 'commonlit-texts' de 'kononenko'\n",
        "!kaggle datasets files kononenko/commonlit-texts"
      ],
      "metadata": {
        "id": "cbYDWeH_gh9d"
      },
      "execution_count": null,
      "outputs": []
    },
    {
      "cell_type": "code",
      "source": [
        "# Baixa o dataset 'commonlit-texts' de 'kononenko' do Kaggle\n",
        "!kaggle datasets download kononenko/commonlit-texts"
      ],
      "metadata": {
        "id": "orJAucXqePxH"
      },
      "execution_count": null,
      "outputs": []
    },
    {
      "cell_type": "code",
      "source": [
        "# Extrai os arquivos do zip 'commonlit-texts.zip' para a pasta 'corpora'\n",
        "!unzip commonlit-texts.zip -d corpora"
      ],
      "metadata": {
        "id": "VurQl7SvjdMO"
      },
      "execution_count": null,
      "outputs": []
    },
    {
      "cell_type": "code",
      "source": [
        "# Exibe as primeiras linhas do arquivo 'commonlit_texts.csv'\n",
        "!head -n5 corpora/commonlit_texts.csv"
      ],
      "metadata": {
        "id": "lWdkRvzFkEo8"
      },
      "execution_count": null,
      "outputs": []
    }
  ]
}