{
  "nbformat": 4,
  "nbformat_minor": 0,
  "metadata": {
    "colab": {
      "provenance": [],
      "authorship_tag": "ABX9TyMwhbVI5XMdW4LqKuuMYmQo",
      "include_colab_link": true
    },
    "kernelspec": {
      "name": "python3",
      "display_name": "Python 3"
    },
    "language_info": {
      "name": "python"
    }
  },
  "cells": [
    {
      "cell_type": "markdown",
      "metadata": {
        "id": "view-in-github",
        "colab_type": "text"
      },
      "source": [
        "<a href=\"https://colab.research.google.com/github/gomesluiz/pln-na-pratica/blob/main/01-aquisicao-de-dados.ipynb\" target=\"_parent\"><img src=\"https://colab.research.google.com/assets/colab-badge.svg\" alt=\"Open In Colab\"/></a>"
      ]
    },
    {
      "cell_type": "markdown",
      "source": [
        "# **Aquisição de dados**"
      ],
      "metadata": {
        "id": "R3tUTgb_kpwv"
      }
    },
    {
      "cell_type": "code",
      "source": [
        "# Instalação dos pacotes necessários.\n",
        "!pip install pandas requests kaggle"
      ],
      "metadata": {
        "id": "NB3Mmh26EKbn",
        "outputId": "e1339bc7-bbe1-4aa3-b0f5-51347f0ce895",
        "colab": {
          "base_uri": "https://localhost:8080/"
        }
      },
      "execution_count": 78,
      "outputs": [
        {
          "output_type": "stream",
          "name": "stdout",
          "text": [
            "Requirement already satisfied: requests in /usr/local/lib/python3.10/dist-packages (2.31.0)\n",
            "Requirement already satisfied: kaggle in /usr/local/lib/python3.10/dist-packages (1.5.16)\n",
            "Requirement already satisfied: charset-normalizer<4,>=2 in /usr/local/lib/python3.10/dist-packages (from requests) (3.3.2)\n",
            "Requirement already satisfied: idna<4,>=2.5 in /usr/local/lib/python3.10/dist-packages (from requests) (3.6)\n",
            "Requirement already satisfied: urllib3<3,>=1.21.1 in /usr/local/lib/python3.10/dist-packages (from requests) (2.0.7)\n",
            "Requirement already satisfied: certifi>=2017.4.17 in /usr/local/lib/python3.10/dist-packages (from requests) (2023.11.17)\n",
            "Requirement already satisfied: six>=1.10 in /usr/local/lib/python3.10/dist-packages (from kaggle) (1.16.0)\n",
            "Requirement already satisfied: python-dateutil in /usr/local/lib/python3.10/dist-packages (from kaggle) (2.8.2)\n",
            "Requirement already satisfied: tqdm in /usr/local/lib/python3.10/dist-packages (from kaggle) (4.66.1)\n",
            "Requirement already satisfied: python-slugify in /usr/local/lib/python3.10/dist-packages (from kaggle) (8.0.1)\n",
            "Requirement already satisfied: bleach in /usr/local/lib/python3.10/dist-packages (from kaggle) (6.1.0)\n",
            "Requirement already satisfied: webencodings in /usr/local/lib/python3.10/dist-packages (from bleach->kaggle) (0.5.1)\n",
            "Requirement already satisfied: text-unidecode>=1.3 in /usr/local/lib/python3.10/dist-packages (from python-slugify->kaggle) (1.3)\n"
          ]
        }
      ]
    },
    {
      "cell_type": "code",
      "source": [
        "# Importa os pacotes necessários para execução do código\n",
        "# deste notebook.\n",
        "import kaggle, os, requests, pandas, tarfile\n",
        "from google.colab import files\n",
        "print(\"Pacotes importados.\")"
      ],
      "metadata": {
        "id": "8ueIJQz8n-h6",
        "outputId": "09b73049-30c5-4cf5-cce1-7c0e1f8ce7d0",
        "colab": {
          "base_uri": "https://localhost:8080/"
        }
      },
      "execution_count": 136,
      "outputs": [
        {
          "output_type": "stream",
          "name": "stdout",
          "text": [
            "Pacotes importados.\n"
          ]
        }
      ]
    },
    {
      "cell_type": "code",
      "source": [
        "# Define o diretório para o corpora com as bases públicas coletadas.\n",
        "corpora_path=\"./corpora\"\n",
        "\n",
        "if not os.path.exists(corpora_path):\n",
        "  # cria o diretório para o corpora, se ele ainda não foi criado.\n",
        "  os.mkdir(corpora_path)\n",
        "\n",
        "print(\"Caminho do corpora criado.\")"
      ],
      "metadata": {
        "id": "Ld0Thaj9nqzn",
        "outputId": "7f999a08-5c74-491b-a73f-11bc19c48c63",
        "colab": {
          "base_uri": "https://localhost:8080/"
        }
      },
      "execution_count": 137,
      "outputs": [
        {
          "output_type": "stream",
          "name": "stdout",
          "text": [
            "Caminho do corpora criado.\n"
          ]
        }
      ]
    },
    {
      "cell_type": "markdown",
      "source": [
        "## 1. Bases públicas"
      ],
      "metadata": {
        "id": "pzFkGfrRd65P"
      }
    },
    {
      "cell_type": "markdown",
      "source": [
        "## Avaliação de produtos das americanas.com"
      ],
      "metadata": {
        "id": "q6aSu0KT4paP"
      }
    },
    {
      "cell_type": "markdown",
      "source": [
        "O B2W-Reviews01 é um corpus aberto de revisões de produtos das americans.com. Ele contém mais de 130 mil avaliações de clientes de comércio eletrônico, coletadas no site da Americanas.com 3 entre janeiro e maio de 2018. O B2W-Reviews01 oferece informações valiosas sobre o perfil do avaliador, como sexo, idade e localização geográfica."
      ],
      "metadata": {
        "id": "c0tgNZXdnG07"
      }
    },
    {
      "cell_type": "code",
      "execution_count": 133,
      "metadata": {
        "id": "mVXqB01uDacX"
      },
      "outputs": [],
      "source": [
        "url = \"https://raw.githubusercontent.com/americanas-tech/b2w-reviews01/main/B2W-Reviews01.csv\""
      ]
    },
    {
      "cell_type": "code",
      "source": [
        "b2w_arquivo = \"b2w-reviews.csv\"\n",
        "b2w_caminho = os.path.join(corpora_path, b2w_arquivo)\n",
        "query_parameters = {\"downloadformat\": \"csv\"}\n",
        "\n",
        "\n",
        "resposta = requests.get(url, params=query_parameters)\n",
        "if resposta.status_code == 200:\n",
        "  with open(b2w_caminho, \"wb\") as f:\n",
        "    f.write(resposta.content)\n",
        "  print(f\"Download do {b2w_arquivo} concluído com sucesso!\")\n",
        "else:\n",
        "   print(f\"Falha no download do arquivo {b2w_arquivo}:\", resposta.status_code)\n"
      ],
      "metadata": {
        "id": "woasdVNlm_gU",
        "outputId": "82f311e5-953f-45df-e68d-d8947178788a",
        "colab": {
          "base_uri": "https://localhost:8080/"
        }
      },
      "execution_count": 134,
      "outputs": [
        {
          "output_type": "stream",
          "name": "stdout",
          "text": [
            "Download do b2w-reviews.csv concluído com sucesso!\n"
          ]
        }
      ]
    },
    {
      "cell_type": "code",
      "source": [
        "!head -n 5 {b2w_caminho}"
      ],
      "metadata": {
        "id": "57kIS4iOsTM1",
        "outputId": "91570348-aa79-497d-e43b-6792cd964f0d",
        "colab": {
          "base_uri": "https://localhost:8080/"
        }
      },
      "execution_count": 135,
      "outputs": [
        {
          "output_type": "stream",
          "name": "stdout",
          "text": [
            "submission_date,reviewer_id,product_id,product_name,product_brand,site_category_lv1,site_category_lv2,review_title,overall_rating,recommend_to_a_friend,review_text,reviewer_birth_year,reviewer_gender,reviewer_state\n",
            "2018-01-01 00:11:28,d0fb1ca69422530334178f5c8624aa7a99da47907c44de0243719b15d50623ce,132532965,\"Notebook Asus Vivobook Max X541NA-GO472T Intel Celeron Quad Core 4GB 500GB Tela LED 15,6\"\" Windows - 10 Branco\",,Informática,Notebook,Bom,4,Yes,Estou contente com a compra entrega rápida o único problema com as Americanas é se houver troca ou devolução do produto o consumidor tem problemas com espera.,1958.0,F,RJ\n",
            "2018-01-01 00:13:48,014d6dc5a10aed1ff1e6f349fb2b059a2d3de511c7538a9008da562ead5f5ecd,22562178,Copo Acrílico Com Canudo 500ml Rocie,,Utilidades Domésticas,\"Copos, Taças e Canecas\",\"Preço imbatível, ótima qualidade\",4,Yes,\"Por apenas R$1994.20,eu consegui comprar esse lindo copo de acrílico.\",1996.0,M,SC\n",
            "2018-01-01 00:26:02,44f2c8edd93471926fff601274b8b2b5c4824e386ae4f210329b9b71890277fd,113022329,Panela de Pressão Elétrica Philips Walita Daily 5L com Timer,philips walita,Eletroportáteis,Panela Elétrica,ATENDE TODAS AS EXPECTATIVA.,4,Yes,\"SUPERA EM AGILIDADE E PRATICIDADE OUTRAS PANELAS ELÉTRICAS.  COSTUMO USAR OUTRA PANELA PARA COZIMENTO DE ARROZ (JAPONESA), MAS LEVA MUITO TEMPO,  +/- 50 MINUTOS.  NESSA PANELA  É MUITO MAIS RÁPIDO, EXATAMENTE 6 MINUTOS.    EU RECOMENDO.\",1984.0,M,SP\n",
            "2018-01-01 00:35:54,ce741665c1764ab2d77539e18d0e4f66dde6213c9f0863f165ffedb1e8147984,113851581,Betoneira Columbus - Roma Brinquedos,roma jensen,Brinquedos,Veículos de Brinquedo,presente mais que desejado,4,Yes,MEU FILHO AMOU! PARECE DE VERDADE COM TANTOS DETALHES QUE TÊM!,1985.0,F,SP\n"
          ]
        }
      ]
    },
    {
      "cell_type": "markdown",
      "source": [],
      "metadata": {
        "id": "sC7F4AFmJqXl"
      }
    },
    {
      "cell_type": "markdown",
      "source": [
        "## REVISTA FAPESP\n"
      ],
      "metadata": {
        "id": "GESEMBtz2LOD"
      }
    },
    {
      "cell_type": "markdown",
      "source": [
        "Estes corpora são as coleções bilíngues português-inglês e português-espanhol das edições online da revista científica brasileira REVISTA PESQUISA FAPESP."
      ],
      "metadata": {
        "id": "yGPe4WRp19Uz"
      }
    },
    {
      "cell_type": "code",
      "source": [
        "url=\"http://www.nilc.icmc.usp.br/nilc/tools/fapesp-corpora.tar.gz\""
      ],
      "metadata": {
        "id": "53XQJi7SJtp2"
      },
      "execution_count": 129,
      "outputs": []
    },
    {
      "cell_type": "code",
      "source": [
        "fapesp_arquivo = \"fapesp-corpora.tar.gz\"\n",
        "fapesp_caminho = os.path.join(corpora_path, fapesp_arquivo)\n",
        "\n",
        "resposta = requests.get(url, stream=True)\n",
        "if resposta.status_code == 200:\n",
        "  with open(fapesp_caminho, \"wb\") as f:\n",
        "    f.write(resposta.raw.read())\n",
        "  print('Download concluído com sucesso!')\n",
        "else:\n",
        "  print('Falha no download:', resposta.status_code)"
      ],
      "metadata": {
        "id": "tuI6JsiqWZQj",
        "outputId": "cebf9fbf-b2d7-40cc-8b42-fda002deabfb",
        "colab": {
          "base_uri": "https://localhost:8080/"
        }
      },
      "execution_count": 130,
      "outputs": [
        {
          "output_type": "stream",
          "name": "stdout",
          "text": [
            "Download concluído com sucesso!\n"
          ]
        }
      ]
    },
    {
      "cell_type": "code",
      "source": [
        "with tarfile.open(fapesp_caminho, \"r:gz\") as tar:\n",
        "  tar.extractall(path=corpora_path)"
      ],
      "metadata": {
        "id": "vYa0uaiDX07m"
      },
      "execution_count": 125,
      "outputs": []
    },
    {
      "cell_type": "code",
      "source": [],
      "metadata": {
        "id": "wdzl-vgzbUMH"
      },
      "execution_count": 42,
      "outputs": []
    },
    {
      "cell_type": "code",
      "source": [
        "files.upload()"
      ],
      "metadata": {
        "id": "OKhS_jUeeO0i",
        "outputId": "34efec32-8dcc-4034-b7af-498ddcdbe00f",
        "colab": {
          "base_uri": "https://localhost:8080/",
          "height": 90
        }
      },
      "execution_count": 44,
      "outputs": [
        {
          "output_type": "display_data",
          "data": {
            "text/plain": [
              "<IPython.core.display.HTML object>"
            ],
            "text/html": [
              "\n",
              "     <input type=\"file\" id=\"files-0481af2c-da37-4424-bfbb-dbe7477caf52\" name=\"files[]\" multiple disabled\n",
              "        style=\"border:none\" />\n",
              "     <output id=\"result-0481af2c-da37-4424-bfbb-dbe7477caf52\">\n",
              "      Upload widget is only available when the cell has been executed in the\n",
              "      current browser session. Please rerun this cell to enable.\n",
              "      </output>\n",
              "      <script>// Copyright 2017 Google LLC\n",
              "//\n",
              "// Licensed under the Apache License, Version 2.0 (the \"License\");\n",
              "// you may not use this file except in compliance with the License.\n",
              "// You may obtain a copy of the License at\n",
              "//\n",
              "//      http://www.apache.org/licenses/LICENSE-2.0\n",
              "//\n",
              "// Unless required by applicable law or agreed to in writing, software\n",
              "// distributed under the License is distributed on an \"AS IS\" BASIS,\n",
              "// WITHOUT WARRANTIES OR CONDITIONS OF ANY KIND, either express or implied.\n",
              "// See the License for the specific language governing permissions and\n",
              "// limitations under the License.\n",
              "\n",
              "/**\n",
              " * @fileoverview Helpers for google.colab Python module.\n",
              " */\n",
              "(function(scope) {\n",
              "function span(text, styleAttributes = {}) {\n",
              "  const element = document.createElement('span');\n",
              "  element.textContent = text;\n",
              "  for (const key of Object.keys(styleAttributes)) {\n",
              "    element.style[key] = styleAttributes[key];\n",
              "  }\n",
              "  return element;\n",
              "}\n",
              "\n",
              "// Max number of bytes which will be uploaded at a time.\n",
              "const MAX_PAYLOAD_SIZE = 100 * 1024;\n",
              "\n",
              "function _uploadFiles(inputId, outputId) {\n",
              "  const steps = uploadFilesStep(inputId, outputId);\n",
              "  const outputElement = document.getElementById(outputId);\n",
              "  // Cache steps on the outputElement to make it available for the next call\n",
              "  // to uploadFilesContinue from Python.\n",
              "  outputElement.steps = steps;\n",
              "\n",
              "  return _uploadFilesContinue(outputId);\n",
              "}\n",
              "\n",
              "// This is roughly an async generator (not supported in the browser yet),\n",
              "// where there are multiple asynchronous steps and the Python side is going\n",
              "// to poll for completion of each step.\n",
              "// This uses a Promise to block the python side on completion of each step,\n",
              "// then passes the result of the previous step as the input to the next step.\n",
              "function _uploadFilesContinue(outputId) {\n",
              "  const outputElement = document.getElementById(outputId);\n",
              "  const steps = outputElement.steps;\n",
              "\n",
              "  const next = steps.next(outputElement.lastPromiseValue);\n",
              "  return Promise.resolve(next.value.promise).then((value) => {\n",
              "    // Cache the last promise value to make it available to the next\n",
              "    // step of the generator.\n",
              "    outputElement.lastPromiseValue = value;\n",
              "    return next.value.response;\n",
              "  });\n",
              "}\n",
              "\n",
              "/**\n",
              " * Generator function which is called between each async step of the upload\n",
              " * process.\n",
              " * @param {string} inputId Element ID of the input file picker element.\n",
              " * @param {string} outputId Element ID of the output display.\n",
              " * @return {!Iterable<!Object>} Iterable of next steps.\n",
              " */\n",
              "function* uploadFilesStep(inputId, outputId) {\n",
              "  const inputElement = document.getElementById(inputId);\n",
              "  inputElement.disabled = false;\n",
              "\n",
              "  const outputElement = document.getElementById(outputId);\n",
              "  outputElement.innerHTML = '';\n",
              "\n",
              "  const pickedPromise = new Promise((resolve) => {\n",
              "    inputElement.addEventListener('change', (e) => {\n",
              "      resolve(e.target.files);\n",
              "    });\n",
              "  });\n",
              "\n",
              "  const cancel = document.createElement('button');\n",
              "  inputElement.parentElement.appendChild(cancel);\n",
              "  cancel.textContent = 'Cancel upload';\n",
              "  const cancelPromise = new Promise((resolve) => {\n",
              "    cancel.onclick = () => {\n",
              "      resolve(null);\n",
              "    };\n",
              "  });\n",
              "\n",
              "  // Wait for the user to pick the files.\n",
              "  const files = yield {\n",
              "    promise: Promise.race([pickedPromise, cancelPromise]),\n",
              "    response: {\n",
              "      action: 'starting',\n",
              "    }\n",
              "  };\n",
              "\n",
              "  cancel.remove();\n",
              "\n",
              "  // Disable the input element since further picks are not allowed.\n",
              "  inputElement.disabled = true;\n",
              "\n",
              "  if (!files) {\n",
              "    return {\n",
              "      response: {\n",
              "        action: 'complete',\n",
              "      }\n",
              "    };\n",
              "  }\n",
              "\n",
              "  for (const file of files) {\n",
              "    const li = document.createElement('li');\n",
              "    li.append(span(file.name, {fontWeight: 'bold'}));\n",
              "    li.append(span(\n",
              "        `(${file.type || 'n/a'}) - ${file.size} bytes, ` +\n",
              "        `last modified: ${\n",
              "            file.lastModifiedDate ? file.lastModifiedDate.toLocaleDateString() :\n",
              "                                    'n/a'} - `));\n",
              "    const percent = span('0% done');\n",
              "    li.appendChild(percent);\n",
              "\n",
              "    outputElement.appendChild(li);\n",
              "\n",
              "    const fileDataPromise = new Promise((resolve) => {\n",
              "      const reader = new FileReader();\n",
              "      reader.onload = (e) => {\n",
              "        resolve(e.target.result);\n",
              "      };\n",
              "      reader.readAsArrayBuffer(file);\n",
              "    });\n",
              "    // Wait for the data to be ready.\n",
              "    let fileData = yield {\n",
              "      promise: fileDataPromise,\n",
              "      response: {\n",
              "        action: 'continue',\n",
              "      }\n",
              "    };\n",
              "\n",
              "    // Use a chunked sending to avoid message size limits. See b/62115660.\n",
              "    let position = 0;\n",
              "    do {\n",
              "      const length = Math.min(fileData.byteLength - position, MAX_PAYLOAD_SIZE);\n",
              "      const chunk = new Uint8Array(fileData, position, length);\n",
              "      position += length;\n",
              "\n",
              "      const base64 = btoa(String.fromCharCode.apply(null, chunk));\n",
              "      yield {\n",
              "        response: {\n",
              "          action: 'append',\n",
              "          file: file.name,\n",
              "          data: base64,\n",
              "        },\n",
              "      };\n",
              "\n",
              "      let percentDone = fileData.byteLength === 0 ?\n",
              "          100 :\n",
              "          Math.round((position / fileData.byteLength) * 100);\n",
              "      percent.textContent = `${percentDone}% done`;\n",
              "\n",
              "    } while (position < fileData.byteLength);\n",
              "  }\n",
              "\n",
              "  // All done.\n",
              "  yield {\n",
              "    response: {\n",
              "      action: 'complete',\n",
              "    }\n",
              "  };\n",
              "}\n",
              "\n",
              "scope.google = scope.google || {};\n",
              "scope.google.colab = scope.google.colab || {};\n",
              "scope.google.colab._files = {\n",
              "  _uploadFiles,\n",
              "  _uploadFilesContinue,\n",
              "};\n",
              "})(self);\n",
              "</script> "
            ]
          },
          "metadata": {}
        },
        {
          "output_type": "stream",
          "name": "stdout",
          "text": [
            "Saving kaggle.json to kaggle.json\n"
          ]
        },
        {
          "output_type": "execute_result",
          "data": {
            "text/plain": [
              "{'kaggle.json': b'{\"username\":\"gomesluiz\",\"key\":\"65a50e3a7ca1b3dca39da7573db1292f\"}'}"
            ]
          },
          "metadata": {},
          "execution_count": 44
        }
      ]
    },
    {
      "cell_type": "code",
      "source": [
        "! mkdir ~/.kaggle"
      ],
      "metadata": {
        "id": "wgDeXUTdfYI9",
        "outputId": "4a799348-864d-4ba5-e288-f81d42b7bef0",
        "colab": {
          "base_uri": "https://localhost:8080/"
        }
      },
      "execution_count": 47,
      "outputs": [
        {
          "output_type": "stream",
          "name": "stdout",
          "text": [
            "mkdir: cannot create directory ‘/root/.kaggle’: File exists\n"
          ]
        }
      ]
    },
    {
      "cell_type": "code",
      "source": [
        "!cp kaggle.json ~/.kaggle/\n",
        "! chmod 600 ~/.kaggle/kaggle.json"
      ],
      "metadata": {
        "id": "5OTiilVcfwNG"
      },
      "execution_count": 48,
      "outputs": []
    },
    {
      "cell_type": "code",
      "source": [
        " !kaggle datasets list -s commonlit"
      ],
      "metadata": {
        "id": "C6eMgM4wf9DY",
        "outputId": "a16d2a1c-b2e9-4537-f502-297b806b9085",
        "colab": {
          "base_uri": "https://localhost:8080/"
        }
      },
      "execution_count": 66,
      "outputs": [
        {
          "output_type": "stream",
          "name": "stdout",
          "text": [
            "Warning: Looks like you're using an outdated API Version, please consider updating (server 1.6.3 / client 1.5.16)\n",
            "ref                                      title                        size  lastUpdated          downloadCount  voteCount  usabilityRating  \n",
            "---------------------------------------  ---------------------------  ----  -------------------  -------------  ---------  ---------------  \n",
            "kononenko/commonlit-texts                CommonLit Texts               6MB  2023-09-17 20:48:39            239         27  0.7058824        \n",
            "takoihiraokazu/commonlit-ex107           commonlit-ex107               7GB  2021-06-09 03:22:06             16         10  0.4375           \n",
            "takoihiraokazu/commonlit-ex064           commonlit-ex064               2GB  2021-06-03 05:29:12              7          9  0.4375           \n",
            "maunish/clrp-roberta-base                clrp roberta base             3GB  2021-06-29 09:07:26            959         79  0.75             \n",
            "takoihiraokazu/commonlit-ex182           commonlit-ex182               7GB  2021-06-21 04:26:18             17          7  0.4375           \n",
            "takoihiraokazu/commonlit-ex190           commonlit-ex190               6GB  2021-06-23 00:43:25             13          7  0.4375           \n",
            "takoihiraokazu/commonlit-ex465           commonlit-ex465               2GB  2021-07-31 05:31:09              9         28  0.4375           \n",
            "rhtsingh/roberta-large-itptfit           CommonLit RoBERTa Large I     6GB  2021-05-23 16:39:06            220         26  0.375            \n",
            "takoihiraokazu/commonlit-ex507           commonlit-ex507               5GB  2021-08-02 09:37:29              6         24  0.4375           \n",
            "douglaskgaraujo/commonlit-text-features  CommonLit Text Features       1MB  2021-06-22 01:19:50             50         14  0.9705882        \n",
            "rhtsingh/commonlit-roberta-base-i        CommonLit RoBERTa Base I      2GB  2021-05-28 12:53:42            272         25  0.3125           \n",
            "takoihiraokazu/commonlit-ex207           commonlit-ex207               2GB  2021-06-25 07:30:00              6          5  0.4375           \n",
            "andretugan/commonlit-roberta-0467        CommonLit Roberta Model Set   2GB  2021-06-30 15:03:46            120         12  0.47058824       \n",
            "takoihiraokazu/commonlit-ex072-2         commonlit-ex072-2             6GB  2021-06-04 01:17:43             15          8  0.4375           \n",
            "rhtsingh/commonlit-roberta-large-ii      CommonLit RoBERTa Large II    6GB  2021-05-28 12:53:00            172         21  0.3125           \n",
            "takoihiraokazu/commonlit-ex496           commonlit-ex496               2GB  2021-07-31 13:20:43              6         15  0.4375           \n",
            "andradaolteanu/commonlit-dataset         CommonLit Dataset             6GB  2021-06-24 15:55:43             12         10  0.5294118        \n",
            "bhavesjain/commonlit-ess-prompts         commonlit-ess-prompts        14KB  2023-10-10 07:41:20              7          7  0.88235295       \n",
            "takoihiraokazu/commonlit-ex272           commonlit-ex272               6GB  2021-07-05 00:36:41              6          4  0.4375           \n",
            "takoihiraokazu/commonlit-ex292           commonlit-ex292               2GB  2021-07-06 23:01:05              5          5  0.4375           \n"
          ]
        }
      ]
    },
    {
      "cell_type": "code",
      "source": [
        "!kaggle datasets files kononenko/commonlit-texts"
      ],
      "metadata": {
        "id": "cbYDWeH_gh9d",
        "outputId": "a5d07ad6-1566-441b-854a-a3c8440fb0bb",
        "colab": {
          "base_uri": "https://localhost:8080/"
        }
      },
      "execution_count": 68,
      "outputs": [
        {
          "output_type": "stream",
          "name": "stdout",
          "text": [
            "Warning: Looks like you're using an outdated API Version, please consider updating (server 1.6.3 / client 1.5.16)\n",
            "name                 size  creationDate         \n",
            "-------------------  ----  -------------------  \n",
            "commonlit_texts.csv  16MB  2023-09-17 20:48:39  \n"
          ]
        }
      ]
    },
    {
      "cell_type": "code",
      "source": [
        "!kaggle datasets download kononenko/commonlit-texts"
      ],
      "metadata": {
        "id": "orJAucXqePxH",
        "outputId": "88e5662b-d606-4d92-9678-5115f212d4b1",
        "colab": {
          "base_uri": "https://localhost:8080/"
        }
      },
      "execution_count": 73,
      "outputs": [
        {
          "output_type": "stream",
          "name": "stdout",
          "text": [
            "Downloading commonlit-texts.zip to /content\n",
            "\r  0% 0.00/5.97M [00:00<?, ?B/s]\r 84% 5.00M/5.97M [00:00<00:00, 36.4MB/s]\n",
            "\r100% 5.97M/5.97M [00:00<00:00, 39.9MB/s]\n"
          ]
        }
      ]
    },
    {
      "cell_type": "code",
      "source": [
        "!unzip commonlit-texts.zip -d corpora"
      ],
      "metadata": {
        "id": "VurQl7SvjdMO",
        "outputId": "64c506eb-ee84-4337-e299-012f61dfe7dd",
        "colab": {
          "base_uri": "https://localhost:8080/"
        }
      },
      "execution_count": 75,
      "outputs": [
        {
          "output_type": "stream",
          "name": "stdout",
          "text": [
            "Archive:  commonlit-texts.zip\n",
            "  inflating: corpora/commonlit_texts.csv  \n"
          ]
        }
      ]
    },
    {
      "cell_type": "code",
      "source": [
        "!head corpora/commonlit_texts.csv"
      ],
      "metadata": {
        "id": "lWdkRvzFkEo8",
        "outputId": "5adf3904-20d1-4679-fa81-a786189f7ca8",
        "colab": {
          "base_uri": "https://localhost:8080/"
        }
      },
      "execution_count": 76,
      "outputs": [
        {
          "output_type": "stream",
          "name": "stdout",
          "text": [
            "title,author,description,grade,genre,lexile,path,is_prose,date,intro,excerpt,license,notes\n",
            "\"(love song, with two goldfish)\",Grace Chua,The speaker describes a love story between two goldfish in a fish bowl.,8,Poem,,/en/texts/love-song-with-two-goldfish,0,2003,\"Grace Chua is an award-winning journalist whose work usually deals with science and the environment. In this poem, Chua explores the love between two goldfish living in a fish bowl.\n",
            "As you read, take notes on the use of puns throughout the poem and their multiple meanings.\",\"[1]\n",
            "(He's a drifter,\n",
            "A “drifter” is a person who is continually moving from place to place.\n",
            "1\n",
            " alwaysfloating around her, hasnowhere else to go. He wishesshe would sing, not much, just the scales;[5]\n",
            "or take some notice,give him the fish eye.)(Bounded by round wallsshe makes fish eyesand kissy lips at him, darts[10]\n",
            "behind pebbles, swallowshis charms hook, line and sinker)\n",
            "Q1\n"
          ]
        }
      ]
    },
    {
      "cell_type": "markdown",
      "source": [
        "# Raspagem de dados"
      ],
      "metadata": {
        "id": "EvhflrvEeJr5"
      }
    },
    {
      "cell_type": "markdown",
      "source": [
        "# Enriquecimendo de dados"
      ],
      "metadata": {
        "id": "fx8fJQSNeSUQ"
      }
    }
  ]
}