{
  "nbformat": 4,
  "nbformat_minor": 0,
  "metadata": {
    "colab": {
      "provenance": [],
      "authorship_tag": "ABX9TyPIibRiNS7HVbNx5oTjj7Qu",
      "include_colab_link": true
    },
    "kernelspec": {
      "name": "python3",
      "display_name": "Python 3"
    },
    "language_info": {
      "name": "python"
    }
  },
  "cells": [
    {
      "cell_type": "markdown",
      "metadata": {
        "id": "view-in-github",
        "colab_type": "text"
      },
      "source": [
        "<a href=\"https://colab.research.google.com/github/gomesluiz/pln-na-pratica/blob/main/01-aquisicao-dados-enriquecimento-de-dados.ipynb\" target=\"_parent\"><img src=\"https://colab.research.google.com/assets/colab-badge.svg\" alt=\"Open In Colab\"/></a>"
      ]
    },
    {
      "cell_type": "markdown",
      "source": [
        "# **Aquisição de dados com enriquecimento de dados**"
      ],
      "metadata": {
        "id": "R3tUTgb_kpwv"
      }
    },
    {
      "cell_type": "code",
      "source": [
        "# Instala pacotes para enriquecimento e análise de dados.\n",
        "!pip install kaggle\n",
        "!pip install matplotlib\n",
        "!pip install nlpaug\n",
        "!pip install numpy\n",
        "!pip install pandas\n",
        "!pip install requests\n",
        "!pip install scikit-learn\n",
        "!pip install seaborn\n",
        "!pip install tqdm"
      ],
      "metadata": {
        "id": "NB3Mmh26EKbn"
      },
      "execution_count": null,
      "outputs": []
    },
    {
      "cell_type": "code",
      "source": [
        "# Declara define funções utilitárias utilizadas no notebook.\n",
        "import datetime\n",
        "def formata_msg(nivel, msg, componente=None):\n",
        "    \"\"\"\n",
        "    Formata uma mensagem de log incluindo o nível de severidade, timestamp,\n",
        "    componente (opcional) e a mensagem.\n",
        "\n",
        "    Parâmetros:\n",
        "    - nivel (str): Nível de severidade da mensagem (ex: 'INFO', 'ERROR', 'WARNING').\n",
        "    - msg (str): A mensagem de log propriamente dita.\n",
        "    - componente (str, opcional): O componente ou módulo do sistema que gera a mensagem.\n",
        "\n",
        "    Retorna:\n",
        "    - str: A mensagem de log formatada.\n",
        "    \"\"\"\n",
        "    timestamp = datetime.datetime.now().strftime('%Y-%m-%d %H:%M:%S')\n",
        "    if componente:\n",
        "        return f\"[{nivel}] {timestamp} - {componente}: {msg}\"\n",
        "    else:\n",
        "        return f\"[{nivel}] {timestamp} - {msg}\"\n",
        "\n",
        "def plotar_distribuicao_polaridade(df):\n",
        "    \"\"\"\n",
        "    Função para plotar um gráfico de barras da contagem de valores para a coluna 'polarity'.\n",
        "\n",
        "    Parâmetros:\n",
        "    df (DataFrame): O DataFrame contendo a coluna 'polarity' a ser analisada.\n",
        "\n",
        "    Esta função utiliza a biblioteca seaborn para criar um gráfico de barras que\n",
        "    mostra a contagem de ocorrências para cada valor único na coluna 'polarity'.\n",
        "    Os rótulos dos eixos são removidos para uma apresentação mais limpa, e as bordas\n",
        "    esquerdas são também removidas.\n",
        "    \"\"\"\n",
        "\n",
        "    # Realiza a contagem de valores na coluna 'polarity' e armazena o resultado\n",
        "    polarity_counts = df['polarity'].value_counts()\n",
        "\n",
        "    # Cria o gráfico de barras usando seaborn, definindo os valores do eixo x e y\n",
        "    sns.barplot(x=polarity_counts.index, y=polarity_counts, hue=polarity_counts.index, legend=False)\n",
        "\n",
        "    # Configurações para remover rótulos e títulos desnecessários do gráfico\n",
        "    plt.yticks([], [])  # Remove os rótulos do eixo y para simplificar a visualização\n",
        "    plt.xlabel('')      # Limpa o título do eixo x para uma apresentação mais limpa\n",
        "    plt.ylabel('')      # Limpa o título do eixo y para uma apresentação mais limpa\n",
        "    sns.despine(left=True)  # Remove a borda esquerda do gráfico para um design mais minimalista\n",
        "\n",
        "    # Loop para adicionar rótulos de texto em cada barra do gráfico, melhorando a interpretabilidade\n",
        "    for container in plt.gca().containers:\n",
        "        plt.gca().bar_label(container)  # Adiciona rótulos nas barras com a contagem de cada 'polarity'\n",
        "\n",
        "print(formata_msg(\"INFO\", f\"Funções utilitárias foram declaradas, prontas para utilização.\"))"
      ],
      "metadata": {
        "id": "It4_ogcuPNuu"
      },
      "execution_count": null,
      "outputs": []
    },
    {
      "cell_type": "code",
      "source": [
        "# Importação da biblioteca padrão\n",
        "from random import shuffle\n",
        "import os\n",
        "\n",
        "# Importação de bibliotecas de terceiros\n",
        "import matplotlib.pyplot as plt\n",
        "import nlpaug.augmenter.word as naw\n",
        "import numpy as np\n",
        "import pandas as pd\n",
        "import requests\n",
        "from sklearn.model_selection import train_test_split\n",
        "import seaborn as sns\n",
        "from tqdm import tqdm\n",
        "\n",
        "timestamp = datetime.datetime.now().strftime('%Y-%m-%d %H:%M:%S')\n",
        "print(formata_msg(\"INFO\", \"Bibliotecas importadas com sucesso; ambiente pronto.\"))"
      ],
      "metadata": {
        "id": "8ueIJQz8n-h6"
      },
      "execution_count": null,
      "outputs": []
    },
    {
      "cell_type": "code",
      "source": [
        "# Define o diretório local para armazenar as bases de dados públicas coletadas.\n",
        "corpora_caminho = \"./corpora\"\n",
        "\n",
        "# Verifica se o diretório especificado já existe no ambiente do Colab.\n",
        "if not os.path.exists(corpora_caminho):\n",
        "  # Caso o diretório não exista, cria um novo diretório com o nome 'corpora'.\n",
        "  # Isso é útil para organizar os arquivos de dados baixados ou gerados.\n",
        "  os.mkdir(corpora_caminho)\n",
        "\n",
        "print(formata_msg(\"INFO\", f\"Diretório {corpora_caminho} foi criado com sucesso.\"))"
      ],
      "metadata": {
        "id": "Ld0Thaj9nqzn"
      },
      "execution_count": null,
      "outputs": []
    },
    {
      "cell_type": "markdown",
      "source": [
        "## Base de dados de comentários do Buscapé\n",
        "Buscapé é uma plataforma de comércio eletrônico brasileiro. O Buscapé funciona como um assistente de compras, para que os consumidores pesquisem produtos, preços, promoções e lojas.O Buscapé pertence à Mosaico Tecnologia ao Consumidor, que também é dona de outras plataformas de e-commerce."
      ],
      "metadata": {
        "id": "pzFkGfrRd65P"
      }
    },
    {
      "cell_type": "code",
      "source": [
        "# Define a URL da base pública armazenada no Github.\n",
        "url = \"https://raw.githubusercontent.com/gomesluiz/product-review-analytics/main/data/raw/buscape.csv\"\n",
        "\n",
        "# Configuração do arquivo para armazenamento da base de dados.\n",
        "buscape_arquivo = \"buscape-comentarios.csv\"\n",
        "\n",
        "# O método os.path.join cria o caminho completo para o arquivo, combinando\n",
        "# 'corpora_caminho' com o nome do arquivo.\n",
        "buscape_caminho = os.path.join(corpora_caminho, buscape_arquivo)\n",
        "\n",
        "# Define o formato do arquivo. Necessário para arquivos textos\n",
        "# armazenados no raw.githubusercontent.com.\n",
        "parametros = {\"downloadformat\": \"csv\"}\n",
        "\n",
        "# Executa o download do arquivo especificado na URL com os parâmetros\n",
        "# especificados\n",
        "resposta = requests.get(url, params=parametros)\n",
        "if resposta.status_code == 200:\n",
        "  # Se o status for igual a 200 (sucesso), grava o arquivo no caminho\n",
        "  # especificado\n",
        "  with open(buscape_caminho, \"wb\") as f:\n",
        "    f.write(resposta.content)\n",
        "  print(formata_msg(\"INFO\",f\"Download do arquivo {buscape_arquivo} concluído com sucesso!\"))\n",
        "else:\n",
        "  print(f\"Falha no download do arquivo {buscape_arquivo}:\", resposta.status_code)\n"
      ],
      "metadata": {
        "id": "woasdVNlm_gU"
      },
      "execution_count": null,
      "outputs": []
    },
    {
      "cell_type": "code",
      "source": [
        "# O comando head do linux mostra as cinco primeiras linhas do arquivo gravado.\n",
        "!head -n 5 {buscape_caminho}"
      ],
      "metadata": {
        "id": "57kIS4iOsTM1"
      },
      "execution_count": null,
      "outputs": []
    },
    {
      "cell_type": "code",
      "source": [
        "# Lista das colunas específicas para serem lidas do arquivo CSV.\n",
        "colunas_desejadas = ['review_text', 'polarity']\n",
        "\n",
        "# Carrega dados do CSV usando as colunas definidas.\n",
        "buscape_df = pd.read_csv(buscape_caminho, usecols=colunas_desejadas)\n",
        "\n",
        "# Mostra o número de linhas e colunas do dataFrame buscape_df.\n",
        "num_rows, num_cols = buscape_df.shape[0], buscape_df.shape[1]\n",
        "print(formata_msg(\"INFO\", f\"O dataset tem {num_rows} linnhas e {num_cols} colunas.\"))"
      ],
      "metadata": {
        "id": "JgPlAJr2S0Ct"
      },
      "execution_count": null,
      "outputs": []
    },
    {
      "cell_type": "code",
      "source": [
        "# Remove todas as linhas do DataFrame que contêm valores nulos.\n",
        "buscape_df.dropna(inplace=True)\n",
        "\n",
        "# Mostra o número de linhas e colunas do dataFrame buscape_df.\n",
        "num_rows, num_cols = buscape_df.shape[0], buscape_df.shape[1]\n",
        "print(formata_msg(\"INFO\", f\"O dataset tem {num_rows} linnhas e {num_cols} colunas.\"))"
      ],
      "metadata": {
        "id": "Epsn6SgI_BtU"
      },
      "execution_count": null,
      "outputs": []
    },
    {
      "cell_type": "code",
      "source": [
        "# Exibe as primeiras 5 linhas do DataFrame 'buscape_df' para uma rápida inspeção.\n",
        "buscape_df.head()"
      ],
      "metadata": {
        "id": "muIKeJ7gZq4F"
      },
      "execution_count": null,
      "outputs": []
    },
    {
      "cell_type": "code",
      "source": [
        "# Converte os valores da coluna 'polarity' para string.\n",
        "buscape_df['polarity'] = buscape_df['polarity'].astype(int)\n",
        "\n",
        "# Exibe as primeiras 5 linhas do DataFrame 'buscape_df' para uma rápida inspeção.\n",
        "buscape_df.head()"
      ],
      "metadata": {
        "id": "dRYgtwasBHXl"
      },
      "execution_count": null,
      "outputs": []
    },
    {
      "cell_type": "code",
      "source": [
        "# Plota um gráfico de barras as categorias de polaridade.\n",
        "plotar_distribuicao_polaridade(buscape_df)"
      ],
      "metadata": {
        "id": "GfLGVfDBDDS6"
      },
      "execution_count": null,
      "outputs": []
    },
    {
      "cell_type": "code",
      "source": [
        "# Seleciona uma linha específica do dataFrame 'buscape_df' usando 'iloc' para\n",
        "# testes do enriquecimento de dados.\n",
        "texto = buscape_df.iloc[5]['review_text'].replace(\"\\n\", \" \")\n",
        "print(texto)"
      ],
      "metadata": {
        "id": "ojfvfHh2mo-X"
      },
      "execution_count": null,
      "outputs": []
    },
    {
      "cell_type": "code",
      "source": [
        "# Importando a biblioteca necessária para a augmentação de texto\n",
        "import nlpaug.augmenter.word as naw\n",
        "\n",
        "# Inicializando o augmentador com o modelo BERT em português\n",
        "# para inserir palavras contextualmente apropriadas\n",
        "aug = naw.ContextualWordEmbsAug(\n",
        "    model_path='neuralmind/bert-base-portuguese-cased', action=\"insert\")\n",
        "\n",
        "# Exibindo o texto original\n",
        "print(\"Texto original:\")\n",
        "print(texto)\n",
        "\n",
        "# Exibindo o texto enriquecido\n",
        "print(\"Texto enriquecido:\")\n",
        "for ii in range(5):\n",
        "    print(aug.augment(texto))\n"
      ],
      "metadata": {
        "id": "IGEcNpuNoM8V"
      },
      "execution_count": null,
      "outputs": []
    },
    {
      "cell_type": "code",
      "source": [
        "# Divisão do DataFrame 'buscape_df' em conjuntos de treino e teste.\n",
        "train, test = train_test_split(buscape_df, test_size=0.15, random_state=1)\n",
        "\n",
        "# plotar a distribuição de polaridade no conjunto de treino\n",
        "plotar_distribuicao_polaridade(train)"
      ],
      "metadata": {
        "id": "wxjneTYKnuLL"
      },
      "execution_count": null,
      "outputs": []
    },
    {
      "cell_type": "code",
      "source": [
        "def enriquecer_texto(enriquecedor, df, classe, amostras=100, prob_aug=0.2):\n",
        "    \"\"\"\n",
        "    Enriquece textos de uma determinada classe em um DataFrame usando enriquecimento.\n",
        "\n",
        "    A função seleciona aleatoriamente um conjunto de textos da classe especificada\n",
        "    e aplica a augmentação para gerar novos textos. Esses textos são adicionados ao\n",
        "    DataFrame original, criando uma versão enriquecida do mesmo.\n",
        "\n",
        "    Args:\n",
        "        enriquecedor: Objeto utilizado para realizar a augmentação dos textos.\n",
        "        df (pd.DataFrame): DataFrame contendo os textos e suas respectivas classes.\n",
        "        classe (int/str): A classe dos textos que serão enriquecidos.\n",
        "        amostras (int, optional): Número de textos da classe especificada a serem enriquecidos.\n",
        "            Padrão é 100.\n",
        "        prob_aug (float, optional): Probabilidade de cada palavra ser augmentada.\n",
        "            Padrão é 0.2.\n",
        "\n",
        "    Returns:\n",
        "        pd.DataFrame: DataFrame original com os textos enriquecidos adicionados,\n",
        "        embaralhado de forma aleatória.\n",
        "    \"\"\"\n",
        "\n",
        "    # Define a probabilidade de augmentação para o enriquecedor\n",
        "    enriquecedor.aug_p = prob_aug\n",
        "\n",
        "    # Inicializa a lista para armazenar textos enriquecidos\n",
        "    textos_enriquecidos = []\n",
        "\n",
        "    # Filtra o DataFrame para obter apenas as entradas da classe especificada\n",
        "    df_minoritario = df[df.polarity == classe].reset_index(drop=True)\n",
        "\n",
        "    # Loop para enriquecer uma quantidade específica de amostras aleatórias\n",
        "    for i in tqdm(np.random.randint(0, len(df_minoritario), amostras)):\n",
        "        texto = df_minoritario.iloc[i]['review_text']\n",
        "        texto_enriquecido = enriquecedor.augment(texto)\n",
        "        textos_enriquecidos.append(texto_enriquecido)\n",
        "\n",
        "    # Cria um DataFrame com os textos enriquecidos e a classe-alvo\n",
        "    df_enriquecido = pd.DataFrame({'review_text': textos_enriquecidos, 'polarity': classe})\n",
        "\n",
        "    # Combina o DataFrame original com o DataFrame enriquecido e embaralha\n",
        "    df_resultante = pd.concat([df, df_enriquecido], ignore_index=True).sample(frac=1, random_state=42)\n",
        "\n",
        "    # Retorna o DataFrame resultante\n",
        "    return df_resultante\n",
        "\n",
        "print(formata_msg(\"INFO\", f\"Função de enriquecimento pronta para utilização.\"))\n"
      ],
      "metadata": {
        "id": "8akLoHA5U-Dt"
      },
      "execution_count": null,
      "outputs": []
    },
    {
      "cell_type": "code",
      "source": [
        "# Enriquece o conjunto de treinamento. Esse procedimento não\n",
        "# ser aplicado somente no conjunto de testes. Esse\n",
        "# deve refletir dados do mundo real tão fielmente quanto possível.\n",
        "train = enriquecer_texto(aug, train, 0, amostras=10)\n",
        "print(formata_msg(\"INFO\", f\"Dataset de treinamento enriquecido.\"))"
      ],
      "metadata": {
        "id": "lJeVYGh9MMlg"
      },
      "execution_count": null,
      "outputs": []
    },
    {
      "cell_type": "code",
      "source": [
        "# plotar a distribuição de polaridade no conjunto de treino\n",
        "# após o enriquecimento.\n",
        "plotar_distribuicao_polaridade(train)"
      ],
      "metadata": {
        "id": "g66dMY7IMny3"
      },
      "execution_count": null,
      "outputs": []
    }
  ]
}