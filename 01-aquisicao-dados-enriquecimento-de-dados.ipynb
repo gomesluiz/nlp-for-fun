{
  "nbformat": 4,
  "nbformat_minor": 0,
  "metadata": {
    "colab": {
      "provenance": [],
      "authorship_tag": "ABX9TyM+FIXrFkbxjNqkN3EB3m/V",
      "include_colab_link": true
    },
    "kernelspec": {
      "name": "python3",
      "display_name": "Python 3"
    },
    "language_info": {
      "name": "python"
    }
  },
  "cells": [
    {
      "cell_type": "markdown",
      "metadata": {
        "id": "view-in-github",
        "colab_type": "text"
      },
      "source": [
        "<a href=\"https://colab.research.google.com/github/gomesluiz/pln-na-pratica/blob/main/01-aquisicao-dados-enriquecimento-de-dados.ipynb\" target=\"_parent\"><img src=\"https://colab.research.google.com/assets/colab-badge.svg\" alt=\"Open In Colab\"/></a>"
      ]
    },
    {
      "cell_type": "markdown",
      "source": [
        "# **Aquisição de dados com enriquecimento de dados**"
      ],
      "metadata": {
        "id": "R3tUTgb_kpwv"
      }
    },
    {
      "cell_type": "code",
      "source": [
        "# Instala pacotes para análise de dados e raspagem web.\n",
        "!pip install kaggle\n",
        "!pip install matplotlib\n",
        "!pip install pandas\n",
        "!pip install requests\n",
        "!pip install seaborn"
      ],
      "metadata": {
        "id": "NB3Mmh26EKbn",
        "outputId": "2fa3364b-ed7f-44a4-cdf7-878853dd989b",
        "colab": {
          "base_uri": "https://localhost:8080/"
        }
      },
      "execution_count": 14,
      "outputs": [
        {
          "output_type": "stream",
          "name": "stdout",
          "text": [
            "Requirement already satisfied: kaggle in /usr/local/lib/python3.10/dist-packages (1.5.16)\n",
            "Requirement already satisfied: six>=1.10 in /usr/local/lib/python3.10/dist-packages (from kaggle) (1.16.0)\n",
            "Requirement already satisfied: certifi in /usr/local/lib/python3.10/dist-packages (from kaggle) (2023.11.17)\n",
            "Requirement already satisfied: python-dateutil in /usr/local/lib/python3.10/dist-packages (from kaggle) (2.8.2)\n",
            "Requirement already satisfied: requests in /usr/local/lib/python3.10/dist-packages (from kaggle) (2.31.0)\n",
            "Requirement already satisfied: tqdm in /usr/local/lib/python3.10/dist-packages (from kaggle) (4.66.1)\n",
            "Requirement already satisfied: python-slugify in /usr/local/lib/python3.10/dist-packages (from kaggle) (8.0.3)\n",
            "Requirement already satisfied: urllib3 in /usr/local/lib/python3.10/dist-packages (from kaggle) (2.0.7)\n",
            "Requirement already satisfied: bleach in /usr/local/lib/python3.10/dist-packages (from kaggle) (6.1.0)\n",
            "Requirement already satisfied: webencodings in /usr/local/lib/python3.10/dist-packages (from bleach->kaggle) (0.5.1)\n",
            "Requirement already satisfied: text-unidecode>=1.3 in /usr/local/lib/python3.10/dist-packages (from python-slugify->kaggle) (1.3)\n",
            "Requirement already satisfied: charset-normalizer<4,>=2 in /usr/local/lib/python3.10/dist-packages (from requests->kaggle) (3.3.2)\n",
            "Requirement already satisfied: idna<4,>=2.5 in /usr/local/lib/python3.10/dist-packages (from requests->kaggle) (3.6)\n",
            "Requirement already satisfied: matplotlib in /usr/local/lib/python3.10/dist-packages (3.7.1)\n",
            "Requirement already satisfied: contourpy>=1.0.1 in /usr/local/lib/python3.10/dist-packages (from matplotlib) (1.2.0)\n",
            "Requirement already satisfied: cycler>=0.10 in /usr/local/lib/python3.10/dist-packages (from matplotlib) (0.12.1)\n",
            "Requirement already satisfied: fonttools>=4.22.0 in /usr/local/lib/python3.10/dist-packages (from matplotlib) (4.47.2)\n",
            "Requirement already satisfied: kiwisolver>=1.0.1 in /usr/local/lib/python3.10/dist-packages (from matplotlib) (1.4.5)\n",
            "Requirement already satisfied: numpy>=1.20 in /usr/local/lib/python3.10/dist-packages (from matplotlib) (1.23.5)\n",
            "Requirement already satisfied: packaging>=20.0 in /usr/local/lib/python3.10/dist-packages (from matplotlib) (23.2)\n",
            "Requirement already satisfied: pillow>=6.2.0 in /usr/local/lib/python3.10/dist-packages (from matplotlib) (9.4.0)\n",
            "Requirement already satisfied: pyparsing>=2.3.1 in /usr/local/lib/python3.10/dist-packages (from matplotlib) (3.1.1)\n",
            "Requirement already satisfied: python-dateutil>=2.7 in /usr/local/lib/python3.10/dist-packages (from matplotlib) (2.8.2)\n",
            "Requirement already satisfied: six>=1.5 in /usr/local/lib/python3.10/dist-packages (from python-dateutil>=2.7->matplotlib) (1.16.0)\n",
            "Requirement already satisfied: pandas in /usr/local/lib/python3.10/dist-packages (1.5.3)\n",
            "Requirement already satisfied: python-dateutil>=2.8.1 in /usr/local/lib/python3.10/dist-packages (from pandas) (2.8.2)\n",
            "Requirement already satisfied: pytz>=2020.1 in /usr/local/lib/python3.10/dist-packages (from pandas) (2023.4)\n",
            "Requirement already satisfied: numpy>=1.21.0 in /usr/local/lib/python3.10/dist-packages (from pandas) (1.23.5)\n",
            "Requirement already satisfied: six>=1.5 in /usr/local/lib/python3.10/dist-packages (from python-dateutil>=2.8.1->pandas) (1.16.0)\n",
            "Requirement already satisfied: requests in /usr/local/lib/python3.10/dist-packages (2.31.0)\n",
            "Requirement already satisfied: charset-normalizer<4,>=2 in /usr/local/lib/python3.10/dist-packages (from requests) (3.3.2)\n",
            "Requirement already satisfied: idna<4,>=2.5 in /usr/local/lib/python3.10/dist-packages (from requests) (3.6)\n",
            "Requirement already satisfied: urllib3<3,>=1.21.1 in /usr/local/lib/python3.10/dist-packages (from requests) (2.0.7)\n",
            "Requirement already satisfied: certifi>=2017.4.17 in /usr/local/lib/python3.10/dist-packages (from requests) (2023.11.17)\n",
            "Requirement already satisfied: seaborn in /usr/local/lib/python3.10/dist-packages (0.13.1)\n",
            "Requirement already satisfied: numpy!=1.24.0,>=1.20 in /usr/local/lib/python3.10/dist-packages (from seaborn) (1.23.5)\n",
            "Requirement already satisfied: pandas>=1.2 in /usr/local/lib/python3.10/dist-packages (from seaborn) (1.5.3)\n",
            "Requirement already satisfied: matplotlib!=3.6.1,>=3.4 in /usr/local/lib/python3.10/dist-packages (from seaborn) (3.7.1)\n",
            "Requirement already satisfied: contourpy>=1.0.1 in /usr/local/lib/python3.10/dist-packages (from matplotlib!=3.6.1,>=3.4->seaborn) (1.2.0)\n",
            "Requirement already satisfied: cycler>=0.10 in /usr/local/lib/python3.10/dist-packages (from matplotlib!=3.6.1,>=3.4->seaborn) (0.12.1)\n",
            "Requirement already satisfied: fonttools>=4.22.0 in /usr/local/lib/python3.10/dist-packages (from matplotlib!=3.6.1,>=3.4->seaborn) (4.47.2)\n",
            "Requirement already satisfied: kiwisolver>=1.0.1 in /usr/local/lib/python3.10/dist-packages (from matplotlib!=3.6.1,>=3.4->seaborn) (1.4.5)\n",
            "Requirement already satisfied: packaging>=20.0 in /usr/local/lib/python3.10/dist-packages (from matplotlib!=3.6.1,>=3.4->seaborn) (23.2)\n",
            "Requirement already satisfied: pillow>=6.2.0 in /usr/local/lib/python3.10/dist-packages (from matplotlib!=3.6.1,>=3.4->seaborn) (9.4.0)\n",
            "Requirement already satisfied: pyparsing>=2.3.1 in /usr/local/lib/python3.10/dist-packages (from matplotlib!=3.6.1,>=3.4->seaborn) (3.1.1)\n",
            "Requirement already satisfied: python-dateutil>=2.7 in /usr/local/lib/python3.10/dist-packages (from matplotlib!=3.6.1,>=3.4->seaborn) (2.8.2)\n",
            "Requirement already satisfied: pytz>=2020.1 in /usr/local/lib/python3.10/dist-packages (from pandas>=1.2->seaborn) (2023.4)\n",
            "Requirement already satisfied: six>=1.5 in /usr/local/lib/python3.10/dist-packages (from python-dateutil>=2.7->matplotlib!=3.6.1,>=3.4->seaborn) (1.16.0)\n"
          ]
        }
      ]
    },
    {
      "cell_type": "code",
      "source": [
        "# Declara define funções utilitárias utilizadas no notebook.\n",
        "import datetime\n",
        "def formata_msg(nivel, msg, componente=None):\n",
        "    \"\"\"\n",
        "    Formata uma mensagem de log incluindo o nível de severidade, timestamp,\n",
        "    componente (opcional) e a mensagem.\n",
        "\n",
        "    Parâmetros:\n",
        "    - nivel (str): Nível de severidade da mensagem (ex: 'INFO', 'ERROR', 'WARNING').\n",
        "    - msg (str): A mensagem de log propriamente dita.\n",
        "    - componente (str, opcional): O componente ou módulo do sistema que gera a mensagem.\n",
        "\n",
        "    Retorna:\n",
        "    - str: A mensagem de log formatada.\n",
        "    \"\"\"\n",
        "    timestamp = datetime.datetime.now().strftime('%Y-%m-%d %H:%M:%S')\n",
        "    if componente:\n",
        "        return f\"[{nivel}] {timestamp} - {componente}: {msg}\"\n",
        "    else:\n",
        "        return f\"[{nivel}] {timestamp} - {msg}\""
      ],
      "metadata": {
        "id": "It4_ogcuPNuu"
      },
      "execution_count": 3,
      "outputs": []
    },
    {
      "cell_type": "code",
      "source": [
        "# Importa módulos essenciais para funcionalidades do notebook.\n",
        "import os\n",
        "\n",
        "import pandas as pd\n",
        "import requests\n",
        "import seaborn as sns\n",
        "\n",
        "import matplotlib.pyplot as plt\n",
        "\n",
        "timestamp = datetime.datetime.now().strftime('%Y-%m-%d %H:%M:%S')\n",
        "print(formata_msg(\"INFO\", \"Bibliotecas importadas com sucesso; ambiente pronto.\"))"
      ],
      "metadata": {
        "id": "8ueIJQz8n-h6",
        "outputId": "4867bb7c-1e76-421e-e2cf-6a23eed548e3",
        "colab": {
          "base_uri": "https://localhost:8080/"
        }
      },
      "execution_count": 17,
      "outputs": [
        {
          "output_type": "stream",
          "name": "stdout",
          "text": [
            "[INFO] 2024-02-03 23:35:12 - Bibliotecas importadas com sucesso; ambiente pronto.\n"
          ]
        }
      ]
    },
    {
      "cell_type": "code",
      "source": [
        "# Define o diretório local para armazenar as bases de dados públicas coletadas.\n",
        "corpora_caminho = \"./corpora\"\n",
        "\n",
        "# Verifica se o diretório especificado já existe no ambiente do Colab.\n",
        "if not os.path.exists(corpora_caminho):\n",
        "  # Caso o diretório não exista, cria um novo diretório com o nome 'corpora'.\n",
        "  # Isso é útil para organizar os arquivos de dados baixados ou gerados.\n",
        "  os.mkdir(corpora_caminho)\n",
        "\n",
        "print(formata_msg(\"INFO\", f\"Diretório {corpora_caminho} foi criado com sucesso.\"))"
      ],
      "metadata": {
        "id": "Ld0Thaj9nqzn",
        "outputId": "6b86fff7-ffbd-4975-ecd7-ed52ec3f89d4",
        "colab": {
          "base_uri": "https://localhost:8080/"
        }
      },
      "execution_count": 5,
      "outputs": [
        {
          "output_type": "stream",
          "name": "stdout",
          "text": [
            "[INFO] 2024-02-03 23:13:47 - Diretório ./corpora foi criado com sucesso.\n"
          ]
        }
      ]
    },
    {
      "cell_type": "markdown",
      "source": [
        "## 1. Base de dados original"
      ],
      "metadata": {
        "id": "pzFkGfrRd65P"
      }
    },
    {
      "cell_type": "markdown",
      "source": [
        "Buscapé é uma plataforma de comércio eletrônico brasileiro. O Buscapé funciona como um assistente de compras, para que os consumidores pesquisem produtos, preços, promoções e lojas.O Buscapé pertence à Mosaico Tecnologia ao Consumidor, que também é dona de outras plataformas de e-commerce."
      ],
      "metadata": {
        "id": "c0tgNZXdnG07"
      }
    },
    {
      "cell_type": "code",
      "source": [
        "# Define a URL da base pública armazenada no Github.\n",
        "url = \"https://raw.githubusercontent.com/gomesluiz/product-review-analytics/main/data/raw/buscape.csv\"\n",
        "\n",
        "# Configuração do arquivo para armazenamento da base de dados.\n",
        "buscape_arquivo = \"buscape-comentarios.csv\"\n",
        "\n",
        "# O método os.path.join cria o caminho completo para o arquivo, combinando\n",
        "# 'corpora_caminho' com o nome do arquivo.\n",
        "buscape_caminho = os.path.join(corpora_caminho, buscape_arquivo)\n",
        "\n",
        "# Define o formato do arquivo. Necessário para arquivos textos\n",
        "# armazenados no raw.githubusercontent.com.\n",
        "parametros = {\"downloadformat\": \"csv\"}\n",
        "\n",
        "# Executa o download do arquivo especificado na URL com os parâmetros\n",
        "# especificados\n",
        "resposta = requests.get(url, params=parametros)\n",
        "if resposta.status_code == 200:\n",
        "  # Se o status for igual a 200 (sucesso), grava o arquivo no caminho\n",
        "  # especificado\n",
        "  with open(buscape_caminho, \"wb\") as f:\n",
        "    f.write(resposta.content)\n",
        "  print(f\"Download do {buscape_arquivo} concluído com sucesso!\")\n",
        "else:\n",
        "   print(f\"Falha no download do arquivo {buscape_arquivo}:\", resposta.status_code)\n"
      ],
      "metadata": {
        "id": "woasdVNlm_gU",
        "outputId": "2feef936-47df-4d9a-ad01-c78164fededc",
        "colab": {
          "base_uri": "https://localhost:8080/"
        }
      },
      "execution_count": 7,
      "outputs": [
        {
          "output_type": "stream",
          "name": "stdout",
          "text": [
            "Download do buscape-comentarios.csv concluído com sucesso!\n"
          ]
        }
      ]
    },
    {
      "cell_type": "code",
      "source": [
        "# O comando head do linux mostra as cinco primeiras linhas do arquivo gravado.\n",
        "!head -n 5 {buscape_caminho}"
      ],
      "metadata": {
        "id": "57kIS4iOsTM1",
        "outputId": "b2a0cdc7-b285-4e00-fb52-74b111290d35",
        "colab": {
          "base_uri": "https://localhost:8080/"
        }
      },
      "execution_count": 9,
      "outputs": [
        {
          "output_type": "stream",
          "name": "stdout",
          "text": [
            "original_index,review_text,review_text_processed,review_text_tokenized,polarity,rating,kfold_polarity,kfold_rating\r\n",
            "4_55516,\"Estou muito satisfeito, o visor é melhor do que eu imaginava, boas imagens, desing ultra fino. Pelo preço é um exelente aparelho.\n",
            "\n",
            "O que gostei: Desing exelente, display, custo beneficio.\n",
            "\n"
          ]
        }
      ]
    },
    {
      "cell_type": "code",
      "source": [
        "buscape_df = pd.read_csv(buscape_caminho)\n",
        "num_rows = buscape_df.shape[0]\n",
        "num_cols = buscape_df.shape[1]\n",
        "print(formata_msg(\"INFO\", f\"The dataset has {num_rows} rows and {num_cols} columns.\"))"
      ],
      "metadata": {
        "id": "JgPlAJr2S0Ct",
        "outputId": "a5b31cca-7bc7-4058-a27c-68fe112c425f",
        "colab": {
          "base_uri": "https://localhost:8080/"
        }
      },
      "execution_count": 12,
      "outputs": [
        {
          "output_type": "stream",
          "name": "stdout",
          "text": [
            "[INFO] 2024-02-03 23:30:36 - The dataset has 84991 rows and 8 columns.\n"
          ]
        }
      ]
    },
    {
      "cell_type": "code",
      "source": [
        "buscape_df.info()"
      ],
      "metadata": {
        "id": "zm5lBny-TRt6",
        "outputId": "4596a4f2-e5c4-4239-c24b-9c501aba5271",
        "colab": {
          "base_uri": "https://localhost:8080/"
        }
      },
      "execution_count": 13,
      "outputs": [
        {
          "output_type": "stream",
          "name": "stdout",
          "text": [
            "<class 'pandas.core.frame.DataFrame'>\n",
            "RangeIndex: 84991 entries, 0 to 84990\n",
            "Data columns (total 8 columns):\n",
            " #   Column                 Non-Null Count  Dtype  \n",
            "---  ------                 --------------  -----  \n",
            " 0   original_index         84991 non-null  object \n",
            " 1   review_text            84990 non-null  object \n",
            " 2   review_text_processed  84990 non-null  object \n",
            " 3   review_text_tokenized  84991 non-null  object \n",
            " 4   polarity               73627 non-null  float64\n",
            " 5   rating                 84991 non-null  int64  \n",
            " 6   kfold_polarity         84991 non-null  int64  \n",
            " 7   kfold_rating           84991 non-null  int64  \n",
            "dtypes: float64(1), int64(3), object(4)\n",
            "memory usage: 5.2+ MB\n"
          ]
        }
      ]
    },
    {
      "cell_type": "code",
      "source": [
        "plt.figure(figsize=(20, 10))\n",
        "polarity_counts = buscape_df['polarity'].value_counts()\n",
        "polarity_counts.plot(kind=\"bar\")"
      ],
      "metadata": {
        "id": "R9mc6w4mUCuY",
        "outputId": "e11ddc17-3b21-4969-bd9b-b9ec0724d19e",
        "colab": {
          "base_uri": "https://localhost:8080/",
          "height": 622
        }
      },
      "execution_count": 18,
      "outputs": [
        {
          "output_type": "execute_result",
          "data": {
            "text/plain": [
              "<Axes: >"
            ]
          },
          "metadata": {},
          "execution_count": 18
        },
        {
          "output_type": "display_data",
          "data": {
            "text/plain": [
              "<Figure size 2000x1000 with 1 Axes>"
            ],
            "image/png": "[encoded data removed]"
          },
          "metadata": {}
        }
      ]
    },
    {
      "cell_type": "code",
      "source": [],
      "metadata": {
        "id": "8akLoHA5U-Dt"
      },
      "execution_count": null,
      "outputs": []
    }
  ]
}