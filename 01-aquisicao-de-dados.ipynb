{
  "nbformat": 4,
  "nbformat_minor": 0,
  "metadata": {
    "colab": {
      "provenance": [],
      "authorship_tag": "ABX9TyPvYAY88swy95nehrtE0BbO",
      "include_colab_link": true
    },
    "kernelspec": {
      "name": "python3",
      "display_name": "Python 3"
    },
    "language_info": {
      "name": "python"
    }
  },
  "cells": [
    {
      "cell_type": "markdown",
      "metadata": {
        "id": "view-in-github",
        "colab_type": "text"
      },
      "source": [
        "<a href=\"https://colab.research.google.com/github/gomesluiz/pln-na-pratica/blob/main/01-aquisicao-de-dados.ipynb\" target=\"_parent\"><img src=\"https://colab.research.google.com/assets/colab-badge.svg\" alt=\"Open In Colab\"/></a>"
      ]
    },
    {
      "cell_type": "markdown",
      "source": [
        "# **Aquisição de dados**"
      ],
      "metadata": {
        "id": "R3tUTgb_kpwv"
      }
    },
    {
      "cell_type": "code",
      "source": [
        "# Instalação dos pacotes necessários.\n",
        "!pip install pandas requests kaggle"
      ],
      "metadata": {
        "id": "NB3Mmh26EKbn"
      },
      "execution_count": null,
      "outputs": []
    },
    {
      "cell_type": "code",
      "source": [
        "# Importação de pacotes necessários para a execução deste notebook.\n",
        "import pandas\n",
        "import os\n",
        "import requests\n",
        "import tarfile\n",
        "print(\"Pacotes importados com sucesso.\")"
      ],
      "metadata": {
        "id": "8ueIJQz8n-h6"
      },
      "execution_count": null,
      "outputs": []
    },
    {
      "cell_type": "code",
      "source": [
        "# Define o diretório local para armazenar as bases de dados públicas coletadas.\n",
        "corpora_caminho = \"./corpora\"\n",
        "\n",
        "# Verifica se o diretório especificado já existe no ambiente do Colab.\n",
        "if not os.path.exists(corpora_caminho):\n",
        "  # Caso o diretório não exista, cria um novo diretório com o nome 'corpora'.\n",
        "  # Isso é útil para organizar os arquivos de dados baixados ou gerados.\n",
        "  os.mkdir(corpora_caminho)\n",
        "\n",
        "print(f\"Diretório {corpora_caminho} criado com sucesso.\")\n"
      ],
      "metadata": {
        "id": "Ld0Thaj9nqzn"
      },
      "execution_count": null,
      "outputs": []
    },
    {
      "cell_type": "markdown",
      "source": [
        "## 1. Bases de dados públicas"
      ],
      "metadata": {
        "id": "pzFkGfrRd65P"
      }
    },
    {
      "cell_type": "markdown",
      "source": [
        "## Avaliação de produtos das americanas.com"
      ],
      "metadata": {
        "id": "q6aSu0KT4paP"
      }
    },
    {
      "cell_type": "markdown",
      "source": [
        "O B2W-Reviews01 representa uma rica coleção de avaliações de produtos disponibilizadas pela Americanas.com. Este conjunto aberto abrange mais de 130 mil opiniões de usuários do e-commerce, registradas de janeiro a maio de 2018. Além das valiosas percepções sobre os produtos, o B2W-Reviews01 destaca-se por oferecer detalhes sobre os consumidores que as escreveram, englobando informações como gênero, faixa etária e localização, tornando-o um recurso inestimável para análises de comportamento de compra e tendências de mercado."
      ],
      "metadata": {
        "id": "c0tgNZXdnG07"
      }
    },
    {
      "cell_type": "code",
      "execution_count": null,
      "metadata": {
        "id": "mVXqB01uDacX"
      },
      "outputs": [],
      "source": [
        "# Define a URL da base pública armazenada no Github.\n",
        "url = \"https://raw.githubusercontent.com/americanas-tech/b2w-reviews01/main/B2W-Reviews01.csv\""
      ]
    },
    {
      "cell_type": "code",
      "source": [
        "# Configuração do arquivo para armazenamento da base de dados.\n",
        "b2w_arquivo = \"b2w-reviews.csv\"\n",
        "b2w_caminho = os.path.join(corpora_caminho, b2w_arquivo)\n",
        "\n",
        "# Define o formato do arquivo. Necessário para arquivos textos\n",
        "# armazenados no raw.githubusercontent.com.\n",
        "parametros = {\"downloadformat\": \"csv\"}\n",
        "\n",
        "# Executa o download do arquivo especificado na URL com os parâmetros\n",
        "# especificados\n",
        "resposta = requests.get(url, params=parametros)\n",
        "if resposta.status_code == 200:\n",
        "  # Se o status for igual a 200 (sucesso), grava o arquivo no caminho\n",
        "  # especificado\n",
        "  with open(b2w_caminho, \"wb\") as f:\n",
        "    f.write(resposta.content)\n",
        "  print(f\"Download do {b2w_arquivo} concluído com sucesso!\")\n",
        "else:\n",
        "   print(f\"Falha no download do arquivo {b2w_arquivo}:\", resposta.status_code)\n"
      ],
      "metadata": {
        "id": "woasdVNlm_gU"
      },
      "execution_count": null,
      "outputs": []
    },
    {
      "cell_type": "code",
      "source": [
        "# O comando head do linux mostra as cinco primeiras linhas do arquivo gravado.\n",
        "!head -n 5 {b2w_caminho}"
      ],
      "metadata": {
        "id": "57kIS4iOsTM1"
      },
      "execution_count": null,
      "outputs": []
    },
    {
      "cell_type": "markdown",
      "source": [],
      "metadata": {
        "id": "sC7F4AFmJqXl"
      }
    },
    {
      "cell_type": "markdown",
      "source": [
        "## Revista Fapesp\n",
        "\n",
        "Este conjunto de dados inclui coleções em duas línguas: português para inglês e português para espanhol, provenientes das edições digitais da renomada revista científica brasileira REVISTA PESQUISA FAPESP. O que chama atenção é a forma de armazenamento dessas informações: um arquivo .tar.gz. Esse método de compactação é bastante popular em sistemas operacionais Linux, conhecido por sua eficiência na redução de tamanho de arquivos, mantendo a integridade dos dados.\n"
      ],
      "metadata": {
        "id": "GESEMBtz2LOD"
      }
    },
    {
      "cell_type": "markdown",
      "source": [],
      "metadata": {
        "id": "doC1hEFsUrgs"
      }
    },
    {
      "cell_type": "code",
      "source": [
        "# Define a URL da base de dados pública hospedada no GitHub, apontando para o\n",
        "# arquivo 'fapesp-corpora.tar.gz' disponível no repositório do NILC.\n",
        "url = \"http://www.nilc.icmc.usp.br/nilc/tools/fapesp-corpora.tar.gz\""
      ],
      "metadata": {
        "id": "53XQJi7SJtp2"
      },
      "execution_count": null,
      "outputs": []
    },
    {
      "cell_type": "code",
      "source": [
        "# Define o nome do arquivo para a base de dados da FAPESP e o caminho completo\n",
        "# onde o arquivo será salvo.\n",
        "fapesp_arquivo = \"fapesp-corpora.tar.gz\"\n",
        "fapesp_caminho = os.path.join(corpora_caminho, fapesp_arquivo)\n",
        "\n",
        "# Inicia o processo de download do arquivo da base de dados da FAPESP.\n",
        "# A requisição GET é feita para a URL fornecida, com o parâmetro 'stream=True'\n",
        "# para permitir o download de grandes arquivos de forma eficiente.\n",
        "resposta = requests.get(url, stream=True)\n",
        "\n",
        "# Verifica se a requisição foi bem-sucedida (código de status HTTP 200).\n",
        "if resposta.status_code == 200:\n",
        "  # Abre o arquivo no caminho especificado em modo de escrita binária ('wb')\n",
        "  # para salvar os dados baixados.\n",
        "  with open(fapesp_caminho, \"wb\") as f:\n",
        "      f.write(resposta.raw.read())\n",
        "\n",
        "  print('Download concluído com sucesso!')\n",
        "else:\n",
        "  print('Falha no download:', resposta.status_code)\n"
      ],
      "metadata": {
        "id": "tuI6JsiqWZQj"
      },
      "execution_count": null,
      "outputs": []
    },
    {
      "cell_type": "code",
      "source": [
        "# Abre o arquivo tar.gz especificado pelo caminho 'fapesp_caminho' no modo de\n",
        "# leitura.\n",
        "with tarfile.open(fapesp_caminho, \"r:gz\") as tar:\n",
        "  # Extrai todo o conteúdo do arquivo tar.gz para o diretório especificado\n",
        "  # em 'corpora_path'.\n",
        "  tar.extractall(path=corpora_caminho)\n",
        "\n",
        "print(f\"Arquivo {fapesp_caminho} descompactado com sucesso!\")"
      ],
      "metadata": {
        "id": "vYa0uaiDX07m"
      },
      "execution_count": null,
      "outputs": []
    },
    {
      "cell_type": "markdown",
      "source": [
        "## Kaggle\n",
        "\n",
        "Kaggle é uma plataforma online voltada para competições de ciência de dados e aprendizado de máquina. Atualmente, essa plataforma oferece aproximadamente mais do que 601 conjuntos de dados relacionados ao processamento de linguagem natural. A forma mais fácil para baixar essas bases de dados é utilizando a sua API. Primeiro, é necessário criar um arquivo json com o token para acesso à APIc, conforme as instruções neste [Link](https://scribehow.com/embed-preview/Create_a_New_Token_on_Kaggle__E160LnfsTU-n7vmkbVxang)"
      ],
      "metadata": {
        "id": "wdzl-vgzbUMH"
      }
    },
    {
      "cell_type": "code",
      "source": [
        "from google.colab import files\n",
        "files.upload()"
      ],
      "metadata": {
        "id": "OKhS_jUeeO0i"
      },
      "execution_count": null,
      "outputs": []
    },
    {
      "cell_type": "code",
      "source": [
        "! mkdir ~/.kaggle"
      ],
      "metadata": {
        "id": "wgDeXUTdfYI9"
      },
      "execution_count": null,
      "outputs": []
    },
    {
      "cell_type": "code",
      "source": [
        "!cp kaggle.json ~/.kaggle/\n",
        "! chmod 600 ~/.kaggle/kaggle.json"
      ],
      "metadata": {
        "id": "5OTiilVcfwNG"
      },
      "execution_count": null,
      "outputs": []
    },
    {
      "cell_type": "code",
      "source": [
        " !kaggle datasets list -s commonlit"
      ],
      "metadata": {
        "id": "C6eMgM4wf9DY"
      },
      "execution_count": null,
      "outputs": []
    },
    {
      "cell_type": "code",
      "source": [
        "!kaggle datasets files kononenko/commonlit-texts"
      ],
      "metadata": {
        "id": "cbYDWeH_gh9d"
      },
      "execution_count": null,
      "outputs": []
    },
    {
      "cell_type": "code",
      "source": [
        "!kaggle datasets download kononenko/commonlit-texts"
      ],
      "metadata": {
        "id": "orJAucXqePxH"
      },
      "execution_count": null,
      "outputs": []
    },
    {
      "cell_type": "code",
      "source": [
        "!unzip commonlit-texts.zip -d corpora"
      ],
      "metadata": {
        "id": "VurQl7SvjdMO"
      },
      "execution_count": null,
      "outputs": []
    },
    {
      "cell_type": "code",
      "source": [
        "!head corpora/commonlit_texts.csv"
      ],
      "metadata": {
        "id": "lWdkRvzFkEo8"
      },
      "execution_count": null,
      "outputs": []
    }
  ]
}